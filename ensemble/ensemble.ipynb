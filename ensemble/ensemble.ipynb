{
 "cells": [
  {
   "cell_type": "code",
   "id": "initial_id",
   "metadata": {
    "collapsed": true,
    "jupyter": {
     "is_executing": true
    }
   },
   "source": [
    "%pwd"
   ],
   "outputs": [],
   "execution_count": null
  },
  {
   "cell_type": "code",
   "outputs": [
    {
     "name": "stdout",
     "output_type": "stream",
     "text": [
      "sample_submission.csv  sub_900.csv  sub_alex.csv  sub_steven.csv  sub_yzz.csv\r\n"
     ]
    }
   ],
   "source": [
    "%ls"
   ],
   "metadata": {
    "collapsed": false,
    "ExecuteTime": {
     "end_time": "2024-04-10T02:05:04.485068Z",
     "start_time": "2024-04-10T02:05:04.367464Z"
    }
   },
   "id": "790698414977684",
   "execution_count": 2
  },
  {
   "metadata": {},
   "cell_type": "code",
   "outputs": [],
   "execution_count": null,
   "source": [
    "import pandas as pd\n",
    "import numpy as np\n",
    "import matplotlib.pyplot as plt\n",
    "import gc,os,random\n",
    "import time,datetime\n",
    "from tqdm import tqdm\n",
    "import subprocess\n",
    "import time"
   ],
   "id": "a6390cdc6380c668"
  },
  {
   "cell_type": "code",
   "outputs": [
    {
     "name": "stdout",
     "output_type": "stream",
     "text": [
      "[0.34673821719910836, 0.15912319068427358, 0.2669777921479776, 0.22716079996864047]\n"
     ]
    }
   ],
   "source": [
    "def generate_random_floats(n=4, target_sum=1):\n",
    "    random_numbers = [random.random() for _ in range(n)]\n",
    "    \n",
    "    total_sum = sum(random_numbers)\n",
    "    \n",
    "    normalized_numbers = [x / total_sum * target_sum for x in random_numbers]\n",
    "    \n",
    "    return normalized_numbers\n",
    "\n",
    "print(generate_random_floats())"
   ],
   "metadata": {
    "collapsed": false,
    "ExecuteTime": {
     "end_time": "2024-04-10T02:05:06.667009Z",
     "start_time": "2024-04-10T02:05:06.661736Z"
    }
   },
   "id": "caca9e55c6b8ac20",
   "execution_count": 3
  },
  {
   "cell_type": "code",
   "outputs": [],
   "source": [
    "def submit():\n",
    "    competition = \"amex-default-prediction\"\n",
    "    file_path = \"submission.csv\"\n",
    "    message = str(weights)\n",
    "    \n",
    "    command = [\n",
    "        \"kaggle\",\n",
    "        \"competitions\",\n",
    "        \"submit\",\n",
    "        \"-c\", competition,\n",
    "        \"-f\", file_path,\n",
    "        \"-m\", message\n",
    "    ]\n",
    "    \n",
    "    result = subprocess.run(command, capture_output=True, text=True)\n",
    "    \n",
    "    if result.returncode == 0:\n",
    "        print(\"Submission successful.\")\n",
    "        print(result.stdout)\n",
    "    else:\n",
    "        print(\"Error in submission.\")\n",
    "        print(result.stderr)\n",
    "        \n",
    "\n",
    "def reorder_dataframe(df, target_df, id_column='customer_ID'):\n",
    "    if id_column not in df.columns or id_column not in target_df.columns:\n",
    "        raise ValueError(f\"The id_column '{id_column}' must be present in both DataFrames.\")\n",
    "\n",
    "    df_indexed = df.set_index(id_column)\n",
    "    target_df_indexed = target_df.set_index(id_column)\n",
    "    ordered_df = df_indexed.loc[target_df_indexed.index]\n",
    "    ordered_df.reset_index(inplace=True)\n",
    "    \n",
    "    return ordered_df"
   ],
   "metadata": {
    "collapsed": false,
    "ExecuteTime": {
     "end_time": "2024-04-10T02:09:14.895683Z",
     "start_time": "2024-04-10T02:09:14.887827Z"
    }
   },
   "id": "70c5a4f53dfdf473",
   "execution_count": 8
  },
  {
   "cell_type": "code",
   "outputs": [],
   "source": [
    "p0 = pd.read_csv('sub_900.csv')\n",
    "p1 = pd.read_csv('sub_alex.csv')\n",
    "p2 = pd.read_csv('sub_steven.csv')\n",
    "p3 = pd.read_csv('sub_yzz.csv')\n",
    "ps = pd.read_csv('sample_submission.csv')"
   ],
   "metadata": {
    "collapsed": false,
    "ExecuteTime": {
     "end_time": "2024-04-10T02:05:47.524077Z",
     "start_time": "2024-04-10T02:05:39.907892Z"
    }
   },
   "id": "fe3cd23456a0be3c",
   "execution_count": 5
  },
  {
   "cell_type": "code",
   "outputs": [
    {
     "data": {
      "text/plain": "                                         customer_ID  prediction\n0  038be0571bd6b3776cb8512731968f4de302c811030124...    0.003654\n1  0074a0233ef766b52884608cc8cf9098f59d885b5d59fc...    0.000175\n2  060b8b7f30f795a0e93995d45b29461ffa6ece0eeb5c3d...    0.090316\n3  03a1d125bdd776000bf0b28238d0bea240ad581d332e70...    0.126974\n4  0290f245dd35ba899af52316ccc62b2627e7ae18cd76a2...    0.302497",
      "text/html": "<div>\n<style scoped>\n    .dataframe tbody tr th:only-of-type {\n        vertical-align: middle;\n    }\n\n    .dataframe tbody tr th {\n        vertical-align: top;\n    }\n\n    .dataframe thead th {\n        text-align: right;\n    }\n</style>\n<table border=\"1\" class=\"dataframe\">\n  <thead>\n    <tr style=\"text-align: right;\">\n      <th></th>\n      <th>customer_ID</th>\n      <th>prediction</th>\n    </tr>\n  </thead>\n  <tbody>\n    <tr>\n      <th>0</th>\n      <td>038be0571bd6b3776cb8512731968f4de302c811030124...</td>\n      <td>0.003654</td>\n    </tr>\n    <tr>\n      <th>1</th>\n      <td>0074a0233ef766b52884608cc8cf9098f59d885b5d59fc...</td>\n      <td>0.000175</td>\n    </tr>\n    <tr>\n      <th>2</th>\n      <td>060b8b7f30f795a0e93995d45b29461ffa6ece0eeb5c3d...</td>\n      <td>0.090316</td>\n    </tr>\n    <tr>\n      <th>3</th>\n      <td>03a1d125bdd776000bf0b28238d0bea240ad581d332e70...</td>\n      <td>0.126974</td>\n    </tr>\n    <tr>\n      <th>4</th>\n      <td>0290f245dd35ba899af52316ccc62b2627e7ae18cd76a2...</td>\n      <td>0.302497</td>\n    </tr>\n  </tbody>\n</table>\n</div>"
     },
     "execution_count": 7,
     "metadata": {},
     "output_type": "execute_result"
    }
   ],
   "source": [
    "p3.head()"
   ],
   "metadata": {
    "collapsed": false,
    "ExecuteTime": {
     "end_time": "2024-04-10T02:06:00.003704Z",
     "start_time": "2024-04-10T02:05:59.994305Z"
    }
   },
   "id": "e60b8118c2997881",
   "execution_count": 7
  },
  {
   "cell_type": "code",
   "outputs": [
    {
     "data": {
      "text/plain": "                                         customer_ID  prediction\n0  00000469ba478561f23a92a868bd366de6f6527a684c9a...           0\n1  00001bf2e77ff879fab36aa4fac689b9ba411dae63ae39...           0\n2  0000210045da4f81e5f122c6bde5c2a617d03eef67f82c...           0\n3  00003b41e58ede33b8daf61ab56d9952f17c9ad1c3976c...           0\n4  00004b22eaeeeb0ec976890c1d9bfc14fd9427e98c4ee9...           0",
      "text/html": "<div>\n<style scoped>\n    .dataframe tbody tr th:only-of-type {\n        vertical-align: middle;\n    }\n\n    .dataframe tbody tr th {\n        vertical-align: top;\n    }\n\n    .dataframe thead th {\n        text-align: right;\n    }\n</style>\n<table border=\"1\" class=\"dataframe\">\n  <thead>\n    <tr style=\"text-align: right;\">\n      <th></th>\n      <th>customer_ID</th>\n      <th>prediction</th>\n    </tr>\n  </thead>\n  <tbody>\n    <tr>\n      <th>0</th>\n      <td>00000469ba478561f23a92a868bd366de6f6527a684c9a...</td>\n      <td>0</td>\n    </tr>\n    <tr>\n      <th>1</th>\n      <td>00001bf2e77ff879fab36aa4fac689b9ba411dae63ae39...</td>\n      <td>0</td>\n    </tr>\n    <tr>\n      <th>2</th>\n      <td>0000210045da4f81e5f122c6bde5c2a617d03eef67f82c...</td>\n      <td>0</td>\n    </tr>\n    <tr>\n      <th>3</th>\n      <td>00003b41e58ede33b8daf61ab56d9952f17c9ad1c3976c...</td>\n      <td>0</td>\n    </tr>\n    <tr>\n      <th>4</th>\n      <td>00004b22eaeeeb0ec976890c1d9bfc14fd9427e98c4ee9...</td>\n      <td>0</td>\n    </tr>\n  </tbody>\n</table>\n</div>"
     },
     "execution_count": 6,
     "metadata": {},
     "output_type": "execute_result"
    }
   ],
   "source": [
    "ps.head()"
   ],
   "metadata": {
    "collapsed": false,
    "ExecuteTime": {
     "end_time": "2024-04-10T02:05:52.950078Z",
     "start_time": "2024-04-10T02:05:52.938221Z"
    }
   },
   "id": "c37101e8c3f4dd00",
   "execution_count": 6
  },
  {
   "cell_type": "code",
   "outputs": [],
   "source": [
    "p1 = reorder_dataframe(p1, ps, id_column='customer_ID')"
   ],
   "metadata": {
    "collapsed": false,
    "ExecuteTime": {
     "end_time": "2024-04-10T02:09:46.283360Z",
     "start_time": "2024-04-10T02:09:44.616048Z"
    }
   },
   "id": "cfb8589be207da37",
   "execution_count": 9
  },
  {
   "cell_type": "code",
   "outputs": [
    {
     "data": {
      "text/plain": "                                         customer_ID  prediction\n0  00000469ba478561f23a92a868bd366de6f6527a684c9a...    0.011121\n1  00001bf2e77ff879fab36aa4fac689b9ba411dae63ae39...    0.000639\n2  0000210045da4f81e5f122c6bde5c2a617d03eef67f82c...    0.020986\n3  00003b41e58ede33b8daf61ab56d9952f17c9ad1c3976c...    0.423092\n4  00004b22eaeeeb0ec976890c1d9bfc14fd9427e98c4ee9...    0.910606",
      "text/html": "<div>\n<style scoped>\n    .dataframe tbody tr th:only-of-type {\n        vertical-align: middle;\n    }\n\n    .dataframe tbody tr th {\n        vertical-align: top;\n    }\n\n    .dataframe thead th {\n        text-align: right;\n    }\n</style>\n<table border=\"1\" class=\"dataframe\">\n  <thead>\n    <tr style=\"text-align: right;\">\n      <th></th>\n      <th>customer_ID</th>\n      <th>prediction</th>\n    </tr>\n  </thead>\n  <tbody>\n    <tr>\n      <th>0</th>\n      <td>00000469ba478561f23a92a868bd366de6f6527a684c9a...</td>\n      <td>0.011121</td>\n    </tr>\n    <tr>\n      <th>1</th>\n      <td>00001bf2e77ff879fab36aa4fac689b9ba411dae63ae39...</td>\n      <td>0.000639</td>\n    </tr>\n    <tr>\n      <th>2</th>\n      <td>0000210045da4f81e5f122c6bde5c2a617d03eef67f82c...</td>\n      <td>0.020986</td>\n    </tr>\n    <tr>\n      <th>3</th>\n      <td>00003b41e58ede33b8daf61ab56d9952f17c9ad1c3976c...</td>\n      <td>0.423092</td>\n    </tr>\n    <tr>\n      <th>4</th>\n      <td>00004b22eaeeeb0ec976890c1d9bfc14fd9427e98c4ee9...</td>\n      <td>0.910606</td>\n    </tr>\n  </tbody>\n</table>\n</div>"
     },
     "execution_count": 10,
     "metadata": {},
     "output_type": "execute_result"
    }
   ],
   "source": [
    "p1.head()"
   ],
   "metadata": {
    "collapsed": false,
    "ExecuteTime": {
     "end_time": "2024-04-10T02:09:53.026199Z",
     "start_time": "2024-04-10T02:09:53.014573Z"
    }
   },
   "id": "6019489cd306ab6f",
   "execution_count": 10
  },
  {
   "cell_type": "code",
   "outputs": [
    {
     "data": {
      "text/plain": "                                         customer_ID  prediction\n0  00000469ba478561f23a92a868bd366de6f6527a684c9a...    0.015586\n1  00001bf2e77ff879fab36aa4fac689b9ba411dae63ae39...    0.000538\n2  0000210045da4f81e5f122c6bde5c2a617d03eef67f82c...    0.021498\n3  00003b41e58ede33b8daf61ab56d9952f17c9ad1c3976c...    0.348600\n4  00004b22eaeeeb0ec976890c1d9bfc14fd9427e98c4ee9...    0.897510",
      "text/html": "<div>\n<style scoped>\n    .dataframe tbody tr th:only-of-type {\n        vertical-align: middle;\n    }\n\n    .dataframe tbody tr th {\n        vertical-align: top;\n    }\n\n    .dataframe thead th {\n        text-align: right;\n    }\n</style>\n<table border=\"1\" class=\"dataframe\">\n  <thead>\n    <tr style=\"text-align: right;\">\n      <th></th>\n      <th>customer_ID</th>\n      <th>prediction</th>\n    </tr>\n  </thead>\n  <tbody>\n    <tr>\n      <th>0</th>\n      <td>00000469ba478561f23a92a868bd366de6f6527a684c9a...</td>\n      <td>0.015586</td>\n    </tr>\n    <tr>\n      <th>1</th>\n      <td>00001bf2e77ff879fab36aa4fac689b9ba411dae63ae39...</td>\n      <td>0.000538</td>\n    </tr>\n    <tr>\n      <th>2</th>\n      <td>0000210045da4f81e5f122c6bde5c2a617d03eef67f82c...</td>\n      <td>0.021498</td>\n    </tr>\n    <tr>\n      <th>3</th>\n      <td>00003b41e58ede33b8daf61ab56d9952f17c9ad1c3976c...</td>\n      <td>0.348600</td>\n    </tr>\n    <tr>\n      <th>4</th>\n      <td>00004b22eaeeeb0ec976890c1d9bfc14fd9427e98c4ee9...</td>\n      <td>0.897510</td>\n    </tr>\n  </tbody>\n</table>\n</div>"
     },
     "execution_count": 11,
     "metadata": {},
     "output_type": "execute_result"
    }
   ],
   "source": [
    "p3 = reorder_dataframe(p3, ps, id_column='customer_ID')\n",
    "p3.head()"
   ],
   "metadata": {
    "collapsed": false,
    "ExecuteTime": {
     "end_time": "2024-04-10T02:10:16.164958Z",
     "start_time": "2024-04-10T02:10:14.859834Z"
    }
   },
   "id": "6c36805d988a9c85",
   "execution_count": 11
  },
  {
   "cell_type": "code",
   "outputs": [
    {
     "data": {
      "text/plain": "                                         customer_ID  prediction\n0  00000469ba478561f23a92a868bd366de6f6527a684c9a...    0.096609\n1  00001bf2e77ff879fab36aa4fac689b9ba411dae63ae39...    0.003035\n2  0000210045da4f81e5f122c6bde5c2a617d03eef67f82c...    0.068820\n3  00003b41e58ede33b8daf61ab56d9952f17c9ad1c3976c...    0.324311\n4  00004b22eaeeeb0ec976890c1d9bfc14fd9427e98c4ee9...    0.865393",
      "text/html": "<div>\n<style scoped>\n    .dataframe tbody tr th:only-of-type {\n        vertical-align: middle;\n    }\n\n    .dataframe tbody tr th {\n        vertical-align: top;\n    }\n\n    .dataframe thead th {\n        text-align: right;\n    }\n</style>\n<table border=\"1\" class=\"dataframe\">\n  <thead>\n    <tr style=\"text-align: right;\">\n      <th></th>\n      <th>customer_ID</th>\n      <th>prediction</th>\n    </tr>\n  </thead>\n  <tbody>\n    <tr>\n      <th>0</th>\n      <td>00000469ba478561f23a92a868bd366de6f6527a684c9a...</td>\n      <td>0.096609</td>\n    </tr>\n    <tr>\n      <th>1</th>\n      <td>00001bf2e77ff879fab36aa4fac689b9ba411dae63ae39...</td>\n      <td>0.003035</td>\n    </tr>\n    <tr>\n      <th>2</th>\n      <td>0000210045da4f81e5f122c6bde5c2a617d03eef67f82c...</td>\n      <td>0.068820</td>\n    </tr>\n    <tr>\n      <th>3</th>\n      <td>00003b41e58ede33b8daf61ab56d9952f17c9ad1c3976c...</td>\n      <td>0.324311</td>\n    </tr>\n    <tr>\n      <th>4</th>\n      <td>00004b22eaeeeb0ec976890c1d9bfc14fd9427e98c4ee9...</td>\n      <td>0.865393</td>\n    </tr>\n  </tbody>\n</table>\n</div>"
     },
     "execution_count": 13,
     "metadata": {},
     "output_type": "execute_result"
    }
   ],
   "source": [
    "p0.head()"
   ],
   "metadata": {
    "collapsed": false,
    "ExecuteTime": {
     "end_time": "2024-04-10T02:11:31.101814Z",
     "start_time": "2024-04-10T02:11:31.091519Z"
    }
   },
   "id": "ed9d33b839dec806",
   "execution_count": 13
  },
  {
   "cell_type": "code",
   "outputs": [
    {
     "data": {
      "text/plain": "                                         customer_ID  prediction\n0  00000469ba478561f23a92a868bd366de6f6527a684c9a...    0.135561\n1  00001bf2e77ff879fab36aa4fac689b9ba411dae63ae39...    0.015856\n2  0000210045da4f81e5f122c6bde5c2a617d03eef67f82c...    0.091636\n3  00003b41e58ede33b8daf61ab56d9952f17c9ad1c3976c...    0.585854\n4  00004b22eaeeeb0ec976890c1d9bfc14fd9427e98c4ee9...    0.856718",
      "text/html": "<div>\n<style scoped>\n    .dataframe tbody tr th:only-of-type {\n        vertical-align: middle;\n    }\n\n    .dataframe tbody tr th {\n        vertical-align: top;\n    }\n\n    .dataframe thead th {\n        text-align: right;\n    }\n</style>\n<table border=\"1\" class=\"dataframe\">\n  <thead>\n    <tr style=\"text-align: right;\">\n      <th></th>\n      <th>customer_ID</th>\n      <th>prediction</th>\n    </tr>\n  </thead>\n  <tbody>\n    <tr>\n      <th>0</th>\n      <td>00000469ba478561f23a92a868bd366de6f6527a684c9a...</td>\n      <td>0.135561</td>\n    </tr>\n    <tr>\n      <th>1</th>\n      <td>00001bf2e77ff879fab36aa4fac689b9ba411dae63ae39...</td>\n      <td>0.015856</td>\n    </tr>\n    <tr>\n      <th>2</th>\n      <td>0000210045da4f81e5f122c6bde5c2a617d03eef67f82c...</td>\n      <td>0.091636</td>\n    </tr>\n    <tr>\n      <th>3</th>\n      <td>00003b41e58ede33b8daf61ab56d9952f17c9ad1c3976c...</td>\n      <td>0.585854</td>\n    </tr>\n    <tr>\n      <th>4</th>\n      <td>00004b22eaeeeb0ec976890c1d9bfc14fd9427e98c4ee9...</td>\n      <td>0.856718</td>\n    </tr>\n  </tbody>\n</table>\n</div>"
     },
     "execution_count": 14,
     "metadata": {},
     "output_type": "execute_result"
    }
   ],
   "source": [
    "p2.head()"
   ],
   "metadata": {
    "collapsed": false,
    "ExecuteTime": {
     "end_time": "2024-04-10T02:11:35.402328Z",
     "start_time": "2024-04-10T02:11:35.392857Z"
    }
   },
   "id": "87e4dcb6e29093e3",
   "execution_count": 14
  },
  {
   "cell_type": "code",
   "outputs": [],
   "source": [
    "\n",
    "p0['prediction'] = p0['prediction']*0.25 + p1['prediction']*0.25 + p2['prediction']*0.25 + p3['prediction']*0.25\n",
    "\n",
    "p0.to_csv('submission.csv',index=False)"
   ],
   "metadata": {
    "collapsed": false
   },
   "id": "de706181cc24141b",
   "execution_count": null
  },
  {
   "cell_type": "code",
   "outputs": [],
   "source": [
    "p0 = pd.read_csv('sub_900.csv')\n",
    "p1 = pd.read_csv('sub_alex.csv')\n",
    "p2 = pd.read_csv('sub_steven.csv')\n",
    "p3 = pd.read_csv('sub_yzz.csv')\n",
    "p0['prediction'] = p0['prediction']*0.2 + p1['prediction']*0.2 + p2['prediction']*0.1 + p3['prediction']*0.5\n",
    "\n",
    "p0.to_csv('submission.csv',index=False)"
   ],
   "metadata": {
    "collapsed": false,
    "ExecuteTime": {
     "end_time": "2024-04-09T21:43:44.947518Z",
     "start_time": "2024-04-09T21:43:38.313790Z"
    }
   },
   "id": "8f3896cc12714129",
   "execution_count": 13
  },
  {
   "cell_type": "code",
   "outputs": [
    {
     "name": "stdout",
     "output_type": "stream",
     "text": [
      "[0.1526874877001969, 0.1374463713920741, 0.41040547450838344, 0.29946066639934554]\n"
     ]
    }
   ],
   "source": [],
   "metadata": {
    "collapsed": false,
    "ExecuteTime": {
     "end_time": "2024-04-09T21:47:59.202405Z",
     "start_time": "2024-04-09T21:47:59.188712Z"
    }
   },
   "id": "f4fa9a1e4b674dc8",
   "execution_count": 16
  },
  {
   "cell_type": "code",
   "outputs": [],
   "source": [
    "p1 = pd.read_csv('sub_alex.csv')\n",
    "p2 = pd.read_csv('sub_steven.csv')\n",
    "p3 = pd.read_csv('sub_yzz.csv')"
   ],
   "metadata": {
    "collapsed": false
   },
   "id": "3ac787cdd4b71b9c",
   "execution_count": null
  },
  {
   "cell_type": "code",
   "outputs": [
    {
     "data": {
      "text/plain": "(924621, 924621, 924621, 924621)"
     },
     "execution_count": 38,
     "metadata": {},
     "output_type": "execute_result"
    }
   ],
   "source": [
    "len(p0), len(p1), len(p2), len(p3)"
   ],
   "metadata": {
    "collapsed": false,
    "ExecuteTime": {
     "end_time": "2024-04-10T03:03:32.729584Z",
     "start_time": "2024-04-10T03:03:32.718554Z"
    }
   },
   "id": "fe014ba16835e0c8",
   "execution_count": 38
  },
  {
   "cell_type": "code",
   "outputs": [
    {
     "name": "stdout",
     "output_type": "stream",
     "text": [
      "Submission successful.\n",
      "Warning: Your Kaggle API key is readable by other users on this system! To fix this, you can run 'chmod 600 /root/.kaggle/kaggle.json'\n",
      "Successfully submitted to American Express - Default Prediction\n"
     ]
    }
   ],
   "source": [
    "# transformer: 0.79802, gru: 0.79741\n",
    "weights = [0.15, 0.35, 0.1, 0.4]\n",
    "ps['prediction'] = p0['prediction']*weights[0] + p1['prediction']*weights[1] + p2['prediction']*weights[2] + p3['prediction']*weights[3]\n",
    "\n",
    "ps.to_csv('submission.csv',index=False)\n",
    "submit()"
   ],
   "metadata": {
    "collapsed": false,
    "ExecuteTime": {
     "end_time": "2024-04-10T03:01:27.003432Z",
     "start_time": "2024-04-10T03:01:20.925349Z"
    }
   },
   "id": "1e0c7858d0e3b064",
   "execution_count": 36
  },
  {
   "cell_type": "code",
   "outputs": [],
   "source": [
    "# [0.10005519471661235, 0.36994480528338763, 0.1, 0.43]"
   ],
   "metadata": {
    "collapsed": false
   },
   "id": "ac3afcc9b8a4c5b7",
   "execution_count": null
  },
  {
   "cell_type": "code",
   "outputs": [
    {
     "name": "stdout",
     "output_type": "stream",
     "text": [
      "Submission successful.\n",
      "Warning: Your Kaggle API key is readable by other users on this system! To fix this, you can run 'chmod 600 /root/.kaggle/kaggle.json'\n",
      "Successfully submitted to American Express - Default Prediction\n",
      "Submission successful.\n",
      "Warning: Your Kaggle API key is readable by other users on this system! To fix this, you can run 'chmod 600 /root/.kaggle/kaggle.json'\n",
      "Successfully submitted to American Express - Default Prediction\n",
      "Submission successful.\n",
      "Warning: Your Kaggle API key is readable by other users on this system! To fix this, you can run 'chmod 600 /root/.kaggle/kaggle.json'\n",
      "Successfully submitted to American Express - Default Prediction\n",
      "Submission successful.\n",
      "Warning: Your Kaggle API key is readable by other users on this system! To fix this, you can run 'chmod 600 /root/.kaggle/kaggle.json'\n",
      "Successfully submitted to American Express - Default Prediction\n",
      "Submission successful.\n",
      "Warning: Your Kaggle API key is readable by other users on this system! To fix this, you can run 'chmod 600 /root/.kaggle/kaggle.json'\n",
      "Successfully submitted to American Express - Default Prediction\n",
      "Submission successful.\n",
      "Warning: Your Kaggle API key is readable by other users on this system! To fix this, you can run 'chmod 600 /root/.kaggle/kaggle.json'\n",
      "Successfully submitted to American Express - Default Prediction\n",
      "Submission successful.\n",
      "Warning: Your Kaggle API key is readable by other users on this system! To fix this, you can run 'chmod 600 /root/.kaggle/kaggle.json'\n",
      "Successfully submitted to American Express - Default Prediction\n",
      "Submission successful.\n",
      "Warning: Your Kaggle API key is readable by other users on this system! To fix this, you can run 'chmod 600 /root/.kaggle/kaggle.json'\n",
      "Successfully submitted to American Express - Default Prediction\n",
      "Submission successful.\n",
      "Warning: Your Kaggle API key is readable by other users on this system! To fix this, you can run 'chmod 600 /root/.kaggle/kaggle.json'\n",
      "Successfully submitted to American Express - Default Prediction\n",
      "Submission successful.\n",
      "Warning: Your Kaggle API key is readable by other users on this system! To fix this, you can run 'chmod 600 /root/.kaggle/kaggle.json'\n",
      "Successfully submitted to American Express - Default Prediction\n",
      "Submission successful.\n",
      "Warning: Your Kaggle API key is readable by other users on this system! To fix this, you can run 'chmod 600 /root/.kaggle/kaggle.json'\n",
      "Successfully submitted to American Express - Default Prediction\n",
      "Submission successful.\n",
      "Warning: Your Kaggle API key is readable by other users on this system! To fix this, you can run 'chmod 600 /root/.kaggle/kaggle.json'\n",
      "Successfully submitted to American Express - Default Prediction\n",
      "Submission successful.\n",
      "Warning: Your Kaggle API key is readable by other users on this system! To fix this, you can run 'chmod 600 /root/.kaggle/kaggle.json'\n",
      "Successfully submitted to American Express - Default Prediction\n",
      "Submission successful.\n",
      "Warning: Your Kaggle API key is readable by other users on this system! To fix this, you can run 'chmod 600 /root/.kaggle/kaggle.json'\n",
      "Successfully submitted to American Express - Default Prediction\n",
      "Submission successful.\n",
      "Warning: Your Kaggle API key is readable by other users on this system! To fix this, you can run 'chmod 600 /root/.kaggle/kaggle.json'\n",
      "Successfully submitted to American Express - Default Prediction\n",
      "Submission successful.\n",
      "Warning: Your Kaggle API key is readable by other users on this system! To fix this, you can run 'chmod 600 /root/.kaggle/kaggle.json'\n",
      "Successfully submitted to American Express - Default Prediction\n",
      "Submission successful.\n",
      "Warning: Your Kaggle API key is readable by other users on this system! To fix this, you can run 'chmod 600 /root/.kaggle/kaggle.json'\n",
      "Successfully submitted to American Express - Default Prediction\n",
      "Submission successful.\n",
      "Warning: Your Kaggle API key is readable by other users on this system! To fix this, you can run 'chmod 600 /root/.kaggle/kaggle.json'\n",
      "Successfully submitted to American Express - Default Prediction\n",
      "Submission successful.\n",
      "Warning: Your Kaggle API key is readable by other users on this system! To fix this, you can run 'chmod 600 /root/.kaggle/kaggle.json'\n",
      "Successfully submitted to American Express - Default Prediction\n",
      "Submission successful.\n",
      "Warning: Your Kaggle API key is readable by other users on this system! To fix this, you can run 'chmod 600 /root/.kaggle/kaggle.json'\n",
      "Successfully submitted to American Express - Default Prediction\n"
     ]
    }
   ],
   "source": [
    "for _ in range(20):\n",
    "    weights = generate_random_floats(n=2, target_sum=0.25)\n",
    "    ps['prediction'] = p0['prediction']*weights[0] + p1['prediction']*0.35 + p2['prediction']*weights[1] + p3['prediction']*0.4\n",
    "\n",
    "    ps.to_csv('submission.csv',index=False)\n",
    "    submit()\n",
    "    time.sleep(3)"
   ],
   "metadata": {
    "collapsed": false,
    "ExecuteTime": {
     "end_time": "2024-04-10T03:08:24.975684Z",
     "start_time": "2024-04-10T03:05:29.911618Z"
    }
   },
   "id": "5691298334a4302a",
   "execution_count": 39
  }
 ],
 "metadata": {
  "kernelspec": {
   "display_name": "Python 3",
   "language": "python",
   "name": "python3"
  },
  "language_info": {
   "codemirror_mode": {
    "name": "ipython",
    "version": 2
   },
   "file_extension": ".py",
   "mimetype": "text/x-python",
   "name": "python",
   "nbconvert_exporter": "python",
   "pygments_lexer": "ipython2",
   "version": "2.7.6"
  }
 },
 "nbformat": 4,
 "nbformat_minor": 5
}
