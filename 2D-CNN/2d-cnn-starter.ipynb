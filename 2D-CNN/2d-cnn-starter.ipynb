{
 "metadata": {
  "kernelspec": {
   "language": "python",
   "display_name": "Python 3",
   "name": "python3"
  },
  "language_info": {
   "name": "python",
   "version": "3.7.12",
   "mimetype": "text/x-python",
   "codemirror_mode": {
    "name": "ipython",
    "version": 3
   },
   "pygments_lexer": "ipython3",
   "nbconvert_exporter": "python",
   "file_extension": ".py"
  },
  "kaggle": {
   "accelerator": "gpu",
   "dataSources": [
    {
     "sourceId": 35332,
     "databundleVersionId": 3723648,
     "sourceType": "competition"
    },
    {
     "sourceId": 3915710,
     "sourceType": "datasetVersion",
     "datasetId": 2325538
    }
   ],
   "dockerImageVersionId": 30209,
   "isInternetEnabled": true,
   "language": "python",
   "sourceType": "notebook",
   "isGpuEnabled": true
  }
 },
 "nbformat_minor": 4,
 "nbformat": 4,
 "cells": [
  {
   "cell_type": "code",
   "outputs": [
    {
     "data": {
      "text/plain": "'/workspace'"
     },
     "execution_count": 1,
     "metadata": {},
     "output_type": "execute_result"
    }
   ],
   "source": [
    "%pwd"
   ],
   "metadata": {
    "collapsed": false,
    "ExecuteTime": {
     "end_time": "2024-04-06T20:42:56.166952Z",
     "start_time": "2024-04-06T20:42:56.157940Z"
    }
   },
   "execution_count": 1
  },
  {
   "cell_type": "code",
   "outputs": [
    {
     "name": "stdout",
     "output_type": "stream",
     "text": [
      "\u001B[0m\u001B[01;34mmodels\u001B[0m/           sample_submission.csv  test_processed.ftr  \u001B[01;34mwandb\u001B[0m/\r\n",
      "\u001B[01;34mmodels_aug\u001B[0m/       submission.csv         train.parquet\r\n",
      "\u001B[01;34mpredictions\u001B[0m/      test.parquet           train_labels.csv\r\n",
      "\u001B[01;34mpredictions_aug\u001B[0m/  test_output.csv        training_data.ftr\r\n"
     ]
    }
   ],
   "source": [
    "%ls"
   ],
   "metadata": {
    "collapsed": false,
    "ExecuteTime": {
     "end_time": "2024-04-06T20:42:57.493398Z",
     "start_time": "2024-04-06T20:42:57.363838Z"
    }
   },
   "execution_count": 2
  },
  {
   "cell_type": "code",
   "outputs": [
    {
     "name": "stderr",
     "output_type": "stream",
     "text": [
      "2024-04-06 22:24:58.555836: I tensorflow/core/platform/cpu_feature_guard.cc:210] This TensorFlow binary is optimized to use available CPU instructions in performance-critical operations.\n",
      "To enable the following instructions: AVX2 FMA, in other operations, rebuild TensorFlow with the appropriate compiler flags.\n"
     ]
    }
   ],
   "source": [
    "import numpy as np \n",
    "import pandas as pd\n",
    "import os, gc\n",
    "import matplotlib.pyplot as plt\n",
    "import sklearn\n",
    "from sklearn.model_selection import StratifiedKFold\n",
    "from tensorflow.keras import layers\n",
    "from tensorflow import keras\n",
    "import tensorflow as tf\n",
    "from keras.callbacks import ModelCheckpoint, EarlyStopping, ReduceLROnPlateau,LearningRateScheduler\n",
    "from tab2img.converter import Tab2Img\n",
    "from sklearn.preprocessing import StandardScaler\n",
    "import warnings\n",
    "import wandb\n",
    "from wandb.keras import WandbMetricsLogger, WandbModelCheckpoint"
   ],
   "metadata": {
    "_uuid": "8f2839f25d086af736a60e9eeb907d3b93b6e0e5",
    "_cell_guid": "b1076dfc-b9ad-4769-8c92-a6c4dae69d19",
    "execution": {
     "iopub.status.busy": "2024-04-05T15:21:49.009311Z",
     "iopub.execute_input": "2024-04-05T15:21:49.009827Z",
     "iopub.status.idle": "2024-04-05T15:21:54.491094Z",
     "shell.execute_reply.started": "2024-04-05T15:21:49.009735Z",
     "shell.execute_reply": "2024-04-05T15:21:54.490233Z"
    },
    "trusted": true,
    "ExecuteTime": {
     "end_time": "2024-04-06T22:25:00.258828Z",
     "start_time": "2024-04-06T22:24:57.013236Z"
    }
   },
   "execution_count": 1
  },
  {
   "cell_type": "code",
   "outputs": [],
   "source": [
    "os.environ[\"WANDB_PROJECT\"]=\"cnn\"\n",
    "os.environ[\"WANDB_LOG_MODEL\"] = \"checkpoint\"\n",
    "model_path = \"./models_d\"\n",
    "pred_path = \"./predictions_d\"\n",
    "\n",
    "os.mkdir(model_path)\n",
    "os.mkdir(pred_path)"
   ],
   "metadata": {
    "collapsed": false,
    "ExecuteTime": {
     "end_time": "2024-04-06T22:25:10.880068Z",
     "start_time": "2024-04-06T22:25:10.875418Z"
    }
   },
   "execution_count": 2
  },
  {
   "cell_type": "code",
   "outputs": [
    {
     "data": {
      "text/plain": "True"
     },
     "execution_count": 4,
     "metadata": {},
     "output_type": "execute_result"
    }
   ],
   "source": [
    "wandb.login()"
   ],
   "metadata": {
    "collapsed": false,
    "ExecuteTime": {
     "end_time": "2024-04-06T22:25:18.116445Z",
     "start_time": "2024-04-06T22:25:18.108419Z"
    }
   },
   "execution_count": 4
  },
  {
   "cell_type": "code",
   "outputs": [],
   "source": [
    "def amex_metric_mod(y_true, y_pred):\n",
    "    \n",
    "    labels = np.transpose(np.array([y_true, y_pred]))\n",
    "    labels = labels[labels[:, 1].argsort()[::-1]]\n",
    "    weights = np.where(labels[:, 0] == 0, 20, 1)\n",
    "    cut_vals = labels[np.cumsum(weights) <= int(0.04 * np.sum(weights))]\n",
    "    top_four = np.sum(cut_vals[:, 0]) / np.sum(labels[:, 0])\n",
    "\n",
    "    gini = [0, 0]\n",
    "    for i in [1, 0]:\n",
    "        labels = np.transpose(np.array([y_true, y_pred]))\n",
    "        labels = labels[labels[:, i].argsort()[::-1]]\n",
    "        weight = np.where(labels[:, 0] == 0, 20, 1)\n",
    "        weight_random = np.cumsum(weight / np.sum(weight))\n",
    "        total_pos = np.sum(labels[:, 0] * weight)\n",
    "        cum_pos_found = np.cumsum(labels[:, 0] * weight)\n",
    "        lorentz = cum_pos_found / total_pos\n",
    "        gini[i] = np.sum((lorentz - weight_random) * weight)\n",
    "\n",
    "    return 0.5 * (gini[1] / gini[0] + top_four)\n",
    "\n",
    "def read_file(path = '', usecols = None):\n",
    "    if usecols is not None: df = pd.read_parquet(path, columns=usecols)\n",
    "    else: df = pd.read_parquet(path)\n",
    "\n",
    "    df.S_2 = pd.to_datetime( df.S_2 )\n",
    "    # Most numerical variables are 0 or greater and therefore the value -0.5 is distinct and will allow the model to recognize when and where the variable is NAN.\n",
    "    df = df.fillna(-0.5) \n",
    "    print('shape of data:', df.shape)\n",
    "    \n",
    "    return df\n",
    "\n",
    "def process_and_feature_engineer(df):\n",
    "    all_cols = [c for c in list(df.columns) if c not in ['customer_ID','S_2']]\n",
    "    cat_features = [\"B_30\",\"B_38\",\"D_114\",\"D_116\",\"D_117\",\"D_120\",\"D_126\",\"D_63\",\"D_64\",\"D_66\",\"D_68\"]\n",
    "    num_features = [col for col in all_cols if col not in cat_features]\n",
    "    print(\"Number of num_features: \", len(num_features))\n",
    "    \n",
    "\n",
    "    test_num_agg = df.groupby(\"customer_ID\")[num_features].agg(['mean', 'min', 'max', 'last'])\n",
    "    test_num_agg.columns = ['_'.join(x) for x in test_num_agg.columns]\n",
    "\n",
    "    test_cat_agg = df.groupby(\"customer_ID\")[cat_features].agg(['count', 'last', 'nunique'])\n",
    "    test_cat_agg.columns = ['_'.join(x) for x in test_cat_agg.columns]\n",
    "\n",
    "    df = pd.concat([test_num_agg, test_cat_agg], axis=1)\n",
    "    del test_num_agg, test_cat_agg\n",
    "    print('shape after engineering', df.shape )\n",
    "    \n",
    "    return df"
   ],
   "metadata": {
    "collapsed": false,
    "ExecuteTime": {
     "end_time": "2024-04-06T22:25:20.972654Z",
     "start_time": "2024-04-06T22:25:20.957576Z"
    }
   },
   "execution_count": 5
  },
  {
   "cell_type": "code",
   "outputs": [
    {
     "name": "stdout",
     "output_type": "stream",
     "text": [
      "shape of data: (5531451, 190)\n",
      "Number of num_features:  177\n",
      "shape after engineering (458913, 741)\n"
     ]
    }
   ],
   "source": [
    "train = process_and_feature_engineer(read_file(path = 'train.parquet'))"
   ],
   "metadata": {
    "collapsed": false,
    "ExecuteTime": {
     "end_time": "2024-04-06T22:26:22.241094Z",
     "start_time": "2024-04-06T22:25:46.976615Z"
    }
   },
   "execution_count": 6
  },
  {
   "cell_type": "code",
   "outputs": [
    {
     "data": {
      "text/plain": "0"
     },
     "execution_count": 7,
     "metadata": {},
     "output_type": "execute_result"
    }
   ],
   "source": [
    "train.isna().sum().sum()"
   ],
   "metadata": {
    "collapsed": false,
    "ExecuteTime": {
     "end_time": "2024-04-06T22:26:22.448139Z",
     "start_time": "2024-04-06T22:26:22.242906Z"
    }
   },
   "execution_count": 7
  },
  {
   "cell_type": "code",
   "outputs": [
    {
     "data": {
      "text/plain": "                                                    P_2_mean   P_2_min  \\\ncustomer_ID                                                              \n0000099d6bd597052cdcda90ffabf56573fe9d7c79be5fb...  0.933824  0.868580   \n00000fd6641609c6ece5454664794f0340ad84dddce9a26...  0.899820  0.861109   \n00001b22f846c82c51f6e3958ccd81970162bae8b007e80...  0.878454  0.797670   \n000041bdba6ecadd89a52d11886e8eaaec9325906c97233...  0.598969  0.567442   \n00007889e4fcd2614b6cbe7f8f3d2e5c728eca32d9eb8ad...  0.891679  0.805045   \n\n                                                     P_2_max  P_2_last  \\\ncustomer_ID                                                              \n0000099d6bd597052cdcda90ffabf56573fe9d7c79be5fb...  0.960384  0.934745   \n00000fd6641609c6ece5454664794f0340ad84dddce9a26...  0.929122  0.880519   \n00001b22f846c82c51f6e3958ccd81970162bae8b007e80...  0.904482  0.880875   \n000041bdba6ecadd89a52d11886e8eaaec9325906c97233...  0.623392  0.621776   \n00007889e4fcd2614b6cbe7f8f3d2e5c728eca32d9eb8ad...  0.940382  0.871900   \n\n                                                    D_39_mean  D_39_min  \\\ncustomer_ID                                                               \n0000099d6bd597052cdcda90ffabf56573fe9d7c79be5fb...   0.230769         0   \n00000fd6641609c6ece5454664794f0340ad84dddce9a26...   7.153846         0   \n00001b22f846c82c51f6e3958ccd81970162bae8b007e80...   0.000000         0   \n000041bdba6ecadd89a52d11886e8eaaec9325906c97233...   1.538462         0   \n00007889e4fcd2614b6cbe7f8f3d2e5c728eca32d9eb8ad...   0.000000         0   \n\n                                                    D_39_max  D_39_last  \\\ncustomer_ID                                                               \n0000099d6bd597052cdcda90ffabf56573fe9d7c79be5fb...         3          0   \n00000fd6641609c6ece5454664794f0340ad84dddce9a26...        19          6   \n00001b22f846c82c51f6e3958ccd81970162bae8b007e80...         0          0   \n000041bdba6ecadd89a52d11886e8eaaec9325906c97233...         9          0   \n00007889e4fcd2614b6cbe7f8f3d2e5c728eca32d9eb8ad...         0          0   \n\n                                                    B_1_mean   B_1_min  ...  \\\ncustomer_ID                                                             ...   \n0000099d6bd597052cdcda90ffabf56573fe9d7c79be5fb...  0.012007  0.001930  ...   \n00000fd6641609c6ece5454664794f0340ad84dddce9a26...  0.025654  0.006711  ...   \n00001b22f846c82c51f6e3958ccd81970162bae8b007e80...  0.004386  0.001472  ...   \n000041bdba6ecadd89a52d11886e8eaaec9325906c97233...  0.059876  0.005910  ...   \n00007889e4fcd2614b6cbe7f8f3d2e5c728eca32d9eb8ad...  0.005941  0.000776  ...   \n\n                                                    D_63_nunique  D_64_count  \\\ncustomer_ID                                                                    \n0000099d6bd597052cdcda90ffabf56573fe9d7c79be5fb...             1          13   \n00000fd6641609c6ece5454664794f0340ad84dddce9a26...             1          13   \n00001b22f846c82c51f6e3958ccd81970162bae8b007e80...             1          13   \n000041bdba6ecadd89a52d11886e8eaaec9325906c97233...             1          13   \n00007889e4fcd2614b6cbe7f8f3d2e5c728eca32d9eb8ad...             1          13   \n\n                                                    D_64_last  D_64_nunique  \\\ncustomer_ID                                                                   \n0000099d6bd597052cdcda90ffabf56573fe9d7c79be5fb...          0             1   \n00000fd6641609c6ece5454664794f0340ad84dddce9a26...          0             1   \n00001b22f846c82c51f6e3958ccd81970162bae8b007e80...          2             1   \n000041bdba6ecadd89a52d11886e8eaaec9325906c97233...          0             1   \n00007889e4fcd2614b6cbe7f8f3d2e5c728eca32d9eb8ad...          0             1   \n\n                                                    D_66_count  D_66_last  \\\ncustomer_ID                                                                 \n0000099d6bd597052cdcda90ffabf56573fe9d7c79be5fb...          13         -1   \n00000fd6641609c6ece5454664794f0340ad84dddce9a26...          13         -1   \n00001b22f846c82c51f6e3958ccd81970162bae8b007e80...          13         -1   \n000041bdba6ecadd89a52d11886e8eaaec9325906c97233...          13         -1   \n00007889e4fcd2614b6cbe7f8f3d2e5c728eca32d9eb8ad...          13          1   \n\n                                                    D_66_nunique  D_68_count  \\\ncustomer_ID                                                                    \n0000099d6bd597052cdcda90ffabf56573fe9d7c79be5fb...             1          13   \n00000fd6641609c6ece5454664794f0340ad84dddce9a26...             1          13   \n00001b22f846c82c51f6e3958ccd81970162bae8b007e80...             1          13   \n000041bdba6ecadd89a52d11886e8eaaec9325906c97233...             1          13   \n00007889e4fcd2614b6cbe7f8f3d2e5c728eca32d9eb8ad...             1          13   \n\n                                                    D_68_last  D_68_nunique  \ncustomer_ID                                                                  \n0000099d6bd597052cdcda90ffabf56573fe9d7c79be5fb...          6             1  \n00000fd6641609c6ece5454664794f0340ad84dddce9a26...          6             1  \n00001b22f846c82c51f6e3958ccd81970162bae8b007e80...          6             1  \n000041bdba6ecadd89a52d11886e8eaaec9325906c97233...          3             3  \n00007889e4fcd2614b6cbe7f8f3d2e5c728eca32d9eb8ad...          6             1  \n\n[5 rows x 741 columns]",
      "text/html": "<div>\n<style scoped>\n    .dataframe tbody tr th:only-of-type {\n        vertical-align: middle;\n    }\n\n    .dataframe tbody tr th {\n        vertical-align: top;\n    }\n\n    .dataframe thead th {\n        text-align: right;\n    }\n</style>\n<table border=\"1\" class=\"dataframe\">\n  <thead>\n    <tr style=\"text-align: right;\">\n      <th></th>\n      <th>P_2_mean</th>\n      <th>P_2_min</th>\n      <th>P_2_max</th>\n      <th>P_2_last</th>\n      <th>D_39_mean</th>\n      <th>D_39_min</th>\n      <th>D_39_max</th>\n      <th>D_39_last</th>\n      <th>B_1_mean</th>\n      <th>B_1_min</th>\n      <th>...</th>\n      <th>D_63_nunique</th>\n      <th>D_64_count</th>\n      <th>D_64_last</th>\n      <th>D_64_nunique</th>\n      <th>D_66_count</th>\n      <th>D_66_last</th>\n      <th>D_66_nunique</th>\n      <th>D_68_count</th>\n      <th>D_68_last</th>\n      <th>D_68_nunique</th>\n    </tr>\n    <tr>\n      <th>customer_ID</th>\n      <th></th>\n      <th></th>\n      <th></th>\n      <th></th>\n      <th></th>\n      <th></th>\n      <th></th>\n      <th></th>\n      <th></th>\n      <th></th>\n      <th></th>\n      <th></th>\n      <th></th>\n      <th></th>\n      <th></th>\n      <th></th>\n      <th></th>\n      <th></th>\n      <th></th>\n      <th></th>\n      <th></th>\n    </tr>\n  </thead>\n  <tbody>\n    <tr>\n      <th>0000099d6bd597052cdcda90ffabf56573fe9d7c79be5fbac11a8ed792feb62a</th>\n      <td>0.933824</td>\n      <td>0.868580</td>\n      <td>0.960384</td>\n      <td>0.934745</td>\n      <td>0.230769</td>\n      <td>0</td>\n      <td>3</td>\n      <td>0</td>\n      <td>0.012007</td>\n      <td>0.001930</td>\n      <td>...</td>\n      <td>1</td>\n      <td>13</td>\n      <td>0</td>\n      <td>1</td>\n      <td>13</td>\n      <td>-1</td>\n      <td>1</td>\n      <td>13</td>\n      <td>6</td>\n      <td>1</td>\n    </tr>\n    <tr>\n      <th>00000fd6641609c6ece5454664794f0340ad84dddce9a267a310b5ae68e9d8e5</th>\n      <td>0.899820</td>\n      <td>0.861109</td>\n      <td>0.929122</td>\n      <td>0.880519</td>\n      <td>7.153846</td>\n      <td>0</td>\n      <td>19</td>\n      <td>6</td>\n      <td>0.025654</td>\n      <td>0.006711</td>\n      <td>...</td>\n      <td>1</td>\n      <td>13</td>\n      <td>0</td>\n      <td>1</td>\n      <td>13</td>\n      <td>-1</td>\n      <td>1</td>\n      <td>13</td>\n      <td>6</td>\n      <td>1</td>\n    </tr>\n    <tr>\n      <th>00001b22f846c82c51f6e3958ccd81970162bae8b007e80662ef27519fcc18c1</th>\n      <td>0.878454</td>\n      <td>0.797670</td>\n      <td>0.904482</td>\n      <td>0.880875</td>\n      <td>0.000000</td>\n      <td>0</td>\n      <td>0</td>\n      <td>0</td>\n      <td>0.004386</td>\n      <td>0.001472</td>\n      <td>...</td>\n      <td>1</td>\n      <td>13</td>\n      <td>2</td>\n      <td>1</td>\n      <td>13</td>\n      <td>-1</td>\n      <td>1</td>\n      <td>13</td>\n      <td>6</td>\n      <td>1</td>\n    </tr>\n    <tr>\n      <th>000041bdba6ecadd89a52d11886e8eaaec9325906c9723355abb5ca523658edc</th>\n      <td>0.598969</td>\n      <td>0.567442</td>\n      <td>0.623392</td>\n      <td>0.621776</td>\n      <td>1.538462</td>\n      <td>0</td>\n      <td>9</td>\n      <td>0</td>\n      <td>0.059876</td>\n      <td>0.005910</td>\n      <td>...</td>\n      <td>1</td>\n      <td>13</td>\n      <td>0</td>\n      <td>1</td>\n      <td>13</td>\n      <td>-1</td>\n      <td>1</td>\n      <td>13</td>\n      <td>3</td>\n      <td>3</td>\n    </tr>\n    <tr>\n      <th>00007889e4fcd2614b6cbe7f8f3d2e5c728eca32d9eb8ad51ca8b8c4a24cefed</th>\n      <td>0.891679</td>\n      <td>0.805045</td>\n      <td>0.940382</td>\n      <td>0.871900</td>\n      <td>0.000000</td>\n      <td>0</td>\n      <td>0</td>\n      <td>0</td>\n      <td>0.005941</td>\n      <td>0.000776</td>\n      <td>...</td>\n      <td>1</td>\n      <td>13</td>\n      <td>0</td>\n      <td>1</td>\n      <td>13</td>\n      <td>1</td>\n      <td>1</td>\n      <td>13</td>\n      <td>6</td>\n      <td>1</td>\n    </tr>\n  </tbody>\n</table>\n<p>5 rows × 741 columns</p>\n</div>"
     },
     "execution_count": 8,
     "metadata": {},
     "output_type": "execute_result"
    }
   ],
   "source": [
    "train.head()"
   ],
   "metadata": {
    "collapsed": false,
    "ExecuteTime": {
     "end_time": "2024-04-06T22:26:22.462495Z",
     "start_time": "2024-04-06T22:26:22.449519Z"
    }
   },
   "execution_count": 8
  },
  {
   "cell_type": "code",
   "source": "target = pd.read_csv(\"train_labels.csv\").target",
   "metadata": {
    "execution": {
     "iopub.status.busy": "2024-04-05T15:22:06.673532Z",
     "iopub.execute_input": "2024-04-05T15:22:06.673840Z",
     "iopub.status.idle": "2024-04-05T15:22:11.292938Z",
     "shell.execute_reply.started": "2024-04-05T15:22:06.673805Z",
     "shell.execute_reply": "2024-04-05T15:22:11.291845Z"
    },
    "trusted": true,
    "ExecuteTime": {
     "end_time": "2024-04-06T22:26:22.821351Z",
     "start_time": "2024-04-06T22:26:22.464014Z"
    }
   },
   "execution_count": 9,
   "outputs": []
  },
  {
   "cell_type": "code",
   "source": [
    "ss  = StandardScaler()\n",
    "# Scale the data\n",
    "train = ss.fit_transform(train)\n",
    "# transform 1d tabular data to images\n",
    "converter = Tab2Img()\n",
    "images = converter.fit_transform(train, target.values)\n",
    "images[0].shape"
   ],
   "metadata": {
    "execution": {
     "iopub.status.busy": "2024-04-05T15:22:12.220417Z",
     "iopub.execute_input": "2024-04-05T15:22:12.220793Z",
     "iopub.status.idle": "2024-04-05T15:22:12.225363Z",
     "shell.execute_reply.started": "2024-04-05T15:22:12.220755Z",
     "shell.execute_reply": "2024-04-05T15:22:12.224435Z"
    },
    "trusted": true,
    "ExecuteTime": {
     "end_time": "2024-04-06T22:26:33.500206Z",
     "start_time": "2024-04-06T22:26:22.822795Z"
    }
   },
   "execution_count": 10,
   "outputs": [
    {
     "data": {
      "text/plain": "(28, 28)"
     },
     "execution_count": 10,
     "metadata": {},
     "output_type": "execute_result"
    }
   ]
  },
  {
   "cell_type": "code",
   "source": [
    "fig, ax = plt.subplots(3, 4, figsize=(15, 10))\n",
    "ax = ax.flatten()\n",
    "for i in range(12):\n",
    "    ax[i].title.set_text(f\"target = {target[i]}\")\n",
    "    ax[i].imshow(images[i], cmap = \"gray\")\n",
    "plt.show()"
   ],
   "metadata": {
    "execution": {
     "iopub.status.busy": "2024-04-05T15:22:23.282923Z",
     "iopub.execute_input": "2024-04-05T15:22:23.283201Z",
     "iopub.status.idle": "2024-04-05T15:22:24.445272Z",
     "shell.execute_reply.started": "2024-04-05T15:22:23.283175Z",
     "shell.execute_reply": "2024-04-05T15:22:24.444293Z"
    },
    "trusted": true,
    "ExecuteTime": {
     "end_time": "2024-04-06T22:26:34.355801Z",
     "start_time": "2024-04-06T22:26:33.501545Z"
    }
   },
   "execution_count": 11,
   "outputs": [
    {
     "data": {
      "text/plain": "<Figure size 1500x1000 with 12 Axes>",
      "image/png": "[encoded data removed]"
     },
     "metadata": {},
     "output_type": "display_data"
    }
   ]
  },
  {
   "metadata": {},
   "cell_type": "markdown",
   "source": "# Add bottle neck layers in the U-Net."
  },
  {
   "cell_type": "code",
   "outputs": [
    {
     "name": "stderr",
     "output_type": "stream",
     "text": [
      "2024-04-06 22:26:51.931827: I external/local_xla/xla/stream_executor/cuda/cuda_executor.cc:998] successful NUMA node read from SysFS had negative value (-1), but there must be at least one NUMA node, so returning NUMA node zero. See more at https://github.com/torvalds/linux/blob/v6.0/Documentation/ABI/testing/sysfs-bus-pci#L344-L355\n",
      "2024-04-06 22:26:51.952487: I external/local_xla/xla/stream_executor/cuda/cuda_executor.cc:998] successful NUMA node read from SysFS had negative value (-1), but there must be at least one NUMA node, so returning NUMA node zero. See more at https://github.com/torvalds/linux/blob/v6.0/Documentation/ABI/testing/sysfs-bus-pci#L344-L355\n",
      "2024-04-06 22:26:51.953031: I external/local_xla/xla/stream_executor/cuda/cuda_executor.cc:998] successful NUMA node read from SysFS had negative value (-1), but there must be at least one NUMA node, so returning NUMA node zero. See more at https://github.com/torvalds/linux/blob/v6.0/Documentation/ABI/testing/sysfs-bus-pci#L344-L355\n",
      "2024-04-06 22:26:51.959165: I external/local_xla/xla/stream_executor/cuda/cuda_executor.cc:998] successful NUMA node read from SysFS had negative value (-1), but there must be at least one NUMA node, so returning NUMA node zero. See more at https://github.com/torvalds/linux/blob/v6.0/Documentation/ABI/testing/sysfs-bus-pci#L344-L355\n",
      "2024-04-06 22:26:51.959650: I external/local_xla/xla/stream_executor/cuda/cuda_executor.cc:998] successful NUMA node read from SysFS had negative value (-1), but there must be at least one NUMA node, so returning NUMA node zero. See more at https://github.com/torvalds/linux/blob/v6.0/Documentation/ABI/testing/sysfs-bus-pci#L344-L355\n",
      "2024-04-06 22:26:51.960116: I external/local_xla/xla/stream_executor/cuda/cuda_executor.cc:998] successful NUMA node read from SysFS had negative value (-1), but there must be at least one NUMA node, so returning NUMA node zero. See more at https://github.com/torvalds/linux/blob/v6.0/Documentation/ABI/testing/sysfs-bus-pci#L344-L355\n",
      "2024-04-06 22:26:52.067167: I external/local_xla/xla/stream_executor/cuda/cuda_executor.cc:998] successful NUMA node read from SysFS had negative value (-1), but there must be at least one NUMA node, so returning NUMA node zero. See more at https://github.com/torvalds/linux/blob/v6.0/Documentation/ABI/testing/sysfs-bus-pci#L344-L355\n",
      "2024-04-06 22:26:52.067683: I external/local_xla/xla/stream_executor/cuda/cuda_executor.cc:998] successful NUMA node read from SysFS had negative value (-1), but there must be at least one NUMA node, so returning NUMA node zero. See more at https://github.com/torvalds/linux/blob/v6.0/Documentation/ABI/testing/sysfs-bus-pci#L344-L355\n",
      "2024-04-06 22:26:52.068182: I external/local_xla/xla/stream_executor/cuda/cuda_executor.cc:998] successful NUMA node read from SysFS had negative value (-1), but there must be at least one NUMA node, so returning NUMA node zero. See more at https://github.com/torvalds/linux/blob/v6.0/Documentation/ABI/testing/sysfs-bus-pci#L344-L355\n",
      "2024-04-06 22:26:52.068610: I tensorflow/core/common_runtime/gpu/gpu_device.cc:1928] Created device /job:localhost/replica:0/task:0/device:GPU:0 with 22455 MB memory:  -> device: 0, name: NVIDIA GeForce RTX 3090, pci bus id: 0000:01:00.0, compute capability: 8.6\n"
     ]
    },
    {
     "data": {
      "text/plain": "\u001B[1mModel: \"functional_1\"\u001B[0m\n",
      "text/html": "<pre style=\"white-space:pre;overflow-x:auto;line-height:normal;font-family:Menlo,'DejaVu Sans Mono',consolas,'Courier New',monospace\"><span style=\"font-weight: bold\">Model: \"functional_1\"</span>\n</pre>\n"
     },
     "metadata": {},
     "output_type": "display_data"
    },
    {
     "data": {
      "text/plain": "┏━━━━━━━━━━━━━━━━━━━━━┳━━━━━━━━━━━━━━━━━━━┳━━━━━━━━━━━━┳━━━━━━━━━━━━━━━━━━━┓\n┃\u001B[1m \u001B[0m\u001B[1mLayer (type)       \u001B[0m\u001B[1m \u001B[0m┃\u001B[1m \u001B[0m\u001B[1mOutput Shape     \u001B[0m\u001B[1m \u001B[0m┃\u001B[1m \u001B[0m\u001B[1m   Param #\u001B[0m\u001B[1m \u001B[0m┃\u001B[1m \u001B[0m\u001B[1mConnected to     \u001B[0m\u001B[1m \u001B[0m┃\n┡━━━━━━━━━━━━━━━━━━━━━╇━━━━━━━━━━━━━━━━━━━╇━━━━━━━━━━━━╇━━━━━━━━━━━━━━━━━━━┩\n│ input_layer         │ (\u001B[38;5;45mNone\u001B[0m, \u001B[38;5;34m28\u001B[0m, \u001B[38;5;34m28\u001B[0m, \u001B[38;5;34m1\u001B[0m) │          \u001B[38;5;34m0\u001B[0m │ -                 │\n│ (\u001B[38;5;33mInputLayer\u001B[0m)        │                   │            │                   │\n├─────────────────────┼───────────────────┼────────────┼───────────────────┤\n│ zero_padding2d      │ (\u001B[38;5;45mNone\u001B[0m, \u001B[38;5;34m32\u001B[0m, \u001B[38;5;34m32\u001B[0m, \u001B[38;5;34m1\u001B[0m) │          \u001B[38;5;34m0\u001B[0m │ input_layer[\u001B[38;5;34m0\u001B[0m][\u001B[38;5;34m0\u001B[0m] │\n│ (\u001B[38;5;33mZeroPadding2D\u001B[0m)     │                   │            │                   │\n├─────────────────────┼───────────────────┼────────────┼───────────────────┤\n│ conv2d (\u001B[38;5;33mConv2D\u001B[0m)     │ (\u001B[38;5;45mNone\u001B[0m, \u001B[38;5;34m32\u001B[0m, \u001B[38;5;34m32\u001B[0m, \u001B[38;5;34m8\u001B[0m) │         \u001B[38;5;34m80\u001B[0m │ zero_padding2d[\u001B[38;5;34m0\u001B[0m… │\n├─────────────────────┼───────────────────┼────────────┼───────────────────┤\n│ conv2d_1 (\u001B[38;5;33mConv2D\u001B[0m)   │ (\u001B[38;5;45mNone\u001B[0m, \u001B[38;5;34m32\u001B[0m, \u001B[38;5;34m32\u001B[0m, \u001B[38;5;34m8\u001B[0m) │        \u001B[38;5;34m584\u001B[0m │ conv2d[\u001B[38;5;34m0\u001B[0m][\u001B[38;5;34m0\u001B[0m]      │\n├─────────────────────┼───────────────────┼────────────┼───────────────────┤\n│ max_pooling2d       │ (\u001B[38;5;45mNone\u001B[0m, \u001B[38;5;34m16\u001B[0m, \u001B[38;5;34m16\u001B[0m, \u001B[38;5;34m8\u001B[0m) │          \u001B[38;5;34m0\u001B[0m │ conv2d_1[\u001B[38;5;34m0\u001B[0m][\u001B[38;5;34m0\u001B[0m]    │\n│ (\u001B[38;5;33mMaxPooling2D\u001B[0m)      │                   │            │                   │\n├─────────────────────┼───────────────────┼────────────┼───────────────────┤\n│ conv2d_2 (\u001B[38;5;33mConv2D\u001B[0m)   │ (\u001B[38;5;45mNone\u001B[0m, \u001B[38;5;34m16\u001B[0m, \u001B[38;5;34m16\u001B[0m,    │      \u001B[38;5;34m1,168\u001B[0m │ max_pooling2d[\u001B[38;5;34m0\u001B[0m]… │\n│                     │ \u001B[38;5;34m16\u001B[0m)               │            │                   │\n├─────────────────────┼───────────────────┼────────────┼───────────────────┤\n│ conv2d_3 (\u001B[38;5;33mConv2D\u001B[0m)   │ (\u001B[38;5;45mNone\u001B[0m, \u001B[38;5;34m16\u001B[0m, \u001B[38;5;34m16\u001B[0m,    │      \u001B[38;5;34m2,320\u001B[0m │ conv2d_2[\u001B[38;5;34m0\u001B[0m][\u001B[38;5;34m0\u001B[0m]    │\n│                     │ \u001B[38;5;34m16\u001B[0m)               │            │                   │\n├─────────────────────┼───────────────────┼────────────┼───────────────────┤\n│ max_pooling2d_1     │ (\u001B[38;5;45mNone\u001B[0m, \u001B[38;5;34m8\u001B[0m, \u001B[38;5;34m8\u001B[0m, \u001B[38;5;34m16\u001B[0m)  │          \u001B[38;5;34m0\u001B[0m │ conv2d_3[\u001B[38;5;34m0\u001B[0m][\u001B[38;5;34m0\u001B[0m]    │\n│ (\u001B[38;5;33mMaxPooling2D\u001B[0m)      │                   │            │                   │\n├─────────────────────┼───────────────────┼────────────┼───────────────────┤\n│ conv2d_4 (\u001B[38;5;33mConv2D\u001B[0m)   │ (\u001B[38;5;45mNone\u001B[0m, \u001B[38;5;34m8\u001B[0m, \u001B[38;5;34m8\u001B[0m, \u001B[38;5;34m32\u001B[0m)  │      \u001B[38;5;34m4,640\u001B[0m │ max_pooling2d_1[\u001B[38;5;34m…\u001B[0m │\n├─────────────────────┼───────────────────┼────────────┼───────────────────┤\n│ conv2d_5 (\u001B[38;5;33mConv2D\u001B[0m)   │ (\u001B[38;5;45mNone\u001B[0m, \u001B[38;5;34m8\u001B[0m, \u001B[38;5;34m8\u001B[0m, \u001B[38;5;34m32\u001B[0m)  │      \u001B[38;5;34m9,248\u001B[0m │ conv2d_4[\u001B[38;5;34m0\u001B[0m][\u001B[38;5;34m0\u001B[0m]    │\n├─────────────────────┼───────────────────┼────────────┼───────────────────┤\n│ max_pooling2d_2     │ (\u001B[38;5;45mNone\u001B[0m, \u001B[38;5;34m4\u001B[0m, \u001B[38;5;34m4\u001B[0m, \u001B[38;5;34m32\u001B[0m)  │          \u001B[38;5;34m0\u001B[0m │ conv2d_5[\u001B[38;5;34m0\u001B[0m][\u001B[38;5;34m0\u001B[0m]    │\n│ (\u001B[38;5;33mMaxPooling2D\u001B[0m)      │                   │            │                   │\n├─────────────────────┼───────────────────┼────────────┼───────────────────┤\n│ conv2d_6 (\u001B[38;5;33mConv2D\u001B[0m)   │ (\u001B[38;5;45mNone\u001B[0m, \u001B[38;5;34m4\u001B[0m, \u001B[38;5;34m4\u001B[0m, \u001B[38;5;34m64\u001B[0m)  │     \u001B[38;5;34m18,496\u001B[0m │ max_pooling2d_2[\u001B[38;5;34m…\u001B[0m │\n├─────────────────────┼───────────────────┼────────────┼───────────────────┤\n│ conv2d_7 (\u001B[38;5;33mConv2D\u001B[0m)   │ (\u001B[38;5;45mNone\u001B[0m, \u001B[38;5;34m4\u001B[0m, \u001B[38;5;34m4\u001B[0m, \u001B[38;5;34m64\u001B[0m)  │     \u001B[38;5;34m36,928\u001B[0m │ conv2d_6[\u001B[38;5;34m0\u001B[0m][\u001B[38;5;34m0\u001B[0m]    │\n├─────────────────────┼───────────────────┼────────────┼───────────────────┤\n│ max_pooling2d_3     │ (\u001B[38;5;45mNone\u001B[0m, \u001B[38;5;34m2\u001B[0m, \u001B[38;5;34m2\u001B[0m, \u001B[38;5;34m64\u001B[0m)  │          \u001B[38;5;34m0\u001B[0m │ conv2d_7[\u001B[38;5;34m0\u001B[0m][\u001B[38;5;34m0\u001B[0m]    │\n│ (\u001B[38;5;33mMaxPooling2D\u001B[0m)      │                   │            │                   │\n├─────────────────────┼───────────────────┼────────────┼───────────────────┤\n│ conv2d_8 (\u001B[38;5;33mConv2D\u001B[0m)   │ (\u001B[38;5;45mNone\u001B[0m, \u001B[38;5;34m2\u001B[0m, \u001B[38;5;34m2\u001B[0m, \u001B[38;5;34m128\u001B[0m) │     \u001B[38;5;34m73,856\u001B[0m │ max_pooling2d_3[\u001B[38;5;34m…\u001B[0m │\n├─────────────────────┼───────────────────┼────────────┼───────────────────┤\n│ conv2d_9 (\u001B[38;5;33mConv2D\u001B[0m)   │ (\u001B[38;5;45mNone\u001B[0m, \u001B[38;5;34m2\u001B[0m, \u001B[38;5;34m2\u001B[0m, \u001B[38;5;34m128\u001B[0m) │    \u001B[38;5;34m147,584\u001B[0m │ conv2d_8[\u001B[38;5;34m0\u001B[0m][\u001B[38;5;34m0\u001B[0m]    │\n├─────────────────────┼───────────────────┼────────────┼───────────────────┤\n│ max_pooling2d_4     │ (\u001B[38;5;45mNone\u001B[0m, \u001B[38;5;34m1\u001B[0m, \u001B[38;5;34m1\u001B[0m, \u001B[38;5;34m128\u001B[0m) │          \u001B[38;5;34m0\u001B[0m │ conv2d_9[\u001B[38;5;34m0\u001B[0m][\u001B[38;5;34m0\u001B[0m]    │\n│ (\u001B[38;5;33mMaxPooling2D\u001B[0m)      │                   │            │                   │\n├─────────────────────┼───────────────────┼────────────┼───────────────────┤\n│ conv2d_10 (\u001B[38;5;33mConv2D\u001B[0m)  │ (\u001B[38;5;45mNone\u001B[0m, \u001B[38;5;34m1\u001B[0m, \u001B[38;5;34m1\u001B[0m, \u001B[38;5;34m256\u001B[0m) │    \u001B[38;5;34m295,168\u001B[0m │ max_pooling2d_4[\u001B[38;5;34m…\u001B[0m │\n├─────────────────────┼───────────────────┼────────────┼───────────────────┤\n│ conv2d_11 (\u001B[38;5;33mConv2D\u001B[0m)  │ (\u001B[38;5;45mNone\u001B[0m, \u001B[38;5;34m1\u001B[0m, \u001B[38;5;34m1\u001B[0m, \u001B[38;5;34m256\u001B[0m) │    \u001B[38;5;34m590,080\u001B[0m │ conv2d_10[\u001B[38;5;34m0\u001B[0m][\u001B[38;5;34m0\u001B[0m]   │\n├─────────────────────┼───────────────────┼────────────┼───────────────────┤\n│ dropout (\u001B[38;5;33mDropout\u001B[0m)   │ (\u001B[38;5;45mNone\u001B[0m, \u001B[38;5;34m1\u001B[0m, \u001B[38;5;34m1\u001B[0m, \u001B[38;5;34m256\u001B[0m) │          \u001B[38;5;34m0\u001B[0m │ conv2d_11[\u001B[38;5;34m0\u001B[0m][\u001B[38;5;34m0\u001B[0m]   │\n├─────────────────────┼───────────────────┼────────────┼───────────────────┤\n│ up_sampling2d       │ (\u001B[38;5;45mNone\u001B[0m, \u001B[38;5;34m2\u001B[0m, \u001B[38;5;34m2\u001B[0m, \u001B[38;5;34m256\u001B[0m) │          \u001B[38;5;34m0\u001B[0m │ dropout[\u001B[38;5;34m0\u001B[0m][\u001B[38;5;34m0\u001B[0m]     │\n│ (\u001B[38;5;33mUpSampling2D\u001B[0m)      │                   │            │                   │\n├─────────────────────┼───────────────────┼────────────┼───────────────────┤\n│ concatenate         │ (\u001B[38;5;45mNone\u001B[0m, \u001B[38;5;34m2\u001B[0m, \u001B[38;5;34m2\u001B[0m, \u001B[38;5;34m384\u001B[0m) │          \u001B[38;5;34m0\u001B[0m │ up_sampling2d[\u001B[38;5;34m0\u001B[0m]… │\n│ (\u001B[38;5;33mConcatenate\u001B[0m)       │                   │            │ conv2d_9[\u001B[38;5;34m0\u001B[0m][\u001B[38;5;34m0\u001B[0m]    │\n├─────────────────────┼───────────────────┼────────────┼───────────────────┤\n│ conv2d_12 (\u001B[38;5;33mConv2D\u001B[0m)  │ (\u001B[38;5;45mNone\u001B[0m, \u001B[38;5;34m2\u001B[0m, \u001B[38;5;34m2\u001B[0m, \u001B[38;5;34m128\u001B[0m) │    \u001B[38;5;34m442,496\u001B[0m │ concatenate[\u001B[38;5;34m0\u001B[0m][\u001B[38;5;34m0\u001B[0m] │\n├─────────────────────┼───────────────────┼────────────┼───────────────────┤\n│ conv2d_13 (\u001B[38;5;33mConv2D\u001B[0m)  │ (\u001B[38;5;45mNone\u001B[0m, \u001B[38;5;34m2\u001B[0m, \u001B[38;5;34m2\u001B[0m, \u001B[38;5;34m128\u001B[0m) │    \u001B[38;5;34m147,584\u001B[0m │ conv2d_12[\u001B[38;5;34m0\u001B[0m][\u001B[38;5;34m0\u001B[0m]   │\n├─────────────────────┼───────────────────┼────────────┼───────────────────┤\n│ batch_normalization │ (\u001B[38;5;45mNone\u001B[0m, \u001B[38;5;34m2\u001B[0m, \u001B[38;5;34m2\u001B[0m, \u001B[38;5;34m128\u001B[0m) │        \u001B[38;5;34m512\u001B[0m │ conv2d_13[\u001B[38;5;34m0\u001B[0m][\u001B[38;5;34m0\u001B[0m]   │\n│ (\u001B[38;5;33mBatchNormalizatio…\u001B[0m │                   │            │                   │\n├─────────────────────┼───────────────────┼────────────┼───────────────────┤\n│ up_sampling2d_1     │ (\u001B[38;5;45mNone\u001B[0m, \u001B[38;5;34m4\u001B[0m, \u001B[38;5;34m4\u001B[0m, \u001B[38;5;34m128\u001B[0m) │          \u001B[38;5;34m0\u001B[0m │ batch_normalizat… │\n│ (\u001B[38;5;33mUpSampling2D\u001B[0m)      │                   │            │                   │\n├─────────────────────┼───────────────────┼────────────┼───────────────────┤\n│ concatenate_1       │ (\u001B[38;5;45mNone\u001B[0m, \u001B[38;5;34m4\u001B[0m, \u001B[38;5;34m4\u001B[0m, \u001B[38;5;34m192\u001B[0m) │          \u001B[38;5;34m0\u001B[0m │ up_sampling2d_1[\u001B[38;5;34m…\u001B[0m │\n│ (\u001B[38;5;33mConcatenate\u001B[0m)       │                   │            │ conv2d_7[\u001B[38;5;34m0\u001B[0m][\u001B[38;5;34m0\u001B[0m]    │\n├─────────────────────┼───────────────────┼────────────┼───────────────────┤\n│ conv2d_14 (\u001B[38;5;33mConv2D\u001B[0m)  │ (\u001B[38;5;45mNone\u001B[0m, \u001B[38;5;34m4\u001B[0m, \u001B[38;5;34m4\u001B[0m, \u001B[38;5;34m64\u001B[0m)  │    \u001B[38;5;34m110,656\u001B[0m │ concatenate_1[\u001B[38;5;34m0\u001B[0m]… │\n├─────────────────────┼───────────────────┼────────────┼───────────────────┤\n│ conv2d_15 (\u001B[38;5;33mConv2D\u001B[0m)  │ (\u001B[38;5;45mNone\u001B[0m, \u001B[38;5;34m4\u001B[0m, \u001B[38;5;34m4\u001B[0m, \u001B[38;5;34m64\u001B[0m)  │     \u001B[38;5;34m36,928\u001B[0m │ conv2d_14[\u001B[38;5;34m0\u001B[0m][\u001B[38;5;34m0\u001B[0m]   │\n├─────────────────────┼───────────────────┼────────────┼───────────────────┤\n│ batch_normalizatio… │ (\u001B[38;5;45mNone\u001B[0m, \u001B[38;5;34m4\u001B[0m, \u001B[38;5;34m4\u001B[0m, \u001B[38;5;34m64\u001B[0m)  │        \u001B[38;5;34m256\u001B[0m │ conv2d_15[\u001B[38;5;34m0\u001B[0m][\u001B[38;5;34m0\u001B[0m]   │\n│ (\u001B[38;5;33mBatchNormalizatio…\u001B[0m │                   │            │                   │\n├─────────────────────┼───────────────────┼────────────┼───────────────────┤\n│ up_sampling2d_2     │ (\u001B[38;5;45mNone\u001B[0m, \u001B[38;5;34m8\u001B[0m, \u001B[38;5;34m8\u001B[0m, \u001B[38;5;34m64\u001B[0m)  │          \u001B[38;5;34m0\u001B[0m │ batch_normalizat… │\n│ (\u001B[38;5;33mUpSampling2D\u001B[0m)      │                   │            │                   │\n├─────────────────────┼───────────────────┼────────────┼───────────────────┤\n│ concatenate_2       │ (\u001B[38;5;45mNone\u001B[0m, \u001B[38;5;34m8\u001B[0m, \u001B[38;5;34m8\u001B[0m, \u001B[38;5;34m96\u001B[0m)  │          \u001B[38;5;34m0\u001B[0m │ up_sampling2d_2[\u001B[38;5;34m…\u001B[0m │\n│ (\u001B[38;5;33mConcatenate\u001B[0m)       │                   │            │ conv2d_5[\u001B[38;5;34m0\u001B[0m][\u001B[38;5;34m0\u001B[0m]    │\n├─────────────────────┼───────────────────┼────────────┼───────────────────┤\n│ conv2d_16 (\u001B[38;5;33mConv2D\u001B[0m)  │ (\u001B[38;5;45mNone\u001B[0m, \u001B[38;5;34m8\u001B[0m, \u001B[38;5;34m8\u001B[0m, \u001B[38;5;34m32\u001B[0m)  │     \u001B[38;5;34m27,680\u001B[0m │ concatenate_2[\u001B[38;5;34m0\u001B[0m]… │\n├─────────────────────┼───────────────────┼────────────┼───────────────────┤\n│ conv2d_17 (\u001B[38;5;33mConv2D\u001B[0m)  │ (\u001B[38;5;45mNone\u001B[0m, \u001B[38;5;34m8\u001B[0m, \u001B[38;5;34m8\u001B[0m, \u001B[38;5;34m32\u001B[0m)  │      \u001B[38;5;34m9,248\u001B[0m │ conv2d_16[\u001B[38;5;34m0\u001B[0m][\u001B[38;5;34m0\u001B[0m]   │\n├─────────────────────┼───────────────────┼────────────┼───────────────────┤\n│ batch_normalizatio… │ (\u001B[38;5;45mNone\u001B[0m, \u001B[38;5;34m8\u001B[0m, \u001B[38;5;34m8\u001B[0m, \u001B[38;5;34m32\u001B[0m)  │        \u001B[38;5;34m128\u001B[0m │ conv2d_17[\u001B[38;5;34m0\u001B[0m][\u001B[38;5;34m0\u001B[0m]   │\n│ (\u001B[38;5;33mBatchNormalizatio…\u001B[0m │                   │            │                   │\n├─────────────────────┼───────────────────┼────────────┼───────────────────┤\n│ up_sampling2d_3     │ (\u001B[38;5;45mNone\u001B[0m, \u001B[38;5;34m16\u001B[0m, \u001B[38;5;34m16\u001B[0m,    │          \u001B[38;5;34m0\u001B[0m │ batch_normalizat… │\n│ (\u001B[38;5;33mUpSampling2D\u001B[0m)      │ \u001B[38;5;34m32\u001B[0m)               │            │                   │\n├─────────────────────┼───────────────────┼────────────┼───────────────────┤\n│ concatenate_3       │ (\u001B[38;5;45mNone\u001B[0m, \u001B[38;5;34m16\u001B[0m, \u001B[38;5;34m16\u001B[0m,    │          \u001B[38;5;34m0\u001B[0m │ up_sampling2d_3[\u001B[38;5;34m…\u001B[0m │\n│ (\u001B[38;5;33mConcatenate\u001B[0m)       │ \u001B[38;5;34m48\u001B[0m)               │            │ conv2d_3[\u001B[38;5;34m0\u001B[0m][\u001B[38;5;34m0\u001B[0m]    │\n├─────────────────────┼───────────────────┼────────────┼───────────────────┤\n│ conv2d_18 (\u001B[38;5;33mConv2D\u001B[0m)  │ (\u001B[38;5;45mNone\u001B[0m, \u001B[38;5;34m16\u001B[0m, \u001B[38;5;34m16\u001B[0m,    │      \u001B[38;5;34m6,928\u001B[0m │ concatenate_3[\u001B[38;5;34m0\u001B[0m]… │\n│                     │ \u001B[38;5;34m16\u001B[0m)               │            │                   │\n├─────────────────────┼───────────────────┼────────────┼───────────────────┤\n│ conv2d_19 (\u001B[38;5;33mConv2D\u001B[0m)  │ (\u001B[38;5;45mNone\u001B[0m, \u001B[38;5;34m16\u001B[0m, \u001B[38;5;34m16\u001B[0m,    │      \u001B[38;5;34m2,320\u001B[0m │ conv2d_18[\u001B[38;5;34m0\u001B[0m][\u001B[38;5;34m0\u001B[0m]   │\n│                     │ \u001B[38;5;34m16\u001B[0m)               │            │                   │\n├─────────────────────┼───────────────────┼────────────┼───────────────────┤\n│ batch_normalizatio… │ (\u001B[38;5;45mNone\u001B[0m, \u001B[38;5;34m16\u001B[0m, \u001B[38;5;34m16\u001B[0m,    │         \u001B[38;5;34m64\u001B[0m │ conv2d_19[\u001B[38;5;34m0\u001B[0m][\u001B[38;5;34m0\u001B[0m]   │\n│ (\u001B[38;5;33mBatchNormalizatio…\u001B[0m │ \u001B[38;5;34m16\u001B[0m)               │            │                   │\n├─────────────────────┼───────────────────┼────────────┼───────────────────┤\n│ up_sampling2d_4     │ (\u001B[38;5;45mNone\u001B[0m, \u001B[38;5;34m32\u001B[0m, \u001B[38;5;34m32\u001B[0m,    │          \u001B[38;5;34m0\u001B[0m │ batch_normalizat… │\n│ (\u001B[38;5;33mUpSampling2D\u001B[0m)      │ \u001B[38;5;34m16\u001B[0m)               │            │                   │\n├─────────────────────┼───────────────────┼────────────┼───────────────────┤\n│ concatenate_4       │ (\u001B[38;5;45mNone\u001B[0m, \u001B[38;5;34m32\u001B[0m, \u001B[38;5;34m32\u001B[0m,    │          \u001B[38;5;34m0\u001B[0m │ up_sampling2d_4[\u001B[38;5;34m…\u001B[0m │\n│ (\u001B[38;5;33mConcatenate\u001B[0m)       │ \u001B[38;5;34m24\u001B[0m)               │            │ conv2d_1[\u001B[38;5;34m0\u001B[0m][\u001B[38;5;34m0\u001B[0m]    │\n├─────────────────────┼───────────────────┼────────────┼───────────────────┤\n│ conv2d_20 (\u001B[38;5;33mConv2D\u001B[0m)  │ (\u001B[38;5;45mNone\u001B[0m, \u001B[38;5;34m32\u001B[0m, \u001B[38;5;34m32\u001B[0m, \u001B[38;5;34m8\u001B[0m) │      \u001B[38;5;34m1,736\u001B[0m │ concatenate_4[\u001B[38;5;34m0\u001B[0m]… │\n├─────────────────────┼───────────────────┼────────────┼───────────────────┤\n│ conv2d_21 (\u001B[38;5;33mConv2D\u001B[0m)  │ (\u001B[38;5;45mNone\u001B[0m, \u001B[38;5;34m32\u001B[0m, \u001B[38;5;34m32\u001B[0m, \u001B[38;5;34m8\u001B[0m) │        \u001B[38;5;34m584\u001B[0m │ conv2d_20[\u001B[38;5;34m0\u001B[0m][\u001B[38;5;34m0\u001B[0m]   │\n├─────────────────────┼───────────────────┼────────────┼───────────────────┤\n│ batch_normalizatio… │ (\u001B[38;5;45mNone\u001B[0m, \u001B[38;5;34m32\u001B[0m, \u001B[38;5;34m32\u001B[0m, \u001B[38;5;34m8\u001B[0m) │         \u001B[38;5;34m32\u001B[0m │ conv2d_21[\u001B[38;5;34m0\u001B[0m][\u001B[38;5;34m0\u001B[0m]   │\n│ (\u001B[38;5;33mBatchNormalizatio…\u001B[0m │                   │            │                   │\n├─────────────────────┼───────────────────┼────────────┼───────────────────┤\n│ conv2d_22 (\u001B[38;5;33mConv2D\u001B[0m)  │ (\u001B[38;5;45mNone\u001B[0m, \u001B[38;5;34m32\u001B[0m, \u001B[38;5;34m32\u001B[0m,    │      \u001B[38;5;34m2,336\u001B[0m │ batch_normalizat… │\n│                     │ \u001B[38;5;34m32\u001B[0m)               │            │                   │\n├─────────────────────┼───────────────────┼────────────┼───────────────────┤\n│ flatten (\u001B[38;5;33mFlatten\u001B[0m)   │ (\u001B[38;5;45mNone\u001B[0m, \u001B[38;5;34m32768\u001B[0m)     │          \u001B[38;5;34m0\u001B[0m │ conv2d_22[\u001B[38;5;34m0\u001B[0m][\u001B[38;5;34m0\u001B[0m]   │\n├─────────────────────┼───────────────────┼────────────┼───────────────────┤\n│ dense (\u001B[38;5;33mDense\u001B[0m)       │ (\u001B[38;5;45mNone\u001B[0m, \u001B[38;5;34m10\u001B[0m)        │    \u001B[38;5;34m327,690\u001B[0m │ flatten[\u001B[38;5;34m0\u001B[0m][\u001B[38;5;34m0\u001B[0m]     │\n├─────────────────────┼───────────────────┼────────────┼───────────────────┤\n│ dense_1 (\u001B[38;5;33mDense\u001B[0m)     │ (\u001B[38;5;45mNone\u001B[0m, \u001B[38;5;34m1\u001B[0m)         │         \u001B[38;5;34m11\u001B[0m │ dense[\u001B[38;5;34m0\u001B[0m][\u001B[38;5;34m0\u001B[0m]       │\n└─────────────────────┴───────────────────┴────────────┴───────────────────┘\n",
      "text/html": "<pre style=\"white-space:pre;overflow-x:auto;line-height:normal;font-family:Menlo,'DejaVu Sans Mono',consolas,'Courier New',monospace\">┏━━━━━━━━━━━━━━━━━━━━━┳━━━━━━━━━━━━━━━━━━━┳━━━━━━━━━━━━┳━━━━━━━━━━━━━━━━━━━┓\n┃<span style=\"font-weight: bold\"> Layer (type)        </span>┃<span style=\"font-weight: bold\"> Output Shape      </span>┃<span style=\"font-weight: bold\">    Param # </span>┃<span style=\"font-weight: bold\"> Connected to      </span>┃\n┡━━━━━━━━━━━━━━━━━━━━━╇━━━━━━━━━━━━━━━━━━━╇━━━━━━━━━━━━╇━━━━━━━━━━━━━━━━━━━┩\n│ input_layer         │ (<span style=\"color: #00d7ff; text-decoration-color: #00d7ff\">None</span>, <span style=\"color: #00af00; text-decoration-color: #00af00\">28</span>, <span style=\"color: #00af00; text-decoration-color: #00af00\">28</span>, <span style=\"color: #00af00; text-decoration-color: #00af00\">1</span>) │          <span style=\"color: #00af00; text-decoration-color: #00af00\">0</span> │ -                 │\n│ (<span style=\"color: #0087ff; text-decoration-color: #0087ff\">InputLayer</span>)        │                   │            │                   │\n├─────────────────────┼───────────────────┼────────────┼───────────────────┤\n│ zero_padding2d      │ (<span style=\"color: #00d7ff; text-decoration-color: #00d7ff\">None</span>, <span style=\"color: #00af00; text-decoration-color: #00af00\">32</span>, <span style=\"color: #00af00; text-decoration-color: #00af00\">32</span>, <span style=\"color: #00af00; text-decoration-color: #00af00\">1</span>) │          <span style=\"color: #00af00; text-decoration-color: #00af00\">0</span> │ input_layer[<span style=\"color: #00af00; text-decoration-color: #00af00\">0</span>][<span style=\"color: #00af00; text-decoration-color: #00af00\">0</span>] │\n│ (<span style=\"color: #0087ff; text-decoration-color: #0087ff\">ZeroPadding2D</span>)     │                   │            │                   │\n├─────────────────────┼───────────────────┼────────────┼───────────────────┤\n│ conv2d (<span style=\"color: #0087ff; text-decoration-color: #0087ff\">Conv2D</span>)     │ (<span style=\"color: #00d7ff; text-decoration-color: #00d7ff\">None</span>, <span style=\"color: #00af00; text-decoration-color: #00af00\">32</span>, <span style=\"color: #00af00; text-decoration-color: #00af00\">32</span>, <span style=\"color: #00af00; text-decoration-color: #00af00\">8</span>) │         <span style=\"color: #00af00; text-decoration-color: #00af00\">80</span> │ zero_padding2d[<span style=\"color: #00af00; text-decoration-color: #00af00\">0</span>… │\n├─────────────────────┼───────────────────┼────────────┼───────────────────┤\n│ conv2d_1 (<span style=\"color: #0087ff; text-decoration-color: #0087ff\">Conv2D</span>)   │ (<span style=\"color: #00d7ff; text-decoration-color: #00d7ff\">None</span>, <span style=\"color: #00af00; text-decoration-color: #00af00\">32</span>, <span style=\"color: #00af00; text-decoration-color: #00af00\">32</span>, <span style=\"color: #00af00; text-decoration-color: #00af00\">8</span>) │        <span style=\"color: #00af00; text-decoration-color: #00af00\">584</span> │ conv2d[<span style=\"color: #00af00; text-decoration-color: #00af00\">0</span>][<span style=\"color: #00af00; text-decoration-color: #00af00\">0</span>]      │\n├─────────────────────┼───────────────────┼────────────┼───────────────────┤\n│ max_pooling2d       │ (<span style=\"color: #00d7ff; text-decoration-color: #00d7ff\">None</span>, <span style=\"color: #00af00; text-decoration-color: #00af00\">16</span>, <span style=\"color: #00af00; text-decoration-color: #00af00\">16</span>, <span style=\"color: #00af00; text-decoration-color: #00af00\">8</span>) │          <span style=\"color: #00af00; text-decoration-color: #00af00\">0</span> │ conv2d_1[<span style=\"color: #00af00; text-decoration-color: #00af00\">0</span>][<span style=\"color: #00af00; text-decoration-color: #00af00\">0</span>]    │\n│ (<span style=\"color: #0087ff; text-decoration-color: #0087ff\">MaxPooling2D</span>)      │                   │            │                   │\n├─────────────────────┼───────────────────┼────────────┼───────────────────┤\n│ conv2d_2 (<span style=\"color: #0087ff; text-decoration-color: #0087ff\">Conv2D</span>)   │ (<span style=\"color: #00d7ff; text-decoration-color: #00d7ff\">None</span>, <span style=\"color: #00af00; text-decoration-color: #00af00\">16</span>, <span style=\"color: #00af00; text-decoration-color: #00af00\">16</span>,    │      <span style=\"color: #00af00; text-decoration-color: #00af00\">1,168</span> │ max_pooling2d[<span style=\"color: #00af00; text-decoration-color: #00af00\">0</span>]… │\n│                     │ <span style=\"color: #00af00; text-decoration-color: #00af00\">16</span>)               │            │                   │\n├─────────────────────┼───────────────────┼────────────┼───────────────────┤\n│ conv2d_3 (<span style=\"color: #0087ff; text-decoration-color: #0087ff\">Conv2D</span>)   │ (<span style=\"color: #00d7ff; text-decoration-color: #00d7ff\">None</span>, <span style=\"color: #00af00; text-decoration-color: #00af00\">16</span>, <span style=\"color: #00af00; text-decoration-color: #00af00\">16</span>,    │      <span style=\"color: #00af00; text-decoration-color: #00af00\">2,320</span> │ conv2d_2[<span style=\"color: #00af00; text-decoration-color: #00af00\">0</span>][<span style=\"color: #00af00; text-decoration-color: #00af00\">0</span>]    │\n│                     │ <span style=\"color: #00af00; text-decoration-color: #00af00\">16</span>)               │            │                   │\n├─────────────────────┼───────────────────┼────────────┼───────────────────┤\n│ max_pooling2d_1     │ (<span style=\"color: #00d7ff; text-decoration-color: #00d7ff\">None</span>, <span style=\"color: #00af00; text-decoration-color: #00af00\">8</span>, <span style=\"color: #00af00; text-decoration-color: #00af00\">8</span>, <span style=\"color: #00af00; text-decoration-color: #00af00\">16</span>)  │          <span style=\"color: #00af00; text-decoration-color: #00af00\">0</span> │ conv2d_3[<span style=\"color: #00af00; text-decoration-color: #00af00\">0</span>][<span style=\"color: #00af00; text-decoration-color: #00af00\">0</span>]    │\n│ (<span style=\"color: #0087ff; text-decoration-color: #0087ff\">MaxPooling2D</span>)      │                   │            │                   │\n├─────────────────────┼───────────────────┼────────────┼───────────────────┤\n│ conv2d_4 (<span style=\"color: #0087ff; text-decoration-color: #0087ff\">Conv2D</span>)   │ (<span style=\"color: #00d7ff; text-decoration-color: #00d7ff\">None</span>, <span style=\"color: #00af00; text-decoration-color: #00af00\">8</span>, <span style=\"color: #00af00; text-decoration-color: #00af00\">8</span>, <span style=\"color: #00af00; text-decoration-color: #00af00\">32</span>)  │      <span style=\"color: #00af00; text-decoration-color: #00af00\">4,640</span> │ max_pooling2d_1[<span style=\"color: #00af00; text-decoration-color: #00af00\">…</span> │\n├─────────────────────┼───────────────────┼────────────┼───────────────────┤\n│ conv2d_5 (<span style=\"color: #0087ff; text-decoration-color: #0087ff\">Conv2D</span>)   │ (<span style=\"color: #00d7ff; text-decoration-color: #00d7ff\">None</span>, <span style=\"color: #00af00; text-decoration-color: #00af00\">8</span>, <span style=\"color: #00af00; text-decoration-color: #00af00\">8</span>, <span style=\"color: #00af00; text-decoration-color: #00af00\">32</span>)  │      <span style=\"color: #00af00; text-decoration-color: #00af00\">9,248</span> │ conv2d_4[<span style=\"color: #00af00; text-decoration-color: #00af00\">0</span>][<span style=\"color: #00af00; text-decoration-color: #00af00\">0</span>]    │\n├─────────────────────┼───────────────────┼────────────┼───────────────────┤\n│ max_pooling2d_2     │ (<span style=\"color: #00d7ff; text-decoration-color: #00d7ff\">None</span>, <span style=\"color: #00af00; text-decoration-color: #00af00\">4</span>, <span style=\"color: #00af00; text-decoration-color: #00af00\">4</span>, <span style=\"color: #00af00; text-decoration-color: #00af00\">32</span>)  │          <span style=\"color: #00af00; text-decoration-color: #00af00\">0</span> │ conv2d_5[<span style=\"color: #00af00; text-decoration-color: #00af00\">0</span>][<span style=\"color: #00af00; text-decoration-color: #00af00\">0</span>]    │\n│ (<span style=\"color: #0087ff; text-decoration-color: #0087ff\">MaxPooling2D</span>)      │                   │            │                   │\n├─────────────────────┼───────────────────┼────────────┼───────────────────┤\n│ conv2d_6 (<span style=\"color: #0087ff; text-decoration-color: #0087ff\">Conv2D</span>)   │ (<span style=\"color: #00d7ff; text-decoration-color: #00d7ff\">None</span>, <span style=\"color: #00af00; text-decoration-color: #00af00\">4</span>, <span style=\"color: #00af00; text-decoration-color: #00af00\">4</span>, <span style=\"color: #00af00; text-decoration-color: #00af00\">64</span>)  │     <span style=\"color: #00af00; text-decoration-color: #00af00\">18,496</span> │ max_pooling2d_2[<span style=\"color: #00af00; text-decoration-color: #00af00\">…</span> │\n├─────────────────────┼───────────────────┼────────────┼───────────────────┤\n│ conv2d_7 (<span style=\"color: #0087ff; text-decoration-color: #0087ff\">Conv2D</span>)   │ (<span style=\"color: #00d7ff; text-decoration-color: #00d7ff\">None</span>, <span style=\"color: #00af00; text-decoration-color: #00af00\">4</span>, <span style=\"color: #00af00; text-decoration-color: #00af00\">4</span>, <span style=\"color: #00af00; text-decoration-color: #00af00\">64</span>)  │     <span style=\"color: #00af00; text-decoration-color: #00af00\">36,928</span> │ conv2d_6[<span style=\"color: #00af00; text-decoration-color: #00af00\">0</span>][<span style=\"color: #00af00; text-decoration-color: #00af00\">0</span>]    │\n├─────────────────────┼───────────────────┼────────────┼───────────────────┤\n│ max_pooling2d_3     │ (<span style=\"color: #00d7ff; text-decoration-color: #00d7ff\">None</span>, <span style=\"color: #00af00; text-decoration-color: #00af00\">2</span>, <span style=\"color: #00af00; text-decoration-color: #00af00\">2</span>, <span style=\"color: #00af00; text-decoration-color: #00af00\">64</span>)  │          <span style=\"color: #00af00; text-decoration-color: #00af00\">0</span> │ conv2d_7[<span style=\"color: #00af00; text-decoration-color: #00af00\">0</span>][<span style=\"color: #00af00; text-decoration-color: #00af00\">0</span>]    │\n│ (<span style=\"color: #0087ff; text-decoration-color: #0087ff\">MaxPooling2D</span>)      │                   │            │                   │\n├─────────────────────┼───────────────────┼────────────┼───────────────────┤\n│ conv2d_8 (<span style=\"color: #0087ff; text-decoration-color: #0087ff\">Conv2D</span>)   │ (<span style=\"color: #00d7ff; text-decoration-color: #00d7ff\">None</span>, <span style=\"color: #00af00; text-decoration-color: #00af00\">2</span>, <span style=\"color: #00af00; text-decoration-color: #00af00\">2</span>, <span style=\"color: #00af00; text-decoration-color: #00af00\">128</span>) │     <span style=\"color: #00af00; text-decoration-color: #00af00\">73,856</span> │ max_pooling2d_3[<span style=\"color: #00af00; text-decoration-color: #00af00\">…</span> │\n├─────────────────────┼───────────────────┼────────────┼───────────────────┤\n│ conv2d_9 (<span style=\"color: #0087ff; text-decoration-color: #0087ff\">Conv2D</span>)   │ (<span style=\"color: #00d7ff; text-decoration-color: #00d7ff\">None</span>, <span style=\"color: #00af00; text-decoration-color: #00af00\">2</span>, <span style=\"color: #00af00; text-decoration-color: #00af00\">2</span>, <span style=\"color: #00af00; text-decoration-color: #00af00\">128</span>) │    <span style=\"color: #00af00; text-decoration-color: #00af00\">147,584</span> │ conv2d_8[<span style=\"color: #00af00; text-decoration-color: #00af00\">0</span>][<span style=\"color: #00af00; text-decoration-color: #00af00\">0</span>]    │\n├─────────────────────┼───────────────────┼────────────┼───────────────────┤\n│ max_pooling2d_4     │ (<span style=\"color: #00d7ff; text-decoration-color: #00d7ff\">None</span>, <span style=\"color: #00af00; text-decoration-color: #00af00\">1</span>, <span style=\"color: #00af00; text-decoration-color: #00af00\">1</span>, <span style=\"color: #00af00; text-decoration-color: #00af00\">128</span>) │          <span style=\"color: #00af00; text-decoration-color: #00af00\">0</span> │ conv2d_9[<span style=\"color: #00af00; text-decoration-color: #00af00\">0</span>][<span style=\"color: #00af00; text-decoration-color: #00af00\">0</span>]    │\n│ (<span style=\"color: #0087ff; text-decoration-color: #0087ff\">MaxPooling2D</span>)      │                   │            │                   │\n├─────────────────────┼───────────────────┼────────────┼───────────────────┤\n│ conv2d_10 (<span style=\"color: #0087ff; text-decoration-color: #0087ff\">Conv2D</span>)  │ (<span style=\"color: #00d7ff; text-decoration-color: #00d7ff\">None</span>, <span style=\"color: #00af00; text-decoration-color: #00af00\">1</span>, <span style=\"color: #00af00; text-decoration-color: #00af00\">1</span>, <span style=\"color: #00af00; text-decoration-color: #00af00\">256</span>) │    <span style=\"color: #00af00; text-decoration-color: #00af00\">295,168</span> │ max_pooling2d_4[<span style=\"color: #00af00; text-decoration-color: #00af00\">…</span> │\n├─────────────────────┼───────────────────┼────────────┼───────────────────┤\n│ conv2d_11 (<span style=\"color: #0087ff; text-decoration-color: #0087ff\">Conv2D</span>)  │ (<span style=\"color: #00d7ff; text-decoration-color: #00d7ff\">None</span>, <span style=\"color: #00af00; text-decoration-color: #00af00\">1</span>, <span style=\"color: #00af00; text-decoration-color: #00af00\">1</span>, <span style=\"color: #00af00; text-decoration-color: #00af00\">256</span>) │    <span style=\"color: #00af00; text-decoration-color: #00af00\">590,080</span> │ conv2d_10[<span style=\"color: #00af00; text-decoration-color: #00af00\">0</span>][<span style=\"color: #00af00; text-decoration-color: #00af00\">0</span>]   │\n├─────────────────────┼───────────────────┼────────────┼───────────────────┤\n│ dropout (<span style=\"color: #0087ff; text-decoration-color: #0087ff\">Dropout</span>)   │ (<span style=\"color: #00d7ff; text-decoration-color: #00d7ff\">None</span>, <span style=\"color: #00af00; text-decoration-color: #00af00\">1</span>, <span style=\"color: #00af00; text-decoration-color: #00af00\">1</span>, <span style=\"color: #00af00; text-decoration-color: #00af00\">256</span>) │          <span style=\"color: #00af00; text-decoration-color: #00af00\">0</span> │ conv2d_11[<span style=\"color: #00af00; text-decoration-color: #00af00\">0</span>][<span style=\"color: #00af00; text-decoration-color: #00af00\">0</span>]   │\n├─────────────────────┼───────────────────┼────────────┼───────────────────┤\n│ up_sampling2d       │ (<span style=\"color: #00d7ff; text-decoration-color: #00d7ff\">None</span>, <span style=\"color: #00af00; text-decoration-color: #00af00\">2</span>, <span style=\"color: #00af00; text-decoration-color: #00af00\">2</span>, <span style=\"color: #00af00; text-decoration-color: #00af00\">256</span>) │          <span style=\"color: #00af00; text-decoration-color: #00af00\">0</span> │ dropout[<span style=\"color: #00af00; text-decoration-color: #00af00\">0</span>][<span style=\"color: #00af00; text-decoration-color: #00af00\">0</span>]     │\n│ (<span style=\"color: #0087ff; text-decoration-color: #0087ff\">UpSampling2D</span>)      │                   │            │                   │\n├─────────────────────┼───────────────────┼────────────┼───────────────────┤\n│ concatenate         │ (<span style=\"color: #00d7ff; text-decoration-color: #00d7ff\">None</span>, <span style=\"color: #00af00; text-decoration-color: #00af00\">2</span>, <span style=\"color: #00af00; text-decoration-color: #00af00\">2</span>, <span style=\"color: #00af00; text-decoration-color: #00af00\">384</span>) │          <span style=\"color: #00af00; text-decoration-color: #00af00\">0</span> │ up_sampling2d[<span style=\"color: #00af00; text-decoration-color: #00af00\">0</span>]… │\n│ (<span style=\"color: #0087ff; text-decoration-color: #0087ff\">Concatenate</span>)       │                   │            │ conv2d_9[<span style=\"color: #00af00; text-decoration-color: #00af00\">0</span>][<span style=\"color: #00af00; text-decoration-color: #00af00\">0</span>]    │\n├─────────────────────┼───────────────────┼────────────┼───────────────────┤\n│ conv2d_12 (<span style=\"color: #0087ff; text-decoration-color: #0087ff\">Conv2D</span>)  │ (<span style=\"color: #00d7ff; text-decoration-color: #00d7ff\">None</span>, <span style=\"color: #00af00; text-decoration-color: #00af00\">2</span>, <span style=\"color: #00af00; text-decoration-color: #00af00\">2</span>, <span style=\"color: #00af00; text-decoration-color: #00af00\">128</span>) │    <span style=\"color: #00af00; text-decoration-color: #00af00\">442,496</span> │ concatenate[<span style=\"color: #00af00; text-decoration-color: #00af00\">0</span>][<span style=\"color: #00af00; text-decoration-color: #00af00\">0</span>] │\n├─────────────────────┼───────────────────┼────────────┼───────────────────┤\n│ conv2d_13 (<span style=\"color: #0087ff; text-decoration-color: #0087ff\">Conv2D</span>)  │ (<span style=\"color: #00d7ff; text-decoration-color: #00d7ff\">None</span>, <span style=\"color: #00af00; text-decoration-color: #00af00\">2</span>, <span style=\"color: #00af00; text-decoration-color: #00af00\">2</span>, <span style=\"color: #00af00; text-decoration-color: #00af00\">128</span>) │    <span style=\"color: #00af00; text-decoration-color: #00af00\">147,584</span> │ conv2d_12[<span style=\"color: #00af00; text-decoration-color: #00af00\">0</span>][<span style=\"color: #00af00; text-decoration-color: #00af00\">0</span>]   │\n├─────────────────────┼───────────────────┼────────────┼───────────────────┤\n│ batch_normalization │ (<span style=\"color: #00d7ff; text-decoration-color: #00d7ff\">None</span>, <span style=\"color: #00af00; text-decoration-color: #00af00\">2</span>, <span style=\"color: #00af00; text-decoration-color: #00af00\">2</span>, <span style=\"color: #00af00; text-decoration-color: #00af00\">128</span>) │        <span style=\"color: #00af00; text-decoration-color: #00af00\">512</span> │ conv2d_13[<span style=\"color: #00af00; text-decoration-color: #00af00\">0</span>][<span style=\"color: #00af00; text-decoration-color: #00af00\">0</span>]   │\n│ (<span style=\"color: #0087ff; text-decoration-color: #0087ff\">BatchNormalizatio…</span> │                   │            │                   │\n├─────────────────────┼───────────────────┼────────────┼───────────────────┤\n│ up_sampling2d_1     │ (<span style=\"color: #00d7ff; text-decoration-color: #00d7ff\">None</span>, <span style=\"color: #00af00; text-decoration-color: #00af00\">4</span>, <span style=\"color: #00af00; text-decoration-color: #00af00\">4</span>, <span style=\"color: #00af00; text-decoration-color: #00af00\">128</span>) │          <span style=\"color: #00af00; text-decoration-color: #00af00\">0</span> │ batch_normalizat… │\n│ (<span style=\"color: #0087ff; text-decoration-color: #0087ff\">UpSampling2D</span>)      │                   │            │                   │\n├─────────────────────┼───────────────────┼────────────┼───────────────────┤\n│ concatenate_1       │ (<span style=\"color: #00d7ff; text-decoration-color: #00d7ff\">None</span>, <span style=\"color: #00af00; text-decoration-color: #00af00\">4</span>, <span style=\"color: #00af00; text-decoration-color: #00af00\">4</span>, <span style=\"color: #00af00; text-decoration-color: #00af00\">192</span>) │          <span style=\"color: #00af00; text-decoration-color: #00af00\">0</span> │ up_sampling2d_1[<span style=\"color: #00af00; text-decoration-color: #00af00\">…</span> │\n│ (<span style=\"color: #0087ff; text-decoration-color: #0087ff\">Concatenate</span>)       │                   │            │ conv2d_7[<span style=\"color: #00af00; text-decoration-color: #00af00\">0</span>][<span style=\"color: #00af00; text-decoration-color: #00af00\">0</span>]    │\n├─────────────────────┼───────────────────┼────────────┼───────────────────┤\n│ conv2d_14 (<span style=\"color: #0087ff; text-decoration-color: #0087ff\">Conv2D</span>)  │ (<span style=\"color: #00d7ff; text-decoration-color: #00d7ff\">None</span>, <span style=\"color: #00af00; text-decoration-color: #00af00\">4</span>, <span style=\"color: #00af00; text-decoration-color: #00af00\">4</span>, <span style=\"color: #00af00; text-decoration-color: #00af00\">64</span>)  │    <span style=\"color: #00af00; text-decoration-color: #00af00\">110,656</span> │ concatenate_1[<span style=\"color: #00af00; text-decoration-color: #00af00\">0</span>]… │\n├─────────────────────┼───────────────────┼────────────┼───────────────────┤\n│ conv2d_15 (<span style=\"color: #0087ff; text-decoration-color: #0087ff\">Conv2D</span>)  │ (<span style=\"color: #00d7ff; text-decoration-color: #00d7ff\">None</span>, <span style=\"color: #00af00; text-decoration-color: #00af00\">4</span>, <span style=\"color: #00af00; text-decoration-color: #00af00\">4</span>, <span style=\"color: #00af00; text-decoration-color: #00af00\">64</span>)  │     <span style=\"color: #00af00; text-decoration-color: #00af00\">36,928</span> │ conv2d_14[<span style=\"color: #00af00; text-decoration-color: #00af00\">0</span>][<span style=\"color: #00af00; text-decoration-color: #00af00\">0</span>]   │\n├─────────────────────┼───────────────────┼────────────┼───────────────────┤\n│ batch_normalizatio… │ (<span style=\"color: #00d7ff; text-decoration-color: #00d7ff\">None</span>, <span style=\"color: #00af00; text-decoration-color: #00af00\">4</span>, <span style=\"color: #00af00; text-decoration-color: #00af00\">4</span>, <span style=\"color: #00af00; text-decoration-color: #00af00\">64</span>)  │        <span style=\"color: #00af00; text-decoration-color: #00af00\">256</span> │ conv2d_15[<span style=\"color: #00af00; text-decoration-color: #00af00\">0</span>][<span style=\"color: #00af00; text-decoration-color: #00af00\">0</span>]   │\n│ (<span style=\"color: #0087ff; text-decoration-color: #0087ff\">BatchNormalizatio…</span> │                   │            │                   │\n├─────────────────────┼───────────────────┼────────────┼───────────────────┤\n│ up_sampling2d_2     │ (<span style=\"color: #00d7ff; text-decoration-color: #00d7ff\">None</span>, <span style=\"color: #00af00; text-decoration-color: #00af00\">8</span>, <span style=\"color: #00af00; text-decoration-color: #00af00\">8</span>, <span style=\"color: #00af00; text-decoration-color: #00af00\">64</span>)  │          <span style=\"color: #00af00; text-decoration-color: #00af00\">0</span> │ batch_normalizat… │\n│ (<span style=\"color: #0087ff; text-decoration-color: #0087ff\">UpSampling2D</span>)      │                   │            │                   │\n├─────────────────────┼───────────────────┼────────────┼───────────────────┤\n│ concatenate_2       │ (<span style=\"color: #00d7ff; text-decoration-color: #00d7ff\">None</span>, <span style=\"color: #00af00; text-decoration-color: #00af00\">8</span>, <span style=\"color: #00af00; text-decoration-color: #00af00\">8</span>, <span style=\"color: #00af00; text-decoration-color: #00af00\">96</span>)  │          <span style=\"color: #00af00; text-decoration-color: #00af00\">0</span> │ up_sampling2d_2[<span style=\"color: #00af00; text-decoration-color: #00af00\">…</span> │\n│ (<span style=\"color: #0087ff; text-decoration-color: #0087ff\">Concatenate</span>)       │                   │            │ conv2d_5[<span style=\"color: #00af00; text-decoration-color: #00af00\">0</span>][<span style=\"color: #00af00; text-decoration-color: #00af00\">0</span>]    │\n├─────────────────────┼───────────────────┼────────────┼───────────────────┤\n│ conv2d_16 (<span style=\"color: #0087ff; text-decoration-color: #0087ff\">Conv2D</span>)  │ (<span style=\"color: #00d7ff; text-decoration-color: #00d7ff\">None</span>, <span style=\"color: #00af00; text-decoration-color: #00af00\">8</span>, <span style=\"color: #00af00; text-decoration-color: #00af00\">8</span>, <span style=\"color: #00af00; text-decoration-color: #00af00\">32</span>)  │     <span style=\"color: #00af00; text-decoration-color: #00af00\">27,680</span> │ concatenate_2[<span style=\"color: #00af00; text-decoration-color: #00af00\">0</span>]… │\n├─────────────────────┼───────────────────┼────────────┼───────────────────┤\n│ conv2d_17 (<span style=\"color: #0087ff; text-decoration-color: #0087ff\">Conv2D</span>)  │ (<span style=\"color: #00d7ff; text-decoration-color: #00d7ff\">None</span>, <span style=\"color: #00af00; text-decoration-color: #00af00\">8</span>, <span style=\"color: #00af00; text-decoration-color: #00af00\">8</span>, <span style=\"color: #00af00; text-decoration-color: #00af00\">32</span>)  │      <span style=\"color: #00af00; text-decoration-color: #00af00\">9,248</span> │ conv2d_16[<span style=\"color: #00af00; text-decoration-color: #00af00\">0</span>][<span style=\"color: #00af00; text-decoration-color: #00af00\">0</span>]   │\n├─────────────────────┼───────────────────┼────────────┼───────────────────┤\n│ batch_normalizatio… │ (<span style=\"color: #00d7ff; text-decoration-color: #00d7ff\">None</span>, <span style=\"color: #00af00; text-decoration-color: #00af00\">8</span>, <span style=\"color: #00af00; text-decoration-color: #00af00\">8</span>, <span style=\"color: #00af00; text-decoration-color: #00af00\">32</span>)  │        <span style=\"color: #00af00; text-decoration-color: #00af00\">128</span> │ conv2d_17[<span style=\"color: #00af00; text-decoration-color: #00af00\">0</span>][<span style=\"color: #00af00; text-decoration-color: #00af00\">0</span>]   │\n│ (<span style=\"color: #0087ff; text-decoration-color: #0087ff\">BatchNormalizatio…</span> │                   │            │                   │\n├─────────────────────┼───────────────────┼────────────┼───────────────────┤\n│ up_sampling2d_3     │ (<span style=\"color: #00d7ff; text-decoration-color: #00d7ff\">None</span>, <span style=\"color: #00af00; text-decoration-color: #00af00\">16</span>, <span style=\"color: #00af00; text-decoration-color: #00af00\">16</span>,    │          <span style=\"color: #00af00; text-decoration-color: #00af00\">0</span> │ batch_normalizat… │\n│ (<span style=\"color: #0087ff; text-decoration-color: #0087ff\">UpSampling2D</span>)      │ <span style=\"color: #00af00; text-decoration-color: #00af00\">32</span>)               │            │                   │\n├─────────────────────┼───────────────────┼────────────┼───────────────────┤\n│ concatenate_3       │ (<span style=\"color: #00d7ff; text-decoration-color: #00d7ff\">None</span>, <span style=\"color: #00af00; text-decoration-color: #00af00\">16</span>, <span style=\"color: #00af00; text-decoration-color: #00af00\">16</span>,    │          <span style=\"color: #00af00; text-decoration-color: #00af00\">0</span> │ up_sampling2d_3[<span style=\"color: #00af00; text-decoration-color: #00af00\">…</span> │\n│ (<span style=\"color: #0087ff; text-decoration-color: #0087ff\">Concatenate</span>)       │ <span style=\"color: #00af00; text-decoration-color: #00af00\">48</span>)               │            │ conv2d_3[<span style=\"color: #00af00; text-decoration-color: #00af00\">0</span>][<span style=\"color: #00af00; text-decoration-color: #00af00\">0</span>]    │\n├─────────────────────┼───────────────────┼────────────┼───────────────────┤\n│ conv2d_18 (<span style=\"color: #0087ff; text-decoration-color: #0087ff\">Conv2D</span>)  │ (<span style=\"color: #00d7ff; text-decoration-color: #00d7ff\">None</span>, <span style=\"color: #00af00; text-decoration-color: #00af00\">16</span>, <span style=\"color: #00af00; text-decoration-color: #00af00\">16</span>,    │      <span style=\"color: #00af00; text-decoration-color: #00af00\">6,928</span> │ concatenate_3[<span style=\"color: #00af00; text-decoration-color: #00af00\">0</span>]… │\n│                     │ <span style=\"color: #00af00; text-decoration-color: #00af00\">16</span>)               │            │                   │\n├─────────────────────┼───────────────────┼────────────┼───────────────────┤\n│ conv2d_19 (<span style=\"color: #0087ff; text-decoration-color: #0087ff\">Conv2D</span>)  │ (<span style=\"color: #00d7ff; text-decoration-color: #00d7ff\">None</span>, <span style=\"color: #00af00; text-decoration-color: #00af00\">16</span>, <span style=\"color: #00af00; text-decoration-color: #00af00\">16</span>,    │      <span style=\"color: #00af00; text-decoration-color: #00af00\">2,320</span> │ conv2d_18[<span style=\"color: #00af00; text-decoration-color: #00af00\">0</span>][<span style=\"color: #00af00; text-decoration-color: #00af00\">0</span>]   │\n│                     │ <span style=\"color: #00af00; text-decoration-color: #00af00\">16</span>)               │            │                   │\n├─────────────────────┼───────────────────┼────────────┼───────────────────┤\n│ batch_normalizatio… │ (<span style=\"color: #00d7ff; text-decoration-color: #00d7ff\">None</span>, <span style=\"color: #00af00; text-decoration-color: #00af00\">16</span>, <span style=\"color: #00af00; text-decoration-color: #00af00\">16</span>,    │         <span style=\"color: #00af00; text-decoration-color: #00af00\">64</span> │ conv2d_19[<span style=\"color: #00af00; text-decoration-color: #00af00\">0</span>][<span style=\"color: #00af00; text-decoration-color: #00af00\">0</span>]   │\n│ (<span style=\"color: #0087ff; text-decoration-color: #0087ff\">BatchNormalizatio…</span> │ <span style=\"color: #00af00; text-decoration-color: #00af00\">16</span>)               │            │                   │\n├─────────────────────┼───────────────────┼────────────┼───────────────────┤\n│ up_sampling2d_4     │ (<span style=\"color: #00d7ff; text-decoration-color: #00d7ff\">None</span>, <span style=\"color: #00af00; text-decoration-color: #00af00\">32</span>, <span style=\"color: #00af00; text-decoration-color: #00af00\">32</span>,    │          <span style=\"color: #00af00; text-decoration-color: #00af00\">0</span> │ batch_normalizat… │\n│ (<span style=\"color: #0087ff; text-decoration-color: #0087ff\">UpSampling2D</span>)      │ <span style=\"color: #00af00; text-decoration-color: #00af00\">16</span>)               │            │                   │\n├─────────────────────┼───────────────────┼────────────┼───────────────────┤\n│ concatenate_4       │ (<span style=\"color: #00d7ff; text-decoration-color: #00d7ff\">None</span>, <span style=\"color: #00af00; text-decoration-color: #00af00\">32</span>, <span style=\"color: #00af00; text-decoration-color: #00af00\">32</span>,    │          <span style=\"color: #00af00; text-decoration-color: #00af00\">0</span> │ up_sampling2d_4[<span style=\"color: #00af00; text-decoration-color: #00af00\">…</span> │\n│ (<span style=\"color: #0087ff; text-decoration-color: #0087ff\">Concatenate</span>)       │ <span style=\"color: #00af00; text-decoration-color: #00af00\">24</span>)               │            │ conv2d_1[<span style=\"color: #00af00; text-decoration-color: #00af00\">0</span>][<span style=\"color: #00af00; text-decoration-color: #00af00\">0</span>]    │\n├─────────────────────┼───────────────────┼────────────┼───────────────────┤\n│ conv2d_20 (<span style=\"color: #0087ff; text-decoration-color: #0087ff\">Conv2D</span>)  │ (<span style=\"color: #00d7ff; text-decoration-color: #00d7ff\">None</span>, <span style=\"color: #00af00; text-decoration-color: #00af00\">32</span>, <span style=\"color: #00af00; text-decoration-color: #00af00\">32</span>, <span style=\"color: #00af00; text-decoration-color: #00af00\">8</span>) │      <span style=\"color: #00af00; text-decoration-color: #00af00\">1,736</span> │ concatenate_4[<span style=\"color: #00af00; text-decoration-color: #00af00\">0</span>]… │\n├─────────────────────┼───────────────────┼────────────┼───────────────────┤\n│ conv2d_21 (<span style=\"color: #0087ff; text-decoration-color: #0087ff\">Conv2D</span>)  │ (<span style=\"color: #00d7ff; text-decoration-color: #00d7ff\">None</span>, <span style=\"color: #00af00; text-decoration-color: #00af00\">32</span>, <span style=\"color: #00af00; text-decoration-color: #00af00\">32</span>, <span style=\"color: #00af00; text-decoration-color: #00af00\">8</span>) │        <span style=\"color: #00af00; text-decoration-color: #00af00\">584</span> │ conv2d_20[<span style=\"color: #00af00; text-decoration-color: #00af00\">0</span>][<span style=\"color: #00af00; text-decoration-color: #00af00\">0</span>]   │\n├─────────────────────┼───────────────────┼────────────┼───────────────────┤\n│ batch_normalizatio… │ (<span style=\"color: #00d7ff; text-decoration-color: #00d7ff\">None</span>, <span style=\"color: #00af00; text-decoration-color: #00af00\">32</span>, <span style=\"color: #00af00; text-decoration-color: #00af00\">32</span>, <span style=\"color: #00af00; text-decoration-color: #00af00\">8</span>) │         <span style=\"color: #00af00; text-decoration-color: #00af00\">32</span> │ conv2d_21[<span style=\"color: #00af00; text-decoration-color: #00af00\">0</span>][<span style=\"color: #00af00; text-decoration-color: #00af00\">0</span>]   │\n│ (<span style=\"color: #0087ff; text-decoration-color: #0087ff\">BatchNormalizatio…</span> │                   │            │                   │\n├─────────────────────┼───────────────────┼────────────┼───────────────────┤\n│ conv2d_22 (<span style=\"color: #0087ff; text-decoration-color: #0087ff\">Conv2D</span>)  │ (<span style=\"color: #00d7ff; text-decoration-color: #00d7ff\">None</span>, <span style=\"color: #00af00; text-decoration-color: #00af00\">32</span>, <span style=\"color: #00af00; text-decoration-color: #00af00\">32</span>,    │      <span style=\"color: #00af00; text-decoration-color: #00af00\">2,336</span> │ batch_normalizat… │\n│                     │ <span style=\"color: #00af00; text-decoration-color: #00af00\">32</span>)               │            │                   │\n├─────────────────────┼───────────────────┼────────────┼───────────────────┤\n│ flatten (<span style=\"color: #0087ff; text-decoration-color: #0087ff\">Flatten</span>)   │ (<span style=\"color: #00d7ff; text-decoration-color: #00d7ff\">None</span>, <span style=\"color: #00af00; text-decoration-color: #00af00\">32768</span>)     │          <span style=\"color: #00af00; text-decoration-color: #00af00\">0</span> │ conv2d_22[<span style=\"color: #00af00; text-decoration-color: #00af00\">0</span>][<span style=\"color: #00af00; text-decoration-color: #00af00\">0</span>]   │\n├─────────────────────┼───────────────────┼────────────┼───────────────────┤\n│ dense (<span style=\"color: #0087ff; text-decoration-color: #0087ff\">Dense</span>)       │ (<span style=\"color: #00d7ff; text-decoration-color: #00d7ff\">None</span>, <span style=\"color: #00af00; text-decoration-color: #00af00\">10</span>)        │    <span style=\"color: #00af00; text-decoration-color: #00af00\">327,690</span> │ flatten[<span style=\"color: #00af00; text-decoration-color: #00af00\">0</span>][<span style=\"color: #00af00; text-decoration-color: #00af00\">0</span>]     │\n├─────────────────────┼───────────────────┼────────────┼───────────────────┤\n│ dense_1 (<span style=\"color: #0087ff; text-decoration-color: #0087ff\">Dense</span>)     │ (<span style=\"color: #00d7ff; text-decoration-color: #00d7ff\">None</span>, <span style=\"color: #00af00; text-decoration-color: #00af00\">1</span>)         │         <span style=\"color: #00af00; text-decoration-color: #00af00\">11</span> │ dense[<span style=\"color: #00af00; text-decoration-color: #00af00\">0</span>][<span style=\"color: #00af00; text-decoration-color: #00af00\">0</span>]       │\n└─────────────────────┴───────────────────┴────────────┴───────────────────┘\n</pre>\n"
     },
     "metadata": {},
     "output_type": "display_data"
    },
    {
     "data": {
      "text/plain": "\u001B[1m Total params: \u001B[0m\u001B[38;5;34m2,297,341\u001B[0m (8.76 MB)\n",
      "text/html": "<pre style=\"white-space:pre;overflow-x:auto;line-height:normal;font-family:Menlo,'DejaVu Sans Mono',consolas,'Courier New',monospace\"><span style=\"font-weight: bold\"> Total params: </span><span style=\"color: #00af00; text-decoration-color: #00af00\">2,297,341</span> (8.76 MB)\n</pre>\n"
     },
     "metadata": {},
     "output_type": "display_data"
    },
    {
     "data": {
      "text/plain": "\u001B[1m Trainable params: \u001B[0m\u001B[38;5;34m2,296,845\u001B[0m (8.76 MB)\n",
      "text/html": "<pre style=\"white-space:pre;overflow-x:auto;line-height:normal;font-family:Menlo,'DejaVu Sans Mono',consolas,'Courier New',monospace\"><span style=\"font-weight: bold\"> Trainable params: </span><span style=\"color: #00af00; text-decoration-color: #00af00\">2,296,845</span> (8.76 MB)\n</pre>\n"
     },
     "metadata": {},
     "output_type": "display_data"
    },
    {
     "data": {
      "text/plain": "\u001B[1m Non-trainable params: \u001B[0m\u001B[38;5;34m496\u001B[0m (1.94 KB)\n",
      "text/html": "<pre style=\"white-space:pre;overflow-x:auto;line-height:normal;font-family:Menlo,'DejaVu Sans Mono',consolas,'Courier New',monospace\"><span style=\"font-weight: bold\"> Non-trainable params: </span><span style=\"color: #00af00; text-decoration-color: #00af00\">496</span> (1.94 KB)\n</pre>\n"
     },
     "metadata": {},
     "output_type": "display_data"
    }
   ],
   "source": [
    "def build_UNET_d():\n",
    "    input_layer = keras.Input(shape=(28, 28, 1))\n",
    "    x = layers.ZeroPadding2D(((4,0),(4,0)))(input_layer)\n",
    "\n",
    "    # Contracting Path\n",
    "    conv1 = layers.Conv2D(8, (3,3), activation=\"swish\", padding=\"same\")(x)\n",
    "    conv1 = layers.Conv2D(8, (3,3), activation=\"swish\", padding=\"same\")(conv1)\n",
    "    pool1 = layers.MaxPooling2D(pool_size=(2,2))(conv1)\n",
    "\n",
    "    conv2 = layers.Conv2D(16, (3,3), activation=\"swish\", padding=\"same\")(pool1)\n",
    "    conv2 = layers.Conv2D(16, (3,3), activation=\"swish\", padding=\"same\")(conv2)\n",
    "    pool2 = layers.MaxPooling2D(pool_size=(2,2))(conv2)\n",
    "\n",
    "    conv3 = layers.Conv2D(32, (3,3), activation=\"swish\", padding=\"same\")(pool2)\n",
    "    conv3 = layers.Conv2D(32, (3,3), activation=\"swish\", padding=\"same\")(conv3)\n",
    "    pool3 = layers.MaxPooling2D(pool_size=(2,2))(conv3)\n",
    "\n",
    "    conv4 = layers.Conv2D(64, (3,3), activation=\"swish\", padding=\"same\")(pool3)\n",
    "    conv4 = layers.Conv2D(64, (3,3), activation=\"swish\", padding=\"same\")(conv4)\n",
    "    pool4 = layers.MaxPooling2D(pool_size=(2,2))(conv4)\n",
    "    \n",
    "    conv5 = layers.Conv2D(128, (3,3), activation=\"swish\", padding=\"same\")(pool4)\n",
    "    conv5 = layers.Conv2D(128, (3,3), activation=\"swish\", padding=\"same\")(conv5)\n",
    "    pool5 = layers.MaxPooling2D(pool_size=(2,2))(conv5)\n",
    "\n",
    "    # Bottleneck\n",
    "    convm = layers.Conv2D(256, (3,3), activation=\"swish\", padding=\"same\")(pool5)\n",
    "    convm = layers.Conv2D(256, (3,3), activation=\"swish\", padding=\"same\")(convm)\n",
    "    convm = layers.Dropout(0.5)(convm)\n",
    "\n",
    "    # Expansive Path\n",
    "    up6 = layers.UpSampling2D(size=(2,2))(convm)\n",
    "    cat6 = layers.Concatenate()([up6, conv5])\n",
    "    conv6 = layers.Conv2D(128, (3,3), activation=\"swish\",padding=\"same\")(cat6)\n",
    "    conv6 = layers.Conv2D(128, (3,3), activation=\"swish\",padding=\"same\")(conv6)\n",
    "    conv6 = layers.BatchNormalization()(conv6)\n",
    "\n",
    "    up7 = layers.UpSampling2D(size=(2,2))(conv6)\n",
    "    cat7 = layers.Concatenate()([up7, conv4])\n",
    "    conv7 = layers.Conv2D(64, (3,3), activation=\"swish\", padding=\"same\")(cat7)\n",
    "    conv7 = layers.Conv2D(64, (3,3), activation=\"swish\", padding=\"same\")(conv7)\n",
    "    conv7 = layers.BatchNormalization()(conv7)\n",
    "\n",
    "    up8 = layers.UpSampling2D(size=(2,2))(conv7)\n",
    "    cat8 = layers.Concatenate()([up8, conv3])\n",
    "    conv8 = layers.Conv2D(32, (3,3), activation=\"swish\", padding=\"same\")(cat8)\n",
    "    conv8 = layers.Conv2D(32, (3,3), activation=\"swish\", padding=\"same\")(conv8)\n",
    "    conv8 = layers.BatchNormalization()(conv8)\n",
    "\n",
    "    up9 = layers.UpSampling2D(size=(2,2))(conv8)\n",
    "    cat9 = layers.Concatenate()([up9, conv2])\n",
    "    conv9 = layers.Conv2D(16, (3,3), activation=\"swish\", padding=\"same\")(cat9)\n",
    "    conv9 = layers.Conv2D(16, (3,3), activation=\"swish\", padding=\"same\")(conv9)\n",
    "    conv9 = layers.BatchNormalization()(conv9)\n",
    "    \n",
    "    up10 = layers.UpSampling2D(size=(2,2))(conv9)\n",
    "    cat10 = layers.Concatenate()([up10, conv1])\n",
    "    conv10 = layers.Conv2D(8, (3,3), activation=\"swish\", padding=\"same\")(cat10)\n",
    "    conv10 = layers.Conv2D(8, (3,3), activation=\"swish\", padding=\"same\")(conv10)\n",
    "    conv10 = layers.BatchNormalization()(conv10)\n",
    "\n",
    "    # Final layers\n",
    "    x = layers.Conv2D(32, kernel_size=(3,3), strides=1, padding=\"same\")(conv10)\n",
    "    x = layers.Flatten()(x)\n",
    "    x = layers.Dense(10)(x)\n",
    "    output = layers.Dense(1, activation=\"sigmoid\")(x)\n",
    "\n",
    "    model = keras.Model(inputs=input_layer, outputs=output)\n",
    "\n",
    "    return model\n",
    "build_UNET_d().summary()"
   ],
   "metadata": {
    "collapsed": false,
    "ExecuteTime": {
     "end_time": "2024-04-06T22:26:52.705671Z",
     "start_time": "2024-04-06T22:26:51.832668Z"
    }
   },
   "execution_count": 13
  },
  {
   "metadata": {},
   "cell_type": "code",
   "outputs": [],
   "execution_count": 14,
   "source": [
    "kfold = sklearn.model_selection.StratifiedKFold(n_splits=3)\n",
    "batch_size = 1000\n",
    "\n",
    "def run(images, target):\n",
    "    fold_scores = []\n",
    "    wandb.init(config={\"bs\": batch_size})\n",
    "\n",
    "\n",
    "    for fold, (trn_idx, val_idx) in enumerate(kfold.split(images, target)):\n",
    "        tf.keras.backend.clear_session()\n",
    "        tf.random.set_seed(7453)\n",
    "                \n",
    "        X_train, y_train = images[trn_idx], target[trn_idx]\n",
    "        X_val, y_val = images[val_idx], target[val_idx]\n",
    "        print(f\"#### fold: {fold +1} ####\")\n",
    "\n",
    "        initial_learning_rate = 0.01\n",
    "        epochs = 75\n",
    "        #epochs = 5\n",
    "        lr = ReduceLROnPlateau(monitor=\"val_loss\", \n",
    "                               factor=0.7, \n",
    "                               patience=3, \n",
    "                               verbose=0)\n",
    "\n",
    "        model = build_UNET_d()\n",
    "        \n",
    "        model.compile(\n",
    "            loss=tf.keras.losses.BinaryCrossentropy(),\n",
    "            optimizer=tf.keras.optimizers.Nadam(\n",
    "                learning_rate=initial_learning_rate, \n",
    "                clipvalue=0.5, \n",
    "                clipnorm=1.0\n",
    "            ),\n",
    "            metrics=[\"accuracy\"],\n",
    "        )\n",
    "\n",
    "        mcp_save = tf.keras.callbacks.ModelCheckpoint(\n",
    "            model_path+f\"/best_model_{fold}.keras\",\n",
    "            save_best_only=True,\n",
    "            monitor=\"val_loss\",\n",
    "            mode=\"auto\",\n",
    "        )\n",
    "\n",
    "        ES = EarlyStopping(\n",
    "            monitor=\"val_loss\",\n",
    "            min_delta=0,\n",
    "            patience=10,\n",
    "            verbose=0,\n",
    "            mode=\"auto\",\n",
    "            baseline=None,\n",
    "            restore_best_weights=True,\n",
    "        )\n",
    "\n",
    "        history = model.fit(\n",
    "            X_train,\n",
    "            y_train,\n",
    "            epochs=epochs,\n",
    "            verbose=1,\n",
    "            batch_size=batch_size,\n",
    "            validation_data=(\n",
    "                    X_val, \n",
    "                    y_val, \n",
    "                    ),\n",
    "            callbacks=[lr, mcp_save, ES, WandbMetricsLogger()]\n",
    "        )\n",
    "\n",
    "        y_pred = model.predict(X_val, \n",
    "                               batch_size=batch_size, \n",
    "                               verbose=0).ravel()\n",
    "\n",
    "        score = amex_metric_mod(y_val, y_pred)\n",
    "        print(f\"Fold {fold + 1}: {score}\")\n",
    "\n",
    "        fold_scores.append(score)\n",
    "        del (\n",
    "            model,\n",
    "            history,\n",
    "            mcp_save,\n",
    "        )\n",
    "\n",
    "        del y_pred, score, X_train, y_train, X_val, y_val\n",
    "        gc.collect()\n",
    "\n",
    "    gc.collect()\n",
    "    print(f\"Overall score: {np.mean(fold_scores, axis=0)}\")\n",
    "    del fold_scores\n",
    "    wandb.finish()"
   ]
  },
  {
   "cell_type": "code",
   "outputs": [
    {
     "data": {
      "text/plain": "<IPython.core.display.HTML object>",
      "text/html": "Tracking run with wandb version 0.16.6"
     },
     "metadata": {},
     "output_type": "display_data"
    },
    {
     "data": {
      "text/plain": "<IPython.core.display.HTML object>",
      "text/html": "Run data is saved locally in <code>/workspace/wandb/run-20240406_222811-1d1uvvbv</code>"
     },
     "metadata": {},
     "output_type": "display_data"
    },
    {
     "data": {
      "text/plain": "<IPython.core.display.HTML object>",
      "text/html": "Syncing run <strong><a href='https://wandb.ai/chunb123-team/cnn/runs/1d1uvvbv' target=\"_blank\">hirogen-manoeuvre-4</a></strong> to <a href='https://wandb.ai/chunb123-team/cnn' target=\"_blank\">Weights & Biases</a> (<a href='https://wandb.me/run' target=\"_blank\">docs</a>)<br/>"
     },
     "metadata": {},
     "output_type": "display_data"
    },
    {
     "data": {
      "text/plain": "<IPython.core.display.HTML object>",
      "text/html": " View project at <a href='https://wandb.ai/chunb123-team/cnn' target=\"_blank\">https://wandb.ai/chunb123-team/cnn</a>"
     },
     "metadata": {},
     "output_type": "display_data"
    },
    {
     "data": {
      "text/plain": "<IPython.core.display.HTML object>",
      "text/html": " View run at <a href='https://wandb.ai/chunb123-team/cnn/runs/1d1uvvbv' target=\"_blank\">https://wandb.ai/chunb123-team/cnn/runs/1d1uvvbv</a>"
     },
     "metadata": {},
     "output_type": "display_data"
    },
    {
     "name": "stdout",
     "output_type": "stream",
     "text": [
      "#### fold: 1 ####\n",
      "Epoch 1/75\n"
     ]
    },
    {
     "name": "stderr",
     "output_type": "stream",
     "text": [
      "WARNING: All log messages before absl::InitializeLog() is called are written to STDERR\n",
      "I0000 00:00:1712442504.116193   46790 service.cc:145] XLA service 0x7f0ea80035b0 initialized for platform CUDA (this does not guarantee that XLA will be used). Devices:\n",
      "I0000 00:00:1712442504.116307   46790 service.cc:153]   StreamExecutor device (0): NVIDIA GeForce RTX 3090, Compute Capability 8.6\n",
      "2024-04-06 22:28:24.458256: I tensorflow/compiler/mlir/tensorflow/utils/dump_mlir_util.cc:268] disabling MLIR crash reproducer, set env var `MLIR_CRASH_REPRODUCER_DIRECTORY` to enable.\n",
      "2024-04-06 22:28:25.797467: I external/local_xla/xla/stream_executor/cuda/cuda_dnn.cc:465] Loaded cuDNN version 8906\n"
     ]
    },
    {
     "name": "stdout",
     "output_type": "stream",
     "text": [
      "\u001B[1m  5/306\u001B[0m \u001B[37m━━━━━━━━━━━━━━━━━━━━\u001B[0m \u001B[1m8s\u001B[0m 27ms/step - accuracy: 0.6707 - loss: 7.6407"
     ]
    },
    {
     "name": "stderr",
     "output_type": "stream",
     "text": [
      "I0000 00:00:1712442519.026309   46790 device_compiler.h:188] Compiled cluster using XLA!  This line is logged at most once for the lifetime of the process.\n"
     ]
    },
    {
     "name": "stdout",
     "output_type": "stream",
     "text": [
      "\u001B[1m306/306\u001B[0m \u001B[32m━━━━━━━━━━━━━━━━━━━━\u001B[0m\u001B[37m\u001B[0m \u001B[1m0s\u001B[0m 67ms/step - accuracy: 0.7761 - loss: 10.7473"
     ]
    },
    {
     "name": "stderr",
     "output_type": "stream",
     "text": [
      "\u001B[34m\u001B[1mwandb\u001B[0m: \u001B[32m\u001B[41mERROR\u001B[0m Unable to log learning rate.\n"
     ]
    },
    {
     "name": "stdout",
     "output_type": "stream",
     "text": [
      "\u001B[1m306/306\u001B[0m \u001B[32m━━━━━━━━━━━━━━━━━━━━\u001B[0m\u001B[37m\u001B[0m \u001B[1m50s\u001B[0m 84ms/step - accuracy: 0.7763 - loss: 10.7230 - val_accuracy: 0.8942 - val_loss: 0.2383 - learning_rate: 0.0100\n",
      "Epoch 2/75\n",
      "\u001B[1m306/306\u001B[0m \u001B[32m━━━━━━━━━━━━━━━━━━━━\u001B[0m\u001B[37m\u001B[0m \u001B[1m8s\u001B[0m 27ms/step - accuracy: 0.8957 - loss: 0.2341 - val_accuracy: 0.8945 - val_loss: 0.2367 - learning_rate: 0.0100\n",
      "Epoch 3/75\n",
      "\u001B[1m306/306\u001B[0m \u001B[32m━━━━━━━━━━━━━━━━━━━━\u001B[0m\u001B[37m\u001B[0m \u001B[1m9s\u001B[0m 28ms/step - accuracy: 0.8973 - loss: 0.2309 - val_accuracy: 0.8947 - val_loss: 0.2378 - learning_rate: 0.0100\n",
      "Epoch 4/75\n",
      "\u001B[1m306/306\u001B[0m \u001B[32m━━━━━━━━━━━━━━━━━━━━\u001B[0m\u001B[37m\u001B[0m \u001B[1m8s\u001B[0m 27ms/step - accuracy: 0.8952 - loss: 0.2373 - val_accuracy: 0.8943 - val_loss: 0.2389 - learning_rate: 0.0100\n",
      "Epoch 5/75\n",
      "\u001B[1m306/306\u001B[0m \u001B[32m━━━━━━━━━━━━━━━━━━━━\u001B[0m\u001B[37m\u001B[0m \u001B[1m8s\u001B[0m 27ms/step - accuracy: 0.8990 - loss: 0.2283 - val_accuracy: 0.8923 - val_loss: 0.2426 - learning_rate: 0.0100\n",
      "Epoch 6/75\n",
      "\u001B[1m306/306\u001B[0m \u001B[32m━━━━━━━━━━━━━━━━━━━━\u001B[0m\u001B[37m\u001B[0m \u001B[1m9s\u001B[0m 28ms/step - accuracy: 0.9000 - loss: 0.2259 - val_accuracy: 0.8958 - val_loss: 0.2358 - learning_rate: 0.0070\n",
      "Epoch 7/75\n",
      "\u001B[1m306/306\u001B[0m \u001B[32m━━━━━━━━━━━━━━━━━━━━\u001B[0m\u001B[37m\u001B[0m \u001B[1m8s\u001B[0m 27ms/step - accuracy: 0.8994 - loss: 0.2265 - val_accuracy: 0.8951 - val_loss: 0.2348 - learning_rate: 0.0070\n",
      "Epoch 8/75\n",
      "\u001B[1m306/306\u001B[0m \u001B[32m━━━━━━━━━━━━━━━━━━━━\u001B[0m\u001B[37m\u001B[0m \u001B[1m8s\u001B[0m 27ms/step - accuracy: 0.9004 - loss: 0.2250 - val_accuracy: 0.8946 - val_loss: 0.2360 - learning_rate: 0.0070\n",
      "Epoch 9/75\n",
      "\u001B[1m306/306\u001B[0m \u001B[32m━━━━━━━━━━━━━━━━━━━━\u001B[0m\u001B[37m\u001B[0m \u001B[1m8s\u001B[0m 27ms/step - accuracy: 0.9011 - loss: 0.2234 - val_accuracy: 0.8944 - val_loss: 0.2368 - learning_rate: 0.0070\n",
      "Epoch 10/75\n",
      "\u001B[1m306/306\u001B[0m \u001B[32m━━━━━━━━━━━━━━━━━━━━\u001B[0m\u001B[37m\u001B[0m \u001B[1m8s\u001B[0m 27ms/step - accuracy: 0.9011 - loss: 0.2228 - val_accuracy: 0.8936 - val_loss: 0.2384 - learning_rate: 0.0070\n",
      "Epoch 11/75\n",
      "\u001B[1m306/306\u001B[0m \u001B[32m━━━━━━━━━━━━━━━━━━━━\u001B[0m\u001B[37m\u001B[0m \u001B[1m8s\u001B[0m 27ms/step - accuracy: 0.9016 - loss: 0.2217 - val_accuracy: 0.8935 - val_loss: 0.2392 - learning_rate: 0.0049\n",
      "Epoch 12/75\n",
      "\u001B[1m306/306\u001B[0m \u001B[32m━━━━━━━━━━━━━━━━━━━━\u001B[0m\u001B[37m\u001B[0m \u001B[1m8s\u001B[0m 27ms/step - accuracy: 0.9021 - loss: 0.2205 - val_accuracy: 0.8929 - val_loss: 0.2405 - learning_rate: 0.0049\n",
      "Epoch 13/75\n",
      "\u001B[1m306/306\u001B[0m \u001B[32m━━━━━━━━━━━━━━━━━━━━\u001B[0m\u001B[37m\u001B[0m \u001B[1m8s\u001B[0m 27ms/step - accuracy: 0.9027 - loss: 0.2196 - val_accuracy: 0.8916 - val_loss: 0.2427 - learning_rate: 0.0049\n",
      "Epoch 14/75\n",
      "\u001B[1m306/306\u001B[0m \u001B[32m━━━━━━━━━━━━━━━━━━━━\u001B[0m\u001B[37m\u001B[0m \u001B[1m8s\u001B[0m 27ms/step - accuracy: 0.9034 - loss: 0.2179 - val_accuracy: 0.8920 - val_loss: 0.2422 - learning_rate: 0.0034\n",
      "Epoch 15/75\n",
      "\u001B[1m306/306\u001B[0m \u001B[32m━━━━━━━━━━━━━━━━━━━━\u001B[0m\u001B[37m\u001B[0m \u001B[1m9s\u001B[0m 28ms/step - accuracy: 0.9043 - loss: 0.2169 - val_accuracy: 0.8918 - val_loss: 0.2422 - learning_rate: 0.0034\n",
      "Epoch 16/75\n",
      "\u001B[1m306/306\u001B[0m \u001B[32m━━━━━━━━━━━━━━━━━━━━\u001B[0m\u001B[37m\u001B[0m \u001B[1m8s\u001B[0m 28ms/step - accuracy: 0.9046 - loss: 0.2161 - val_accuracy: 0.8920 - val_loss: 0.2423 - learning_rate: 0.0034\n",
      "Epoch 17/75\n",
      "\u001B[1m306/306\u001B[0m \u001B[32m━━━━━━━━━━━━━━━━━━━━\u001B[0m\u001B[37m\u001B[0m \u001B[1m8s\u001B[0m 28ms/step - accuracy: 0.9047 - loss: 0.2155 - val_accuracy: 0.8930 - val_loss: 0.2415 - learning_rate: 0.0024\n",
      "Fold 1: 0.7679483188002043\n",
      "#### fold: 2 ####\n",
      "Epoch 1/75\n",
      "\u001B[1m306/306\u001B[0m \u001B[32m━━━━━━━━━━━━━━━━━━━━\u001B[0m\u001B[37m\u001B[0m \u001B[1m34s\u001B[0m 59ms/step - accuracy: 0.8192 - loss: 5.1137 - val_accuracy: 0.8958 - val_loss: 0.2359 - learning_rate: 0.0100\n",
      "Epoch 2/75\n",
      "\u001B[1m306/306\u001B[0m \u001B[32m━━━━━━━━━━━━━━━━━━━━\u001B[0m\u001B[37m\u001B[0m \u001B[1m9s\u001B[0m 28ms/step - accuracy: 0.8955 - loss: 0.2347 - val_accuracy: 0.8966 - val_loss: 0.2332 - learning_rate: 0.0100\n",
      "Epoch 3/75\n",
      "\u001B[1m306/306\u001B[0m \u001B[32m━━━━━━━━━━━━━━━━━━━━\u001B[0m\u001B[37m\u001B[0m \u001B[1m9s\u001B[0m 29ms/step - accuracy: 0.8967 - loss: 0.2310 - val_accuracy: 0.8969 - val_loss: 0.2313 - learning_rate: 0.0100\n",
      "Epoch 4/75\n",
      "\u001B[1m306/306\u001B[0m \u001B[32m━━━━━━━━━━━━━━━━━━━━\u001B[0m\u001B[37m\u001B[0m \u001B[1m9s\u001B[0m 28ms/step - accuracy: 0.8982 - loss: 0.2291 - val_accuracy: 0.8969 - val_loss: 0.2313 - learning_rate: 0.0100\n",
      "Epoch 5/75\n",
      "\u001B[1m306/306\u001B[0m \u001B[32m━━━━━━━━━━━━━━━━━━━━\u001B[0m\u001B[37m\u001B[0m \u001B[1m9s\u001B[0m 29ms/step - accuracy: 0.8993 - loss: 0.2276 - val_accuracy: 0.8960 - val_loss: 0.2340 - learning_rate: 0.0100\n",
      "Epoch 6/75\n",
      "\u001B[1m306/306\u001B[0m \u001B[32m━━━━━━━━━━━━━━━━━━━━\u001B[0m\u001B[37m\u001B[0m \u001B[1m8s\u001B[0m 27ms/step - accuracy: 0.8969 - loss: 0.2530 - val_accuracy: 0.8908 - val_loss: 0.2471 - learning_rate: 0.0100\n",
      "Epoch 7/75\n",
      "\u001B[1m306/306\u001B[0m \u001B[32m━━━━━━━━━━━━━━━━━━━━\u001B[0m\u001B[37m\u001B[0m \u001B[1m9s\u001B[0m 28ms/step - accuracy: 0.8957 - loss: 0.2337 - val_accuracy: 0.8974 - val_loss: 0.2310 - learning_rate: 0.0070\n",
      "Epoch 8/75\n",
      "\u001B[1m306/306\u001B[0m \u001B[32m━━━━━━━━━━━━━━━━━━━━\u001B[0m\u001B[37m\u001B[0m \u001B[1m9s\u001B[0m 28ms/step - accuracy: 0.8974 - loss: 0.2302 - val_accuracy: 0.8973 - val_loss: 0.2308 - learning_rate: 0.0070\n",
      "Epoch 9/75\n",
      "\u001B[1m306/306\u001B[0m \u001B[32m━━━━━━━━━━━━━━━━━━━━\u001B[0m\u001B[37m\u001B[0m \u001B[1m9s\u001B[0m 28ms/step - accuracy: 0.8984 - loss: 0.2284 - val_accuracy: 0.8974 - val_loss: 0.2307 - learning_rate: 0.0070\n",
      "Epoch 10/75\n",
      "\u001B[1m306/306\u001B[0m \u001B[32m━━━━━━━━━━━━━━━━━━━━\u001B[0m\u001B[37m\u001B[0m \u001B[1m9s\u001B[0m 28ms/step - accuracy: 0.8990 - loss: 0.2270 - val_accuracy: 0.8976 - val_loss: 0.2305 - learning_rate: 0.0070\n",
      "Epoch 11/75\n",
      "\u001B[1m306/306\u001B[0m \u001B[32m━━━━━━━━━━━━━━━━━━━━\u001B[0m\u001B[37m\u001B[0m \u001B[1m8s\u001B[0m 28ms/step - accuracy: 0.8993 - loss: 0.2259 - val_accuracy: 0.8961 - val_loss: 0.2328 - learning_rate: 0.0070\n",
      "Epoch 12/75\n",
      "\u001B[1m306/306\u001B[0m \u001B[32m━━━━━━━━━━━━━━━━━━━━\u001B[0m\u001B[37m\u001B[0m \u001B[1m9s\u001B[0m 28ms/step - accuracy: 0.9000 - loss: 0.2249 - val_accuracy: 0.8952 - val_loss: 0.2349 - learning_rate: 0.0070\n",
      "Epoch 13/75\n",
      "\u001B[1m306/306\u001B[0m \u001B[32m━━━━━━━━━━━━━━━━━━━━\u001B[0m\u001B[37m\u001B[0m \u001B[1m8s\u001B[0m 27ms/step - accuracy: 0.9009 - loss: 0.2239 - val_accuracy: 0.8948 - val_loss: 0.2368 - learning_rate: 0.0070\n",
      "Epoch 14/75\n",
      "\u001B[1m306/306\u001B[0m \u001B[32m━━━━━━━━━━━━━━━━━━━━\u001B[0m\u001B[37m\u001B[0m \u001B[1m9s\u001B[0m 28ms/step - accuracy: 0.9015 - loss: 0.2225 - val_accuracy: 0.8968 - val_loss: 0.2313 - learning_rate: 0.0049\n",
      "Epoch 15/75\n",
      "\u001B[1m306/306\u001B[0m \u001B[32m━━━━━━━━━━━━━━━━━━━━\u001B[0m\u001B[37m\u001B[0m \u001B[1m8s\u001B[0m 27ms/step - accuracy: 0.9015 - loss: 0.2220 - val_accuracy: 0.8968 - val_loss: 0.2322 - learning_rate: 0.0049\n",
      "Epoch 16/75\n",
      "\u001B[1m306/306\u001B[0m \u001B[32m━━━━━━━━━━━━━━━━━━━━\u001B[0m\u001B[37m\u001B[0m \u001B[1m8s\u001B[0m 27ms/step - accuracy: 0.9017 - loss: 0.2216 - val_accuracy: 0.8957 - val_loss: 0.2337 - learning_rate: 0.0049\n",
      "Epoch 17/75\n",
      "\u001B[1m306/306\u001B[0m \u001B[32m━━━━━━━━━━━━━━━━━━━━\u001B[0m\u001B[37m\u001B[0m \u001B[1m8s\u001B[0m 28ms/step - accuracy: 0.9022 - loss: 0.2211 - val_accuracy: 0.8963 - val_loss: 0.2339 - learning_rate: 0.0034\n",
      "Epoch 18/75\n",
      "\u001B[1m306/306\u001B[0m \u001B[32m━━━━━━━━━━━━━━━━━━━━\u001B[0m\u001B[37m\u001B[0m \u001B[1m9s\u001B[0m 28ms/step - accuracy: 0.9026 - loss: 0.2204 - val_accuracy: 0.8960 - val_loss: 0.2340 - learning_rate: 0.0034\n",
      "Epoch 19/75\n",
      "\u001B[1m306/306\u001B[0m \u001B[32m━━━━━━━━━━━━━━━━━━━━\u001B[0m\u001B[37m\u001B[0m \u001B[1m9s\u001B[0m 28ms/step - accuracy: 0.9028 - loss: 0.2196 - val_accuracy: 0.8948 - val_loss: 0.2348 - learning_rate: 0.0034\n",
      "Epoch 20/75\n",
      "\u001B[1m306/306\u001B[0m \u001B[32m━━━━━━━━━━━━━━━━━━━━\u001B[0m\u001B[37m\u001B[0m \u001B[1m9s\u001B[0m 28ms/step - accuracy: 0.9030 - loss: 0.2189 - val_accuracy: 0.8956 - val_loss: 0.2335 - learning_rate: 0.0024\n",
      "Fold 2: 0.7703932472770296\n",
      "#### fold: 3 ####\n",
      "Epoch 1/75\n",
      "\u001B[1m306/306\u001B[0m \u001B[32m━━━━━━━━━━━━━━━━━━━━\u001B[0m\u001B[37m\u001B[0m \u001B[1m35s\u001B[0m 60ms/step - accuracy: 0.8299 - loss: 2.7721 - val_accuracy: 0.8951 - val_loss: 0.2374 - learning_rate: 0.0100\n",
      "Epoch 2/75\n",
      "\u001B[1m306/306\u001B[0m \u001B[32m━━━━━━━━━━━━━━━━━━━━\u001B[0m\u001B[37m\u001B[0m \u001B[1m9s\u001B[0m 29ms/step - accuracy: 0.8943 - loss: 0.2361 - val_accuracy: 0.8959 - val_loss: 0.2342 - learning_rate: 0.0100\n",
      "Epoch 3/75\n",
      "\u001B[1m306/306\u001B[0m \u001B[32m━━━━━━━━━━━━━━━━━━━━\u001B[0m\u001B[37m\u001B[0m \u001B[1m8s\u001B[0m 27ms/step - accuracy: 0.8961 - loss: 0.2328 - val_accuracy: 0.8948 - val_loss: 0.2367 - learning_rate: 0.0100\n",
      "Epoch 4/75\n",
      "\u001B[1m306/306\u001B[0m \u001B[32m━━━━━━━━━━━━━━━━━━━━\u001B[0m\u001B[37m\u001B[0m \u001B[1m9s\u001B[0m 29ms/step - accuracy: 0.8966 - loss: 0.2326 - val_accuracy: 0.8961 - val_loss: 0.2328 - learning_rate: 0.0100\n",
      "Epoch 5/75\n",
      "\u001B[1m306/306\u001B[0m \u001B[32m━━━━━━━━━━━━━━━━━━━━\u001B[0m\u001B[37m\u001B[0m \u001B[1m9s\u001B[0m 29ms/step - accuracy: 0.8970 - loss: 0.2305 - val_accuracy: 0.8951 - val_loss: 0.2357 - learning_rate: 0.0100\n",
      "Epoch 6/75\n",
      "\u001B[1m306/306\u001B[0m \u001B[32m━━━━━━━━━━━━━━━━━━━━\u001B[0m\u001B[37m\u001B[0m \u001B[1m8s\u001B[0m 27ms/step - accuracy: 0.8947 - loss: 0.2381 - val_accuracy: 0.8960 - val_loss: 0.2330 - learning_rate: 0.0100\n",
      "Epoch 7/75\n",
      "\u001B[1m306/306\u001B[0m \u001B[32m━━━━━━━━━━━━━━━━━━━━\u001B[0m\u001B[37m\u001B[0m \u001B[1m9s\u001B[0m 29ms/step - accuracy: 0.8967 - loss: 0.2315 - val_accuracy: 0.8977 - val_loss: 0.2291 - learning_rate: 0.0100\n",
      "Epoch 8/75\n",
      "\u001B[1m306/306\u001B[0m \u001B[32m━━━━━━━━━━━━━━━━━━━━\u001B[0m\u001B[37m\u001B[0m \u001B[1m9s\u001B[0m 28ms/step - accuracy: 0.8977 - loss: 0.2291 - val_accuracy: 0.8980 - val_loss: 0.2296 - learning_rate: 0.0100\n",
      "Epoch 9/75\n",
      "\u001B[1m306/306\u001B[0m \u001B[32m━━━━━━━━━━━━━━━━━━━━\u001B[0m\u001B[37m\u001B[0m \u001B[1m9s\u001B[0m 28ms/step - accuracy: 0.8991 - loss: 0.2277 - val_accuracy: 0.8973 - val_loss: 0.2298 - learning_rate: 0.0100\n",
      "Epoch 10/75\n",
      "\u001B[1m306/306\u001B[0m \u001B[32m━━━━━━━━━━━━━━━━━━━━\u001B[0m\u001B[37m\u001B[0m \u001B[1m8s\u001B[0m 28ms/step - accuracy: 0.8993 - loss: 0.2268 - val_accuracy: 0.8966 - val_loss: 0.2307 - learning_rate: 0.0100\n",
      "Epoch 11/75\n",
      "\u001B[1m306/306\u001B[0m \u001B[32m━━━━━━━━━━━━━━━━━━━━\u001B[0m\u001B[37m\u001B[0m \u001B[1m9s\u001B[0m 28ms/step - accuracy: 0.8999 - loss: 0.2248 - val_accuracy: 0.8944 - val_loss: 0.2347 - learning_rate: 0.0070\n",
      "Epoch 12/75\n",
      "\u001B[1m306/306\u001B[0m \u001B[32m━━━━━━━━━━━━━━━━━━━━\u001B[0m\u001B[37m\u001B[0m \u001B[1m9s\u001B[0m 28ms/step - accuracy: 0.9009 - loss: 0.2243 - val_accuracy: 0.8929 - val_loss: 0.2384 - learning_rate: 0.0070\n",
      "Epoch 13/75\n",
      "\u001B[1m306/306\u001B[0m \u001B[32m━━━━━━━━━━━━━━━━━━━━\u001B[0m\u001B[37m\u001B[0m \u001B[1m9s\u001B[0m 29ms/step - accuracy: 0.9012 - loss: 0.2233 - val_accuracy: 0.8930 - val_loss: 0.2399 - learning_rate: 0.0070\n",
      "Epoch 14/75\n",
      "\u001B[1m306/306\u001B[0m \u001B[32m━━━━━━━━━━━━━━━━━━━━\u001B[0m\u001B[37m\u001B[0m \u001B[1m9s\u001B[0m 28ms/step - accuracy: 0.9023 - loss: 0.2212 - val_accuracy: 0.8940 - val_loss: 0.2376 - learning_rate: 0.0049\n",
      "Epoch 15/75\n",
      "\u001B[1m306/306\u001B[0m \u001B[32m━━━━━━━━━━━━━━━━━━━━\u001B[0m\u001B[37m\u001B[0m \u001B[1m9s\u001B[0m 28ms/step - accuracy: 0.9026 - loss: 0.2203 - val_accuracy: 0.8944 - val_loss: 0.2376 - learning_rate: 0.0049\n",
      "Epoch 16/75\n",
      "\u001B[1m306/306\u001B[0m \u001B[32m━━━━━━━━━━━━━━━━━━━━\u001B[0m\u001B[37m\u001B[0m \u001B[1m9s\u001B[0m 28ms/step - accuracy: 0.9032 - loss: 0.2195 - val_accuracy: 0.8935 - val_loss: 0.2393 - learning_rate: 0.0049\n",
      "Epoch 17/75\n",
      "\u001B[1m306/306\u001B[0m \u001B[32m━━━━━━━━━━━━━━━━━━━━\u001B[0m\u001B[37m\u001B[0m \u001B[1m9s\u001B[0m 28ms/step - accuracy: 0.9038 - loss: 0.2184 - val_accuracy: 0.8956 - val_loss: 0.2364 - learning_rate: 0.0034\n",
      "Fold 3: 0.7760657064393575\n",
      "Overall score: 0.7714690908388638\n"
     ]
    },
    {
     "data": {
      "text/plain": "VBox(children=(Label(value='0.007 MB of 0.007 MB uploaded\\r'), FloatProgress(value=1.0, max=1.0)))",
      "application/vnd.jupyter.widget-view+json": {
       "version_major": 2,
       "version_minor": 0,
       "model_id": "c671867448be42cdbdaf6775fe930b32"
      }
     },
     "metadata": {},
     "output_type": "display_data"
    },
    {
     "data": {
      "text/plain": "<IPython.core.display.HTML object>",
      "text/html": "<style>\n    table.wandb td:nth-child(1) { padding: 0 10px; text-align: left ; width: auto;} td:nth-child(2) {text-align: left ; width: 100%}\n    .wandb-row { display: flex; flex-direction: row; flex-wrap: wrap; justify-content: flex-start; width: 100% }\n    .wandb-col { display: flex; flex-direction: column; flex-basis: 100%; flex: 1; padding: 10px; }\n    </style>\n<div class=\"wandb-row\"><div class=\"wandb-col\"><h3>Run history:</h3><br/><table class=\"wandb\"><tr><td>epoch/accuracy</td><td>▁▇▇▇▇▇▇██████▄▇▇▇▇▇▇▇▇██████▇▇▇▆▇▇▇▇▇███</td></tr><tr><td>epoch/epoch</td><td>▁▁▂▂▃▃▄▄▅▅▆▆▇▁▂▂▂▃▄▄▅▅▅▆▇▇██▁▂▂▃▃▄▄▅▅▆▆▇</td></tr><tr><td>epoch/learning_rate</td><td>████▅▅▅▅▃▃▂▂▁████▅▅▅▅▅▅▃▃▂▂▁███████▅▅▃▃▂</td></tr><tr><td>epoch/loss</td><td>█▁▁▁▁▁▁▁▁▁▁▁▁▄▁▁▁▁▁▁▁▁▁▁▁▁▁▁▁▁▁▁▁▁▁▁▁▁▁▁</td></tr><tr><td>epoch/val_accuracy</td><td>▄▄▄▂▆▅▄▃▃▁▁▁▃▆▇▇▆▇▇▇▆▅▄▇▅▆▄▅▆▄▆▆██▆▄▂▄▄▅</td></tr><tr><td>epoch/val_loss</td><td>▆▅▅█▄▄▅▆▆███▇▅▂▂▄▂▂▂▃▄▅▃▃▃▄▃▄▅▃▃▁▁▂▄▆▅▅▅</td></tr></table><br/></div><div class=\"wandb-col\"><h3>Run summary:</h3><br/><table class=\"wandb\"><tr><td>epoch/accuracy</td><td>0.90363</td></tr><tr><td>epoch/epoch</td><td>16</td></tr><tr><td>epoch/learning_rate</td><td>0.00343</td></tr><tr><td>epoch/loss</td><td>0.21828</td></tr><tr><td>epoch/val_accuracy</td><td>0.89559</td></tr><tr><td>epoch/val_loss</td><td>0.23642</td></tr></table><br/></div></div>"
     },
     "metadata": {},
     "output_type": "display_data"
    },
    {
     "data": {
      "text/plain": "<IPython.core.display.HTML object>",
      "text/html": " View run <strong style=\"color:#cdcd00\">hirogen-manoeuvre-4</strong> at: <a href='https://wandb.ai/chunb123-team/cnn/runs/1d1uvvbv' target=\"_blank\">https://wandb.ai/chunb123-team/cnn/runs/1d1uvvbv</a><br/> View project at: <a href='https://wandb.ai/chunb123-team/cnn' target=\"_blank\">https://wandb.ai/chunb123-team/cnn</a><br/>Synced 5 W&B file(s), 0 media file(s), 0 artifact file(s) and 0 other file(s)"
     },
     "metadata": {},
     "output_type": "display_data"
    },
    {
     "data": {
      "text/plain": "<IPython.core.display.HTML object>",
      "text/html": "Find logs at: <code>./wandb/run-20240406_222811-1d1uvvbv/logs</code>"
     },
     "metadata": {},
     "output_type": "display_data"
    }
   ],
   "source": [
    "warnings.filterwarnings(\"ignore\")\n",
    "models = run(images, target)"
   ],
   "metadata": {
    "collapsed": false,
    "ExecuteTime": {
     "end_time": "2024-04-06T22:37:55.461637Z",
     "start_time": "2024-04-06T22:28:11.701127Z"
    }
   },
   "execution_count": 15
  },
  {
   "metadata": {},
   "cell_type": "markdown",
   "source": "# 3x Image augmentation on the fly with random rotations and flips.\t"
  },
  {
   "cell_type": "code",
   "outputs": [
    {
     "name": "stdout",
     "output_type": "stream",
     "text": [
      "(1376739, 28, 28)\n",
      "(1376739,)\n"
     ]
    }
   ],
   "source": [
    "# Triple the training dataset\n",
    "images_con = np.concatenate((images, images, images), axis=0)\n",
    "print(images_con.shape)\n",
    "target_con = np.concatenate((target, target, target))\n",
    "print(target_con.shape)"
   ],
   "metadata": {
    "collapsed": false,
    "ExecuteTime": {
     "end_time": "2024-04-06T20:45:34.676060Z",
     "start_time": "2024-04-06T20:45:33.961554Z"
    }
   },
   "execution_count": 17
  },
  {
   "cell_type": "code",
   "outputs": [],
   "source": [
    "def build_UNET_aug():\n",
    "    input_layer = keras.Input(shape=(28, 28, 1))\n",
    "    data_augmentation = keras.Sequential([\n",
    "        layers.RandomFlip(\"horizontal_and_vertical\"),\n",
    "        layers.RandomRotation(0.2),])\n",
    "    x = data_augmentation(input_layer)\n",
    "    x = layers.ZeroPadding2D(((4,0),(4,0)))(x)\n",
    "\n",
    "    conv1 = layers.Conv2D(8, (3,3), activation=\"swish\", padding=\"same\")(x)\n",
    "    conv1 = layers.Conv2D(8, (3,3), activation=\"swish\", padding=\"same\")(conv1)\n",
    "    pool1 = layers.MaxPooling2D(pool_size=(2,2))(conv1)\n",
    "\n",
    "    conv2 = layers.Conv2D(16, (3,3), activation=\"swish\", padding=\"same\")(pool1)\n",
    "    conv2 = layers.Conv2D(16, (3,3), activation=\"swish\", padding=\"same\")(conv2)\n",
    "    pool2 = layers.MaxPooling2D(pool_size=(2,2))(conv2)\n",
    "\n",
    "    conv3 = layers.Conv2D(32, (3,3), activation=\"swish\", padding=\"same\")(pool2)\n",
    "    conv3 = layers.Conv2D(32, (3,3), activation=\"swish\", padding=\"same\")(conv3)\n",
    "    pool3 = layers.MaxPooling2D(pool_size=(2,2))(conv3)\n",
    "\n",
    "    conv4 = layers.Conv2D(64, (3,3), activation=\"swish\", padding=\"same\")(pool3)\n",
    "    conv4 = layers.Conv2D(64, (3,3), activation=\"swish\", padding=\"same\")(conv4)\n",
    "    pool4 = layers.MaxPooling2D(pool_size=(2,2))(conv4)\n",
    "    \n",
    "    convm = layers.Conv2D(128, (3,3), activation=\"swish\", padding=\"same\")(pool4)\n",
    "    convm = layers.Conv2D(128, (3,3), activation=\"swish\", padding=\"same\")(convm)\n",
    "\n",
    "    ### UP\n",
    "\n",
    "    up5 = layers.UpSampling2D(size=(2,2))(convm)\n",
    "    cat5 = layers.Concatenate()([up5, conv4])\n",
    "    conv5 = layers.Conv2D(64, (3,3), activation=\"swish\",padding=\"same\")(cat5)\n",
    "    conv5 = layers.Conv2D(64, (3,3), activation=\"swish\",padding=\"same\")(conv5)\n",
    "    conv5 = layers.BatchNormalization()(conv5)\n",
    "\n",
    "    up6 = layers.UpSampling2D(size=(2,2))(conv5)\n",
    "    cat6 = layers.Concatenate()([up6, conv3])\n",
    "    conv6 = layers.Conv2D(32, (3,3), activation=\"swish\", padding=\"same\")(cat6)\n",
    "    conv6 = layers.Conv2D(32, (3,3), activation=\"swish\", padding=\"same\")(conv6)\n",
    "    conv6 = layers.BatchNormalization()(conv6)\n",
    "\n",
    "    up7 = layers.UpSampling2D(size=(2,2))(conv6)\n",
    "    cat7 = layers.Concatenate()([up7, conv2])\n",
    "    conv7 = layers.Conv2D(16, (3,3), activation=\"swish\", padding=\"same\")(cat7)\n",
    "    conv7 = layers.Conv2D(16, (3,3), activation=\"swish\", padding=\"same\")(conv7)\n",
    "    x = layers.BatchNormalization()(conv7)\n",
    "    \n",
    "    up8 = layers.UpSampling2D(size=(2,2))(conv7)\n",
    "    cat8 = layers.Concatenate()([up8, conv1])\n",
    "    conv8 = layers.Conv2D(8, (3,3), activation=\"swish\", padding=\"same\")(cat8)\n",
    "    conv8 = layers.Conv2D(8, (3,3), activation=\"swish\", padding=\"same\")(conv8)\n",
    "    x = layers.BatchNormalization()(conv8)\n",
    "\n",
    "    # predict\n",
    "    x = layers.Conv2D(32, kernel_size=(3,3), strides=1, padding=\"same\")(x)\n",
    "    x = layers.Flatten()(x)\n",
    "    x = layers.Dense(10)(x)\n",
    "    output = layers.Dense(1, activation=\"sigmoid\")(x)\n",
    "    model = keras.Model(inputs=input_layer, outputs=output)\n",
    "\n",
    "    return model"
   ],
   "metadata": {
    "collapsed": false,
    "ExecuteTime": {
     "end_time": "2024-04-06T20:45:37.953163Z",
     "start_time": "2024-04-06T20:45:37.932769Z"
    }
   },
   "execution_count": 18
  },
  {
   "cell_type": "code",
   "outputs": [],
   "source": [
    "build_UNET_aug().summary()"
   ],
   "metadata": {
    "collapsed": false
   },
   "execution_count": null
  },
  {
   "cell_type": "code",
   "outputs": [],
   "source": [
    "kfold = sklearn.model_selection.StratifiedKFold(n_splits=3)\n",
    "batch_size = 1000\n",
    "\n",
    "def run(images, target):\n",
    "    fold_scores = []\n",
    "    wandb.init(config={\"bs\": batch_size})\n",
    "\n",
    "\n",
    "    for fold, (trn_idx, val_idx) in enumerate(kfold.split(images, target)):\n",
    "        tf.keras.backend.clear_session()\n",
    "        tf.random.set_seed(7453)\n",
    "                \n",
    "        X_train, y_train = images[trn_idx], target[trn_idx]\n",
    "        X_val, y_val = images[val_idx], target[val_idx]\n",
    "        print(f\"#### fold: {fold +1} ####\")\n",
    "\n",
    "        initial_learning_rate = 0.01\n",
    "        epochs = 75\n",
    "        #epochs = 5\n",
    "        lr = ReduceLROnPlateau(monitor=\"val_loss\", \n",
    "                               factor=0.7, \n",
    "                               patience=3, \n",
    "                               verbose=0)\n",
    "\n",
    "        model = build_UNET_aug()\n",
    "        \n",
    "        model.compile(\n",
    "            loss=tf.keras.losses.BinaryCrossentropy(),\n",
    "            optimizer=tf.keras.optimizers.Nadam(\n",
    "                learning_rate=initial_learning_rate, \n",
    "                clipvalue=0.5, \n",
    "                clipnorm=1.0\n",
    "            ),\n",
    "            metrics=[\"accuracy\"],\n",
    "        )\n",
    "\n",
    "        mcp_save = tf.keras.callbacks.ModelCheckpoint(\n",
    "            model_path+f\"/best_model_{fold}.keras\",\n",
    "            save_best_only=True,\n",
    "            monitor=\"val_loss\",\n",
    "            mode=\"auto\",\n",
    "        )\n",
    "\n",
    "        ES = EarlyStopping(\n",
    "            monitor=\"val_loss\",\n",
    "            min_delta=0,\n",
    "            patience=10,\n",
    "            verbose=0,\n",
    "            mode=\"auto\",\n",
    "            baseline=None,\n",
    "            restore_best_weights=True,\n",
    "        )\n",
    "\n",
    "        history = model.fit(\n",
    "            X_train,\n",
    "            y_train,\n",
    "            epochs=epochs,\n",
    "            verbose=1,\n",
    "            batch_size=batch_size,\n",
    "            validation_data=(\n",
    "                    X_val, \n",
    "                    y_val, \n",
    "                    ),\n",
    "            callbacks=[lr, mcp_save, ES, WandbMetricsLogger()]\n",
    "        )\n",
    "\n",
    "        y_pred = model.predict(X_val, \n",
    "                               batch_size=batch_size, \n",
    "                               verbose=0).ravel()\n",
    "\n",
    "        score = amex_metric_mod(y_val, y_pred)\n",
    "        print(f\"Fold {fold + 1}: {score}\")\n",
    "\n",
    "        fold_scores.append(score)\n",
    "        del (\n",
    "            model,\n",
    "            history,\n",
    "            mcp_save,\n",
    "        )\n",
    "\n",
    "        del y_pred, score, X_train, y_train, X_val, y_val\n",
    "        gc.collect()\n",
    "        \n",
    "        # for testing\n",
    "        # if fold == 0: break\n",
    "\n",
    "    gc.collect()\n",
    "    print(f\"Overall score: {np.mean(fold_scores, axis=0)}\")\n",
    "    del fold_scores\n",
    "    wandb.finish()"
   ],
   "metadata": {
    "collapsed": false,
    "ExecuteTime": {
     "end_time": "2024-04-06T20:47:21.635766Z",
     "start_time": "2024-04-06T20:47:21.623100Z"
    }
   },
   "execution_count": 24
  },
  {
   "cell_type": "code",
   "outputs": [
    {
     "data": {
      "text/plain": "<IPython.core.display.HTML object>",
      "text/html": "Finishing last run (ID:puj9xvhm) before initializing another..."
     },
     "metadata": {},
     "output_type": "display_data"
    },
    {
     "data": {
      "text/plain": "VBox(children=(Label(value='0.007 MB of 0.007 MB uploaded\\r'), FloatProgress(value=1.0, max=1.0)))",
      "application/vnd.jupyter.widget-view+json": {
       "version_major": 2,
       "version_minor": 0,
       "model_id": "8ac364c49b184cf1bb14d98f15b1d397"
      }
     },
     "metadata": {},
     "output_type": "display_data"
    },
    {
     "data": {
      "text/plain": "<IPython.core.display.HTML object>",
      "text/html": " View run <strong style=\"color:#cdcd00\">nemesis-directive-2</strong> at: <a href='https://wandb.ai/chunb123-team/cnn/runs/puj9xvhm' target=\"_blank\">https://wandb.ai/chunb123-team/cnn/runs/puj9xvhm</a><br/> View project at: <a href='https://wandb.ai/chunb123-team/cnn' target=\"_blank\">https://wandb.ai/chunb123-team/cnn</a><br/>Synced 5 W&B file(s), 0 media file(s), 0 artifact file(s) and 0 other file(s)"
     },
     "metadata": {},
     "output_type": "display_data"
    },
    {
     "data": {
      "text/plain": "<IPython.core.display.HTML object>",
      "text/html": "Find logs at: <code>./wandb/run-20240406_204636-puj9xvhm/logs</code>"
     },
     "metadata": {},
     "output_type": "display_data"
    },
    {
     "data": {
      "text/plain": "<IPython.core.display.HTML object>",
      "text/html": "Successfully finished last run (ID:puj9xvhm). Initializing new run:<br/>"
     },
     "metadata": {},
     "output_type": "display_data"
    },
    {
     "data": {
      "text/plain": "VBox(children=(Label(value='Waiting for wandb.init()...\\r'), FloatProgress(value=0.011112817842513324, max=1.0…",
      "application/vnd.jupyter.widget-view+json": {
       "version_major": 2,
       "version_minor": 0,
       "model_id": "2693369115b04e4ba7fc5634e21f400a"
      }
     },
     "metadata": {},
     "output_type": "display_data"
    },
    {
     "data": {
      "text/plain": "<IPython.core.display.HTML object>",
      "text/html": "Tracking run with wandb version 0.16.6"
     },
     "metadata": {},
     "output_type": "display_data"
    },
    {
     "data": {
      "text/plain": "<IPython.core.display.HTML object>",
      "text/html": "Run data is saved locally in <code>/workspace/wandb/run-20240406_204722-9ibkfyps</code>"
     },
     "metadata": {},
     "output_type": "display_data"
    },
    {
     "data": {
      "text/plain": "<IPython.core.display.HTML object>",
      "text/html": "Syncing run <strong><a href='https://wandb.ai/chunb123-team/cnn/runs/9ibkfyps' target=\"_blank\">empathic-dominion-3</a></strong> to <a href='https://wandb.ai/chunb123-team/cnn' target=\"_blank\">Weights & Biases</a> (<a href='https://wandb.me/run' target=\"_blank\">docs</a>)<br/>"
     },
     "metadata": {},
     "output_type": "display_data"
    },
    {
     "data": {
      "text/plain": "<IPython.core.display.HTML object>",
      "text/html": " View project at <a href='https://wandb.ai/chunb123-team/cnn' target=\"_blank\">https://wandb.ai/chunb123-team/cnn</a>"
     },
     "metadata": {},
     "output_type": "display_data"
    },
    {
     "data": {
      "text/plain": "<IPython.core.display.HTML object>",
      "text/html": " View run at <a href='https://wandb.ai/chunb123-team/cnn/runs/9ibkfyps' target=\"_blank\">https://wandb.ai/chunb123-team/cnn/runs/9ibkfyps</a>"
     },
     "metadata": {},
     "output_type": "display_data"
    },
    {
     "name": "stdout",
     "output_type": "stream",
     "text": [
      "#### fold: 1 ####\n",
      "Epoch 1/75\n"
     ]
    },
    {
     "name": "stderr",
     "output_type": "stream",
     "text": [
      "2024-04-06 20:48:01.074090: I external/local_xla/xla/stream_executor/cuda/cuda_dnn.cc:465] Loaded cuDNN version 8906\n"
     ]
    },
    {
     "name": "stdout",
     "output_type": "stream",
     "text": [
      "\u001B[1m918/918\u001B[0m \u001B[32m━━━━━━━━━━━━━━━━━━━━\u001B[0m\u001B[37m\u001B[0m \u001B[1m0s\u001B[0m 50ms/step - accuracy: 0.7392 - loss: 3.9594"
     ]
    },
    {
     "name": "stderr",
     "output_type": "stream",
     "text": [
      "\u001B[34m\u001B[1mwandb\u001B[0m: \u001B[32m\u001B[41mERROR\u001B[0m Unable to log learning rate.\n"
     ]
    },
    {
     "name": "stdout",
     "output_type": "stream",
     "text": [
      "\u001B[1m918/918\u001B[0m \u001B[32m━━━━━━━━━━━━━━━━━━━━\u001B[0m\u001B[37m\u001B[0m \u001B[1m68s\u001B[0m 61ms/step - accuracy: 0.7392 - loss: 3.9563 - val_accuracy: 0.2589 - val_loss: 1.3430 - learning_rate: 0.0100\n",
      "Epoch 2/75\n",
      "\u001B[1m918/918\u001B[0m \u001B[32m━━━━━━━━━━━━━━━━━━━━\u001B[0m\u001B[37m\u001B[0m \u001B[1m50s\u001B[0m 55ms/step - accuracy: 0.8469 - loss: 0.3361 - val_accuracy: 0.2589 - val_loss: 1.7188 - learning_rate: 0.0100\n",
      "Epoch 3/75\n",
      "\u001B[1m918/918\u001B[0m \u001B[32m━━━━━━━━━━━━━━━━━━━━\u001B[0m\u001B[37m\u001B[0m \u001B[1m50s\u001B[0m 54ms/step - accuracy: 0.8616 - loss: 0.3059 - val_accuracy: 0.8186 - val_loss: 0.4330 - learning_rate: 0.0100\n",
      "Epoch 4/75\n",
      "\u001B[1m918/918\u001B[0m \u001B[32m━━━━━━━━━━━━━━━━━━━━\u001B[0m\u001B[37m\u001B[0m \u001B[1m50s\u001B[0m 55ms/step - accuracy: 0.8680 - loss: 0.2925 - val_accuracy: 0.4822 - val_loss: 0.8391 - learning_rate: 0.0100\n",
      "Epoch 5/75\n",
      "\u001B[1m918/918\u001B[0m \u001B[32m━━━━━━━━━━━━━━━━━━━━\u001B[0m\u001B[37m\u001B[0m \u001B[1m51s\u001B[0m 55ms/step - accuracy: 0.8216 - loss: 0.6902 - val_accuracy: 0.7415 - val_loss: 0.5109 - learning_rate: 0.0100\n",
      "Epoch 6/75\n",
      "\u001B[1m918/918\u001B[0m \u001B[32m━━━━━━━━━━━━━━━━━━━━\u001B[0m\u001B[37m\u001B[0m \u001B[1m50s\u001B[0m 54ms/step - accuracy: 0.8206 - loss: 0.3866 - val_accuracy: 0.7464 - val_loss: 0.4738 - learning_rate: 0.0100\n",
      "Epoch 7/75\n",
      "\u001B[1m918/918\u001B[0m \u001B[32m━━━━━━━━━━━━━━━━━━━━\u001B[0m\u001B[37m\u001B[0m \u001B[1m51s\u001B[0m 55ms/step - accuracy: 0.8492 - loss: 0.3315 - val_accuracy: 0.8491 - val_loss: 0.3835 - learning_rate: 0.0070\n",
      "Epoch 8/75\n",
      "\u001B[1m918/918\u001B[0m \u001B[32m━━━━━━━━━━━━━━━━━━━━\u001B[0m\u001B[37m\u001B[0m \u001B[1m50s\u001B[0m 55ms/step - accuracy: 0.8621 - loss: 0.3075 - val_accuracy: 0.8450 - val_loss: 0.3562 - learning_rate: 0.0070\n",
      "Epoch 9/75\n",
      "\u001B[1m918/918\u001B[0m \u001B[32m━━━━━━━━━━━━━━━━━━━━\u001B[0m\u001B[37m\u001B[0m \u001B[1m51s\u001B[0m 55ms/step - accuracy: 0.8661 - loss: 0.3004 - val_accuracy: 0.8564 - val_loss: 0.3565 - learning_rate: 0.0070\n",
      "Epoch 10/75\n",
      "\u001B[1m918/918\u001B[0m \u001B[32m━━━━━━━━━━━━━━━━━━━━\u001B[0m\u001B[37m\u001B[0m \u001B[1m51s\u001B[0m 55ms/step - accuracy: 0.8689 - loss: 0.2934 - val_accuracy: 0.8561 - val_loss: 0.3326 - learning_rate: 0.0070\n",
      "Epoch 11/75\n",
      "\u001B[1m918/918\u001B[0m \u001B[32m━━━━━━━━━━━━━━━━━━━━\u001B[0m\u001B[37m\u001B[0m \u001B[1m51s\u001B[0m 55ms/step - accuracy: 0.8707 - loss: 0.2888 - val_accuracy: 0.8692 - val_loss: 0.3116 - learning_rate: 0.0070\n",
      "Epoch 12/75\n",
      "\u001B[1m918/918\u001B[0m \u001B[32m━━━━━━━━━━━━━━━━━━━━\u001B[0m\u001B[37m\u001B[0m \u001B[1m51s\u001B[0m 55ms/step - accuracy: 0.8724 - loss: 0.2849 - val_accuracy: 0.8639 - val_loss: 0.3089 - learning_rate: 0.0070\n",
      "Epoch 13/75\n",
      "\u001B[1m918/918\u001B[0m \u001B[32m━━━━━━━━━━━━━━━━━━━━\u001B[0m\u001B[37m\u001B[0m \u001B[1m50s\u001B[0m 55ms/step - accuracy: 0.8735 - loss: 0.2820 - val_accuracy: 0.8728 - val_loss: 1131.1587 - learning_rate: 0.0070\n",
      "Epoch 14/75\n",
      "\u001B[1m918/918\u001B[0m \u001B[32m━━━━━━━━━━━━━━━━━━━━\u001B[0m\u001B[37m\u001B[0m \u001B[1m50s\u001B[0m 55ms/step - accuracy: 0.8744 - loss: 0.2794 - val_accuracy: 0.8635 - val_loss: 0.3074 - learning_rate: 0.0070\n",
      "Epoch 15/75\n",
      "\u001B[1m918/918\u001B[0m \u001B[32m━━━━━━━━━━━━━━━━━━━━\u001B[0m\u001B[37m\u001B[0m \u001B[1m51s\u001B[0m 55ms/step - accuracy: 0.8754 - loss: 0.2773 - val_accuracy: 0.8701 - val_loss: 0.2990 - learning_rate: 0.0070\n",
      "Epoch 16/75\n",
      "\u001B[1m918/918\u001B[0m \u001B[32m━━━━━━━━━━━━━━━━━━━━\u001B[0m\u001B[37m\u001B[0m \u001B[1m51s\u001B[0m 55ms/step - accuracy: 0.8716 - loss: 0.3062 - val_accuracy: 0.8708 - val_loss: 0.2956 - learning_rate: 0.0070\n",
      "Epoch 17/75\n",
      "\u001B[1m918/918\u001B[0m \u001B[32m━━━━━━━━━━━━━━━━━━━━\u001B[0m\u001B[37m\u001B[0m \u001B[1m50s\u001B[0m 54ms/step - accuracy: 0.8770 - loss: 0.2737 - val_accuracy: 0.8669 - val_loss: 0.3155 - learning_rate: 0.0070\n",
      "Epoch 18/75\n",
      "\u001B[1m918/918\u001B[0m \u001B[32m━━━━━━━━━━━━━━━━━━━━\u001B[0m\u001B[37m\u001B[0m \u001B[1m50s\u001B[0m 54ms/step - accuracy: 0.8771 - loss: 0.2727 - val_accuracy: 0.8691 - val_loss: 0.3107 - learning_rate: 0.0070\n",
      "Epoch 19/75\n",
      "\u001B[1m918/918\u001B[0m \u001B[32m━━━━━━━━━━━━━━━━━━━━\u001B[0m\u001B[37m\u001B[0m \u001B[1m50s\u001B[0m 54ms/step - accuracy: 0.8763 - loss: 0.2768 - val_accuracy: 0.8736 - val_loss: 0.2891 - learning_rate: 0.0070\n",
      "Epoch 20/75\n",
      "\u001B[1m918/918\u001B[0m \u001B[32m━━━━━━━━━━━━━━━━━━━━\u001B[0m\u001B[37m\u001B[0m \u001B[1m50s\u001B[0m 55ms/step - accuracy: 0.8784 - loss: 0.2710 - val_accuracy: 0.8733 - val_loss: 0.2845 - learning_rate: 0.0070\n",
      "Epoch 21/75\n",
      "\u001B[1m918/918\u001B[0m \u001B[32m━━━━━━━━━━━━━━━━━━━━\u001B[0m\u001B[37m\u001B[0m \u001B[1m51s\u001B[0m 55ms/step - accuracy: 0.8783 - loss: 0.2710 - val_accuracy: 0.8754 - val_loss: 0.2838 - learning_rate: 0.0070\n",
      "Epoch 22/75\n",
      "\u001B[1m918/918\u001B[0m \u001B[32m━━━━━━━━━━━━━━━━━━━━\u001B[0m\u001B[37m\u001B[0m \u001B[1m50s\u001B[0m 54ms/step - accuracy: 0.8793 - loss: 0.2689 - val_accuracy: 0.8690 - val_loss: 0.2932 - learning_rate: 0.0070\n",
      "Epoch 23/75\n",
      "\u001B[1m918/918\u001B[0m \u001B[32m━━━━━━━━━━━━━━━━━━━━\u001B[0m\u001B[37m\u001B[0m \u001B[1m50s\u001B[0m 55ms/step - accuracy: 0.8800 - loss: 0.2672 - val_accuracy: 0.8764 - val_loss: 0.2747 - learning_rate: 0.0070\n",
      "Epoch 24/75\n",
      "\u001B[1m918/918\u001B[0m \u001B[32m━━━━━━━━━━━━━━━━━━━━\u001B[0m\u001B[37m\u001B[0m \u001B[1m51s\u001B[0m 55ms/step - accuracy: 0.8797 - loss: 0.2665 - val_accuracy: 0.8778 - val_loss: 0.2802 - learning_rate: 0.0070\n",
      "Epoch 25/75\n",
      "\u001B[1m918/918\u001B[0m \u001B[32m━━━━━━━━━━━━━━━━━━━━\u001B[0m\u001B[37m\u001B[0m \u001B[1m51s\u001B[0m 55ms/step - accuracy: 0.8640 - loss: 0.3861 - val_accuracy: 0.8735 - val_loss: 0.2874 - learning_rate: 0.0070\n",
      "Epoch 26/75\n",
      "\u001B[1m918/918\u001B[0m \u001B[32m━━━━━━━━━━━━━━━━━━━━\u001B[0m\u001B[37m\u001B[0m \u001B[1m50s\u001B[0m 54ms/step - accuracy: 0.8807 - loss: 0.2647 - val_accuracy: 0.8721 - val_loss: 0.2906 - learning_rate: 0.0070\n",
      "Epoch 27/75\n",
      "\u001B[1m918/918\u001B[0m \u001B[32m━━━━━━━━━━━━━━━━━━━━\u001B[0m\u001B[37m\u001B[0m \u001B[1m51s\u001B[0m 55ms/step - accuracy: 0.8818 - loss: 0.2627 - val_accuracy: 0.8718 - val_loss: 0.2907 - learning_rate: 0.0049\n",
      "Epoch 28/75\n",
      "\u001B[1m918/918\u001B[0m \u001B[32m━━━━━━━━━━━━━━━━━━━━\u001B[0m\u001B[37m\u001B[0m \u001B[1m51s\u001B[0m 55ms/step - accuracy: 0.8819 - loss: 0.2624 - val_accuracy: 0.8756 - val_loss: 0.2804 - learning_rate: 0.0049\n",
      "Epoch 29/75\n",
      "\u001B[1m918/918\u001B[0m \u001B[32m━━━━━━━━━━━━━━━━━━━━\u001B[0m\u001B[37m\u001B[0m \u001B[1m51s\u001B[0m 56ms/step - accuracy: 0.8818 - loss: 0.2623 - val_accuracy: 0.8765 - val_loss: 0.2818 - learning_rate: 0.0049\n",
      "Epoch 30/75\n",
      "\u001B[1m918/918\u001B[0m \u001B[32m━━━━━━━━━━━━━━━━━━━━\u001B[0m\u001B[37m\u001B[0m \u001B[1m50s\u001B[0m 54ms/step - accuracy: 0.8823 - loss: 0.2607 - val_accuracy: 0.8799 - val_loss: 0.2743 - learning_rate: 0.0034\n",
      "Epoch 31/75\n",
      "\u001B[1m918/918\u001B[0m \u001B[32m━━━━━━━━━━━━━━━━━━━━\u001B[0m\u001B[37m\u001B[0m \u001B[1m51s\u001B[0m 55ms/step - accuracy: 0.8829 - loss: 0.2601 - val_accuracy: 0.8683 - val_loss: 0.2971 - learning_rate: 0.0034\n",
      "Epoch 32/75\n",
      "\u001B[1m918/918\u001B[0m \u001B[32m━━━━━━━━━━━━━━━━━━━━\u001B[0m\u001B[37m\u001B[0m \u001B[1m49s\u001B[0m 54ms/step - accuracy: 0.8830 - loss: 0.2598 - val_accuracy: 0.8780 - val_loss: 0.2756 - learning_rate: 0.0034\n",
      "Epoch 33/75\n",
      "\u001B[1m918/918\u001B[0m \u001B[32m━━━━━━━━━━━━━━━━━━━━\u001B[0m\u001B[37m\u001B[0m \u001B[1m50s\u001B[0m 55ms/step - accuracy: 0.8833 - loss: 0.2594 - val_accuracy: 0.8765 - val_loss: 0.2840 - learning_rate: 0.0034\n",
      "Epoch 34/75\n",
      "\u001B[1m918/918\u001B[0m \u001B[32m━━━━━━━━━━━━━━━━━━━━\u001B[0m\u001B[37m\u001B[0m \u001B[1m50s\u001B[0m 55ms/step - accuracy: 0.8834 - loss: 0.2584 - val_accuracy: 0.8790 - val_loss: 0.2731 - learning_rate: 0.0024\n",
      "Epoch 35/75\n",
      "\u001B[1m918/918\u001B[0m \u001B[32m━━━━━━━━━━━━━━━━━━━━\u001B[0m\u001B[37m\u001B[0m \u001B[1m50s\u001B[0m 55ms/step - accuracy: 0.8842 - loss: 0.2578 - val_accuracy: 0.8807 - val_loss: 0.2745 - learning_rate: 0.0024\n",
      "Epoch 36/75\n",
      "\u001B[1m918/918\u001B[0m \u001B[32m━━━━━━━━━━━━━━━━━━━━\u001B[0m\u001B[37m\u001B[0m \u001B[1m50s\u001B[0m 55ms/step - accuracy: 0.8838 - loss: 0.2578 - val_accuracy: 0.8814 - val_loss: 0.2724 - learning_rate: 0.0024\n",
      "Epoch 37/75\n",
      "\u001B[1m918/918\u001B[0m \u001B[32m━━━━━━━━━━━━━━━━━━━━\u001B[0m\u001B[37m\u001B[0m \u001B[1m50s\u001B[0m 54ms/step - accuracy: 0.8843 - loss: 0.2572 - val_accuracy: 0.8777 - val_loss: 0.2744 - learning_rate: 0.0024\n",
      "Epoch 38/75\n",
      "\u001B[1m918/918\u001B[0m \u001B[32m━━━━━━━━━━━━━━━━━━━━\u001B[0m\u001B[37m\u001B[0m \u001B[1m50s\u001B[0m 54ms/step - accuracy: 0.8847 - loss: 0.2567 - val_accuracy: 0.8788 - val_loss: 0.2754 - learning_rate: 0.0024\n",
      "Epoch 39/75\n",
      "\u001B[1m918/918\u001B[0m \u001B[32m━━━━━━━━━━━━━━━━━━━━\u001B[0m\u001B[37m\u001B[0m \u001B[1m50s\u001B[0m 55ms/step - accuracy: 0.8845 - loss: 0.2565 - val_accuracy: 0.8783 - val_loss: 0.2777 - learning_rate: 0.0024\n",
      "Epoch 40/75\n",
      "\u001B[1m918/918\u001B[0m \u001B[32m━━━━━━━━━━━━━━━━━━━━\u001B[0m\u001B[37m\u001B[0m \u001B[1m51s\u001B[0m 56ms/step - accuracy: 0.8848 - loss: 0.2562 - val_accuracy: 0.8814 - val_loss: 0.2685 - learning_rate: 0.0017\n",
      "Epoch 41/75\n",
      "\u001B[1m918/918\u001B[0m \u001B[32m━━━━━━━━━━━━━━━━━━━━\u001B[0m\u001B[37m\u001B[0m \u001B[1m50s\u001B[0m 54ms/step - accuracy: 0.8847 - loss: 0.2557 - val_accuracy: 0.8733 - val_loss: 0.2822 - learning_rate: 0.0017\n",
      "Epoch 42/75\n",
      "\u001B[1m918/918\u001B[0m \u001B[32m━━━━━━━━━━━━━━━━━━━━\u001B[0m\u001B[37m\u001B[0m \u001B[1m50s\u001B[0m 55ms/step - accuracy: 0.8850 - loss: 0.2556 - val_accuracy: 0.8811 - val_loss: 0.2686 - learning_rate: 0.0017\n",
      "Epoch 43/75\n",
      "\u001B[1m918/918\u001B[0m \u001B[32m━━━━━━━━━━━━━━━━━━━━\u001B[0m\u001B[37m\u001B[0m \u001B[1m50s\u001B[0m 54ms/step - accuracy: 0.8854 - loss: 0.2552 - val_accuracy: 0.8748 - val_loss: 0.2809 - learning_rate: 0.0017\n",
      "Epoch 44/75\n",
      "\u001B[1m918/918\u001B[0m \u001B[32m━━━━━━━━━━━━━━━━━━━━\u001B[0m\u001B[37m\u001B[0m \u001B[1m50s\u001B[0m 54ms/step - accuracy: 0.8857 - loss: 0.2546 - val_accuracy: 0.8794 - val_loss: 0.2732 - learning_rate: 0.0012\n",
      "Epoch 45/75\n",
      "\u001B[1m918/918\u001B[0m \u001B[32m━━━━━━━━━━━━━━━━━━━━\u001B[0m\u001B[37m\u001B[0m \u001B[1m51s\u001B[0m 56ms/step - accuracy: 0.8856 - loss: 0.2546 - val_accuracy: 0.8808 - val_loss: 0.2661 - learning_rate: 0.0012\n",
      "Epoch 46/75\n",
      "\u001B[1m918/918\u001B[0m \u001B[32m━━━━━━━━━━━━━━━━━━━━\u001B[0m\u001B[37m\u001B[0m \u001B[1m50s\u001B[0m 54ms/step - accuracy: 0.8856 - loss: 0.2544 - val_accuracy: 0.8776 - val_loss: 0.2731 - learning_rate: 0.0012\n",
      "Epoch 47/75\n",
      "\u001B[1m918/918\u001B[0m \u001B[32m━━━━━━━━━━━━━━━━━━━━\u001B[0m\u001B[37m\u001B[0m \u001B[1m51s\u001B[0m 55ms/step - accuracy: 0.8853 - loss: 0.2543 - val_accuracy: 0.8779 - val_loss: 0.2764 - learning_rate: 0.0012\n",
      "Epoch 48/75\n",
      "\u001B[1m918/918\u001B[0m \u001B[32m━━━━━━━━━━━━━━━━━━━━\u001B[0m\u001B[37m\u001B[0m \u001B[1m51s\u001B[0m 55ms/step - accuracy: 0.8853 - loss: 0.2542 - val_accuracy: 0.8765 - val_loss: 0.2770 - learning_rate: 0.0012\n",
      "Epoch 49/75\n",
      "\u001B[1m918/918\u001B[0m \u001B[32m━━━━━━━━━━━━━━━━━━━━\u001B[0m\u001B[37m\u001B[0m \u001B[1m50s\u001B[0m 55ms/step - accuracy: 0.8858 - loss: 0.2537 - val_accuracy: 0.8815 - val_loss: 0.2689 - learning_rate: 8.2354e-04\n",
      "Epoch 50/75\n",
      "\u001B[1m918/918\u001B[0m \u001B[32m━━━━━━━━━━━━━━━━━━━━\u001B[0m\u001B[37m\u001B[0m \u001B[1m50s\u001B[0m 55ms/step - accuracy: 0.8862 - loss: 0.2535 - val_accuracy: 0.8800 - val_loss: 0.2741 - learning_rate: 8.2354e-04\n",
      "Epoch 51/75\n",
      "\u001B[1m918/918\u001B[0m \u001B[32m━━━━━━━━━━━━━━━━━━━━\u001B[0m\u001B[37m\u001B[0m \u001B[1m50s\u001B[0m 54ms/step - accuracy: 0.8857 - loss: 0.2535 - val_accuracy: 0.8805 - val_loss: 0.2762 - learning_rate: 8.2354e-04\n",
      "Epoch 52/75\n",
      "\u001B[1m918/918\u001B[0m \u001B[32m━━━━━━━━━━━━━━━━━━━━\u001B[0m\u001B[37m\u001B[0m \u001B[1m50s\u001B[0m 54ms/step - accuracy: 0.8862 - loss: 0.2533 - val_accuracy: 0.8794 - val_loss: 0.2708 - learning_rate: 5.7648e-04\n",
      "Epoch 53/75\n",
      "\u001B[1m918/918\u001B[0m \u001B[32m━━━━━━━━━━━━━━━━━━━━\u001B[0m\u001B[37m\u001B[0m \u001B[1m50s\u001B[0m 55ms/step - accuracy: 0.8861 - loss: 0.2532 - val_accuracy: 0.8794 - val_loss: 0.2896 - learning_rate: 5.7648e-04\n",
      "Epoch 54/75\n",
      "\u001B[1m918/918\u001B[0m \u001B[32m━━━━━━━━━━━━━━━━━━━━\u001B[0m\u001B[37m\u001B[0m \u001B[1m50s\u001B[0m 55ms/step - accuracy: 0.8858 - loss: 0.2531 - val_accuracy: 0.8765 - val_loss: 0.2778 - learning_rate: 5.7648e-04\n",
      "Epoch 55/75\n",
      "\u001B[1m918/918\u001B[0m \u001B[32m━━━━━━━━━━━━━━━━━━━━\u001B[0m\u001B[37m\u001B[0m \u001B[1m50s\u001B[0m 55ms/step - accuracy: 0.8864 - loss: 0.2528 - val_accuracy: 0.8790 - val_loss: 0.2727 - learning_rate: 4.0354e-04\n",
      "Fold 1: 0.724169062623975\n",
      "#### fold: 2 ####\n",
      "Epoch 1/75\n",
      "\u001B[1m918/918\u001B[0m \u001B[32m━━━━━━━━━━━━━━━━━━━━\u001B[0m\u001B[37m\u001B[0m \u001B[1m61s\u001B[0m 57ms/step - accuracy: 0.7760 - loss: 4.5048 - val_accuracy: 0.8531 - val_loss: 0.3721 - learning_rate: 0.0100\n",
      "Epoch 2/75\n",
      "\u001B[1m918/918\u001B[0m \u001B[32m━━━━━━━━━━━━━━━━━━━━\u001B[0m\u001B[37m\u001B[0m \u001B[1m51s\u001B[0m 56ms/step - accuracy: 0.8661 - loss: 0.3025 - val_accuracy: 0.8692 - val_loss: 0.3057 - learning_rate: 0.0100\n",
      "Epoch 3/75\n",
      "\u001B[1m918/918\u001B[0m \u001B[32m━━━━━━━━━━━━━━━━━━━━\u001B[0m\u001B[37m\u001B[0m \u001B[1m51s\u001B[0m 55ms/step - accuracy: 0.8722 - loss: 0.2875 - val_accuracy: 0.8680 - val_loss: 0.3004 - learning_rate: 0.0100\n",
      "Epoch 4/75\n",
      "\u001B[1m918/918\u001B[0m \u001B[32m━━━━━━━━━━━━━━━━━━━━\u001B[0m\u001B[37m\u001B[0m \u001B[1m51s\u001B[0m 56ms/step - accuracy: 0.8760 - loss: 0.2777 - val_accuracy: 0.8744 - val_loss: 0.2906 - learning_rate: 0.0100\n",
      "Epoch 5/75\n",
      "\u001B[1m918/918\u001B[0m \u001B[32m━━━━━━━━━━━━━━━━━━━━\u001B[0m\u001B[37m\u001B[0m \u001B[1m51s\u001B[0m 56ms/step - accuracy: 0.8767 - loss: 0.2751 - val_accuracy: 0.8729 - val_loss: 0.2991 - learning_rate: 0.0100\n",
      "Epoch 6/75\n",
      "\u001B[1m918/918\u001B[0m \u001B[32m━━━━━━━━━━━━━━━━━━━━\u001B[0m\u001B[37m\u001B[0m \u001B[1m51s\u001B[0m 55ms/step - accuracy: 0.8790 - loss: 0.2706 - val_accuracy: 0.8701 - val_loss: 0.3032 - learning_rate: 0.0100\n",
      "Epoch 7/75\n",
      "\u001B[1m918/918\u001B[0m \u001B[32m━━━━━━━━━━━━━━━━━━━━\u001B[0m\u001B[37m\u001B[0m \u001B[1m51s\u001B[0m 55ms/step - accuracy: 0.8752 - loss: 0.3289 - val_accuracy: 0.7213 - val_loss: 0.5449 - learning_rate: 0.0100\n",
      "Epoch 8/75\n",
      "\u001B[1m918/918\u001B[0m \u001B[32m━━━━━━━━━━━━━━━━━━━━\u001B[0m\u001B[37m\u001B[0m \u001B[1m50s\u001B[0m 54ms/step - accuracy: 0.7956 - loss: 0.4384 - val_accuracy: 0.7845 - val_loss: 0.4131 - learning_rate: 0.0070\n",
      "Epoch 9/75\n",
      "\u001B[1m918/918\u001B[0m \u001B[32m━━━━━━━━━━━━━━━━━━━━\u001B[0m\u001B[37m\u001B[0m \u001B[1m50s\u001B[0m 55ms/step - accuracy: 0.8340 - loss: 0.3605 - val_accuracy: 0.8557 - val_loss: 0.3506 - learning_rate: 0.0070\n",
      "Epoch 10/75\n",
      "\u001B[1m918/918\u001B[0m \u001B[32m━━━━━━━━━━━━━━━━━━━━\u001B[0m\u001B[37m\u001B[0m \u001B[1m50s\u001B[0m 55ms/step - accuracy: 0.8574 - loss: 0.3163 - val_accuracy: 0.8524 - val_loss: 0.3562 - learning_rate: 0.0070\n",
      "Epoch 11/75\n",
      "\u001B[1m918/918\u001B[0m \u001B[32m━━━━━━━━━━━━━━━━━━━━\u001B[0m\u001B[37m\u001B[0m \u001B[1m50s\u001B[0m 55ms/step - accuracy: 0.8642 - loss: 0.3016 - val_accuracy: 0.8581 - val_loss: 0.3419 - learning_rate: 0.0049\n",
      "Epoch 12/75\n",
      "\u001B[1m918/918\u001B[0m \u001B[32m━━━━━━━━━━━━━━━━━━━━\u001B[0m\u001B[37m\u001B[0m \u001B[1m51s\u001B[0m 55ms/step - accuracy: 0.8665 - loss: 0.2965 - val_accuracy: 0.8591 - val_loss: 0.3349 - learning_rate: 0.0049\n",
      "Epoch 13/75\n",
      "\u001B[1m918/918\u001B[0m \u001B[32m━━━━━━━━━━━━━━━━━━━━\u001B[0m\u001B[37m\u001B[0m \u001B[1m51s\u001B[0m 55ms/step - accuracy: 0.8690 - loss: 0.2912 - val_accuracy: 0.8522 - val_loss: 0.3561 - learning_rate: 0.0049\n",
      "Epoch 14/75\n",
      "\u001B[1m918/918\u001B[0m \u001B[32m━━━━━━━━━━━━━━━━━━━━\u001B[0m\u001B[37m\u001B[0m \u001B[1m51s\u001B[0m 55ms/step - accuracy: 0.8712 - loss: 0.2869 - val_accuracy: 0.8615 - val_loss: 0.3228 - learning_rate: 0.0034\n",
      "Fold 2: 0.6946260695318066\n",
      "#### fold: 3 ####\n",
      "Epoch 1/75\n",
      "\u001B[1m918/918\u001B[0m \u001B[32m━━━━━━━━━━━━━━━━━━━━\u001B[0m\u001B[37m\u001B[0m \u001B[1m60s\u001B[0m 57ms/step - accuracy: 0.7209 - loss: 2.8038 - val_accuracy: 0.7411 - val_loss: 0.5737 - learning_rate: 0.0100\n",
      "Epoch 2/75\n",
      "\u001B[1m918/918\u001B[0m \u001B[32m━━━━━━━━━━━━━━━━━━━━\u001B[0m\u001B[37m\u001B[0m \u001B[1m51s\u001B[0m 55ms/step - accuracy: 0.7408 - loss: 0.5730 - val_accuracy: 0.7411 - val_loss: 0.5720 - learning_rate: 0.0100\n",
      "Epoch 3/75\n",
      "\u001B[1m918/918\u001B[0m \u001B[32m━━━━━━━━━━━━━━━━━━━━\u001B[0m\u001B[37m\u001B[0m \u001B[1m50s\u001B[0m 55ms/step - accuracy: 0.7382 - loss: 0.5960 - val_accuracy: 0.7411 - val_loss: 0.5723 - learning_rate: 0.0100\n",
      "Epoch 4/75\n",
      "\u001B[1m918/918\u001B[0m \u001B[32m━━━━━━━━━━━━━━━━━━━━\u001B[0m\u001B[37m\u001B[0m \u001B[1m51s\u001B[0m 55ms/step - accuracy: 0.7408 - loss: 0.5729 - val_accuracy: 0.7411 - val_loss: 0.5719 - learning_rate: 0.0100\n",
      "Epoch 5/75\n",
      "\u001B[1m918/918\u001B[0m \u001B[32m━━━━━━━━━━━━━━━━━━━━\u001B[0m\u001B[37m\u001B[0m \u001B[1m50s\u001B[0m 55ms/step - accuracy: 0.7408 - loss: 0.5727 - val_accuracy: 0.7411 - val_loss: 0.5719 - learning_rate: 0.0100\n",
      "Epoch 6/75\n",
      "\u001B[1m918/918\u001B[0m \u001B[32m━━━━━━━━━━━━━━━━━━━━\u001B[0m\u001B[37m\u001B[0m \u001B[1m51s\u001B[0m 55ms/step - accuracy: 0.7408 - loss: 0.5725 - val_accuracy: 0.7411 - val_loss: 0.5719 - learning_rate: 0.0070\n",
      "Epoch 7/75\n",
      "\u001B[1m918/918\u001B[0m \u001B[32m━━━━━━━━━━━━━━━━━━━━\u001B[0m\u001B[37m\u001B[0m \u001B[1m51s\u001B[0m 55ms/step - accuracy: 0.7408 - loss: 0.5729 - val_accuracy: 0.7411 - val_loss: 0.5719 - learning_rate: 0.0070\n",
      "Epoch 8/75\n",
      "\u001B[1m918/918\u001B[0m \u001B[32m━━━━━━━━━━━━━━━━━━━━\u001B[0m\u001B[37m\u001B[0m \u001B[1m50s\u001B[0m 54ms/step - accuracy: 0.7408 - loss: 0.5723 - val_accuracy: 0.7411 - val_loss: 0.5719 - learning_rate: 0.0070\n",
      "Epoch 9/75\n",
      "\u001B[1m918/918\u001B[0m \u001B[32m━━━━━━━━━━━━━━━━━━━━\u001B[0m\u001B[37m\u001B[0m \u001B[1m50s\u001B[0m 54ms/step - accuracy: 0.7408 - loss: 0.5723 - val_accuracy: 0.7411 - val_loss: 0.5719 - learning_rate: 0.0049\n",
      "Epoch 10/75\n",
      "\u001B[1m918/918\u001B[0m \u001B[32m━━━━━━━━━━━━━━━━━━━━\u001B[0m\u001B[37m\u001B[0m \u001B[1m50s\u001B[0m 55ms/step - accuracy: 0.7408 - loss: 0.5723 - val_accuracy: 0.7411 - val_loss: 0.5719 - learning_rate: 0.0049\n",
      "Epoch 11/75\n",
      "\u001B[1m918/918\u001B[0m \u001B[32m━━━━━━━━━━━━━━━━━━━━\u001B[0m\u001B[37m\u001B[0m \u001B[1m50s\u001B[0m 54ms/step - accuracy: 0.7408 - loss: 0.5723 - val_accuracy: 0.7411 - val_loss: 0.5719 - learning_rate: 0.0049\n",
      "Epoch 12/75\n",
      "\u001B[1m918/918\u001B[0m \u001B[32m━━━━━━━━━━━━━━━━━━━━\u001B[0m\u001B[37m\u001B[0m \u001B[1m50s\u001B[0m 54ms/step - accuracy: 0.7408 - loss: 0.5723 - val_accuracy: 0.7411 - val_loss: 0.5719 - learning_rate: 0.0034\n",
      "Epoch 13/75\n",
      "\u001B[1m918/918\u001B[0m \u001B[32m━━━━━━━━━━━━━━━━━━━━\u001B[0m\u001B[37m\u001B[0m \u001B[1m50s\u001B[0m 55ms/step - accuracy: 0.7408 - loss: 0.5723 - val_accuracy: 0.7411 - val_loss: 0.5719 - learning_rate: 0.0034\n",
      "Epoch 14/75\n",
      "\u001B[1m918/918\u001B[0m \u001B[32m━━━━━━━━━━━━━━━━━━━━\u001B[0m\u001B[37m\u001B[0m \u001B[1m50s\u001B[0m 54ms/step - accuracy: 0.7408 - loss: 0.5723 - val_accuracy: 0.7411 - val_loss: 0.5719 - learning_rate: 0.0034\n",
      "Epoch 15/75\n",
      "\u001B[1m918/918\u001B[0m \u001B[32m━━━━━━━━━━━━━━━━━━━━\u001B[0m\u001B[37m\u001B[0m \u001B[1m50s\u001B[0m 54ms/step - accuracy: 0.7408 - loss: 0.5723 - val_accuracy: 0.7411 - val_loss: 0.5719 - learning_rate: 0.0024\n",
      "Fold 3: 0.021767807164503248\n",
      "Overall score: 0.480187646440095\n"
     ]
    },
    {
     "data": {
      "text/plain": "VBox(children=(Label(value='0.007 MB of 0.007 MB uploaded\\r'), FloatProgress(value=1.0, max=1.0)))",
      "application/vnd.jupyter.widget-view+json": {
       "version_major": 2,
       "version_minor": 0,
       "model_id": "50ce35650bcc41bfa8fa8f616a704a47"
      }
     },
     "metadata": {},
     "output_type": "display_data"
    },
    {
     "data": {
      "text/plain": "<IPython.core.display.HTML object>",
      "text/html": "<style>\n    table.wandb td:nth-child(1) { padding: 0 10px; text-align: left ; width: auto;} td:nth-child(2) {text-align: left ; width: 100%}\n    .wandb-row { display: flex; flex-direction: row; flex-wrap: wrap; justify-content: flex-start; width: 100% }\n    .wandb-col { display: flex; flex-direction: column; flex-basis: 100%; flex: 1; padding: 10px; }\n    </style>\n<div class=\"wandb-row\"><div class=\"wandb-col\"><h3>Run history:</h3><br/><table class=\"wandb\"><tr><td>epoch/accuracy</td><td>▄▇▄▆▇▇▇▇██████████████████▅▇█▆▆▇▇▁▁▁▁▁▁▁</td></tr><tr><td>epoch/epoch</td><td>▁▁▂▂▂▂▃▃▃▄▄▄▄▅▅▅▅▆▆▆▇▇▇▇██▁▁▂▂▂▂▃▁▁▂▂▂▂▃</td></tr><tr><td>epoch/learning_rate</td><td>███▆▆▆▆▆▆▆▆▆▆▄▃▃▂▂▂▂▂▁▁▁▁▁████▆▄▃██▆▆▄▃▂</td></tr><tr><td>epoch/loss</td><td>█▁▄▂▁▁▁▁▁▁▁▁▁▁▁▁▁▁▁▁▁▁▁▁▁▁█▁▁▄▂▁▁▃▃▃▃▃▃▃</td></tr><tr><td>epoch/val_accuracy</td><td>▁▇▆██████████████████████████▆███▆▆▆▆▆▆▆</td></tr><tr><td>epoch/val_loss</td><td>▁▁▁▁▁▁█▁▁▁▁▁▁▁▁▁▁▁▁▁▁▁▁▁▁▁▁▁▁▁▁▁▁▁▁▁▁▁▁▁</td></tr></table><br/></div><div class=\"wandb-col\"><h3>Run summary:</h3><br/><table class=\"wandb\"><tr><td>epoch/accuracy</td><td>0.74107</td></tr><tr><td>epoch/epoch</td><td>14</td></tr><tr><td>epoch/learning_rate</td><td>0.0024</td></tr><tr><td>epoch/loss</td><td>0.57195</td></tr><tr><td>epoch/val_accuracy</td><td>0.74107</td></tr><tr><td>epoch/val_loss</td><td>0.57194</td></tr></table><br/></div></div>"
     },
     "metadata": {},
     "output_type": "display_data"
    },
    {
     "data": {
      "text/plain": "<IPython.core.display.HTML object>",
      "text/html": " View run <strong style=\"color:#cdcd00\">empathic-dominion-3</strong> at: <a href='https://wandb.ai/chunb123-team/cnn/runs/9ibkfyps' target=\"_blank\">https://wandb.ai/chunb123-team/cnn/runs/9ibkfyps</a><br/> View project at: <a href='https://wandb.ai/chunb123-team/cnn' target=\"_blank\">https://wandb.ai/chunb123-team/cnn</a><br/>Synced 5 W&B file(s), 0 media file(s), 0 artifact file(s) and 0 other file(s)"
     },
     "metadata": {},
     "output_type": "display_data"
    },
    {
     "data": {
      "text/plain": "<IPython.core.display.HTML object>",
      "text/html": "Find logs at: <code>./wandb/run-20240406_204722-9ibkfyps/logs</code>"
     },
     "metadata": {},
     "output_type": "display_data"
    }
   ],
   "source": [
    "warnings.filterwarnings(\"ignore\")\n",
    "models = run(images_con, target_con)"
   ],
   "metadata": {
    "collapsed": false,
    "ExecuteTime": {
     "end_time": "2024-04-06T21:59:47.836895Z",
     "start_time": "2024-04-06T20:47:22.557795Z"
    }
   },
   "execution_count": 25
  },
  {
   "cell_type": "code",
   "outputs": [],
   "source": [
    "wandb.finish()"
   ],
   "metadata": {
    "collapsed": false
   },
   "execution_count": null
  },
  {
   "metadata": {},
   "cell_type": "markdown",
   "source": "# Feature Engineering, expand features from 190 to 741."
  },
  {
   "cell_type": "code",
   "source": [
    "def build_UNET():\n",
    "    input_layer = keras.Input(shape=(28, 28, 1))\n",
    "    x = layers.ZeroPadding2D(((4,0),(4,0)))(input_layer)\n",
    "\n",
    "    conv1 = layers.Conv2D(8, (3,3), activation=\"swish\", padding=\"same\")(x)\n",
    "    conv1 = layers.Conv2D(8, (3,3), activation=\"swish\", padding=\"same\")(conv1)\n",
    "    pool1 = layers.MaxPooling2D(pool_size=(2,2))(conv1)\n",
    "\n",
    "    conv2 = layers.Conv2D(16, (3,3), activation=\"swish\", padding=\"same\")(pool1)\n",
    "    conv2 = layers.Conv2D(16, (3,3), activation=\"swish\", padding=\"same\")(conv2)\n",
    "    pool2 = layers.MaxPooling2D(pool_size=(2,2))(conv2)\n",
    "\n",
    "    conv3 = layers.Conv2D(32, (3,3), activation=\"swish\", padding=\"same\")(pool2)\n",
    "    conv3 = layers.Conv2D(32, (3,3), activation=\"swish\", padding=\"same\")(conv3)\n",
    "    pool3 = layers.MaxPooling2D(pool_size=(2,2))(conv3)\n",
    "\n",
    "    conv4 = layers.Conv2D(64, (3,3), activation=\"swish\", padding=\"same\")(pool3)\n",
    "    conv4 = layers.Conv2D(64, (3,3), activation=\"swish\", padding=\"same\")(conv4)\n",
    "    pool4 = layers.MaxPooling2D(pool_size=(2,2))(conv4)\n",
    "    \n",
    "    convm = layers.Conv2D(128, (3,3), activation=\"swish\", padding=\"same\")(pool4)\n",
    "    convm = layers.Conv2D(128, (3,3), activation=\"swish\", padding=\"same\")(convm)\n",
    "\n",
    "\n",
    "    up5 = layers.UpSampling2D(size=(2,2))(convm)\n",
    "    cat5 = layers.Concatenate()([up5, conv4])\n",
    "    conv5 = layers.Conv2D(64, (3,3), activation=\"swish\",padding=\"same\")(cat5)\n",
    "    conv5 = layers.Conv2D(64, (3,3), activation=\"swish\",padding=\"same\")(conv5)\n",
    "    conv5 = layers.BatchNormalization()(conv5)\n",
    "\n",
    "    up6 = layers.UpSampling2D(size=(2,2))(conv5)\n",
    "    cat6 = layers.Concatenate()([up6, conv3])\n",
    "    conv6 = layers.Conv2D(32, (3,3), activation=\"swish\", padding=\"same\")(cat6)\n",
    "    conv6 = layers.Conv2D(32, (3,3), activation=\"swish\", padding=\"same\")(conv6)\n",
    "    conv6 = layers.BatchNormalization()(conv6)\n",
    "\n",
    "    up7 = layers.UpSampling2D(size=(2,2))(conv6)\n",
    "    cat7 = layers.Concatenate()([up7, conv2])\n",
    "    conv7 = layers.Conv2D(16, (3,3), activation=\"swish\", padding=\"same\")(cat7)\n",
    "    conv7 = layers.Conv2D(16, (3,3), activation=\"swish\", padding=\"same\")(conv7)\n",
    "    x = layers.BatchNormalization()(conv7)\n",
    "    \n",
    "    up8 = layers.UpSampling2D(size=(2,2))(conv7)\n",
    "    cat8 = layers.Concatenate()([up8, conv1])\n",
    "    conv8 = layers.Conv2D(8, (3,3), activation=\"swish\", padding=\"same\")(cat8)\n",
    "    conv8 = layers.Conv2D(8, (3,3), activation=\"swish\", padding=\"same\")(conv8)\n",
    "    x = layers.BatchNormalization()(conv8)\n",
    "\n",
    "    x = layers.Conv2D(32, kernel_size=(3,3), strides=1, padding=\"same\")(x)\n",
    "    x = layers.Flatten()(x)\n",
    "    x = layers.Dense(10)(x)\n",
    "    output = layers.Dense(1, activation=\"sigmoid\")(x)\n",
    "    model = keras.Model(inputs=input_layer, outputs=output)\n",
    "\n",
    "    return model"
   ],
   "metadata": {
    "execution": {
     "iopub.status.busy": "2024-04-05T15:22:24.463248Z",
     "iopub.execute_input": "2024-04-05T15:22:24.463614Z",
     "iopub.status.idle": "2024-04-05T15:22:24.487983Z",
     "shell.execute_reply.started": "2024-04-05T15:22:24.463587Z",
     "shell.execute_reply": "2024-04-05T15:22:24.487026Z"
    },
    "trusted": true,
    "ExecuteTime": {
     "end_time": "2024-04-06T18:05:27.733013Z",
     "start_time": "2024-04-06T18:05:27.714616Z"
    }
   },
   "execution_count": 46,
   "outputs": []
  },
  {
   "cell_type": "code",
   "source": [
    "build_UNET().summary()"
   ],
   "metadata": {
    "execution": {
     "iopub.status.busy": "2024-04-05T15:22:24.489011Z",
     "iopub.execute_input": "2024-04-05T15:22:24.489340Z",
     "iopub.status.idle": "2024-04-05T15:22:27.400139Z",
     "shell.execute_reply.started": "2024-04-05T15:22:24.489293Z",
     "shell.execute_reply": "2024-04-05T15:22:27.399099Z"
    },
    "trusted": true,
    "ExecuteTime": {
     "end_time": "2024-04-06T18:05:30.216878Z",
     "start_time": "2024-04-06T18:05:29.388627Z"
    }
   },
   "execution_count": 47,
   "outputs": [
    {
     "name": "stderr",
     "output_type": "stream",
     "text": [
      "2024-04-06 18:05:29.466193: I external/local_xla/xla/stream_executor/cuda/cuda_executor.cc:998] successful NUMA node read from SysFS had negative value (-1), but there must be at least one NUMA node, so returning NUMA node zero. See more at https://github.com/torvalds/linux/blob/v6.0/Documentation/ABI/testing/sysfs-bus-pci#L344-L355\n",
      "2024-04-06 18:05:29.491115: I external/local_xla/xla/stream_executor/cuda/cuda_executor.cc:998] successful NUMA node read from SysFS had negative value (-1), but there must be at least one NUMA node, so returning NUMA node zero. See more at https://github.com/torvalds/linux/blob/v6.0/Documentation/ABI/testing/sysfs-bus-pci#L344-L355\n",
      "2024-04-06 18:05:29.492073: I external/local_xla/xla/stream_executor/cuda/cuda_executor.cc:998] successful NUMA node read from SysFS had negative value (-1), but there must be at least one NUMA node, so returning NUMA node zero. See more at https://github.com/torvalds/linux/blob/v6.0/Documentation/ABI/testing/sysfs-bus-pci#L344-L355\n",
      "2024-04-06 18:05:29.501000: I external/local_xla/xla/stream_executor/cuda/cuda_executor.cc:998] successful NUMA node read from SysFS had negative value (-1), but there must be at least one NUMA node, so returning NUMA node zero. See more at https://github.com/torvalds/linux/blob/v6.0/Documentation/ABI/testing/sysfs-bus-pci#L344-L355\n",
      "2024-04-06 18:05:29.501923: I external/local_xla/xla/stream_executor/cuda/cuda_executor.cc:998] successful NUMA node read from SysFS had negative value (-1), but there must be at least one NUMA node, so returning NUMA node zero. See more at https://github.com/torvalds/linux/blob/v6.0/Documentation/ABI/testing/sysfs-bus-pci#L344-L355\n",
      "2024-04-06 18:05:29.502776: I external/local_xla/xla/stream_executor/cuda/cuda_executor.cc:998] successful NUMA node read from SysFS had negative value (-1), but there must be at least one NUMA node, so returning NUMA node zero. See more at https://github.com/torvalds/linux/blob/v6.0/Documentation/ABI/testing/sysfs-bus-pci#L344-L355\n",
      "2024-04-06 18:05:29.622361: I external/local_xla/xla/stream_executor/cuda/cuda_executor.cc:998] successful NUMA node read from SysFS had negative value (-1), but there must be at least one NUMA node, so returning NUMA node zero. See more at https://github.com/torvalds/linux/blob/v6.0/Documentation/ABI/testing/sysfs-bus-pci#L344-L355\n",
      "2024-04-06 18:05:29.622875: I external/local_xla/xla/stream_executor/cuda/cuda_executor.cc:998] successful NUMA node read from SysFS had negative value (-1), but there must be at least one NUMA node, so returning NUMA node zero. See more at https://github.com/torvalds/linux/blob/v6.0/Documentation/ABI/testing/sysfs-bus-pci#L344-L355\n",
      "2024-04-06 18:05:29.623353: I external/local_xla/xla/stream_executor/cuda/cuda_executor.cc:998] successful NUMA node read from SysFS had negative value (-1), but there must be at least one NUMA node, so returning NUMA node zero. See more at https://github.com/torvalds/linux/blob/v6.0/Documentation/ABI/testing/sysfs-bus-pci#L344-L355\n",
      "2024-04-06 18:05:29.623786: I tensorflow/core/common_runtime/gpu/gpu_device.cc:1928] Created device /job:localhost/replica:0/task:0/device:GPU:0 with 22455 MB memory:  -> device: 0, name: NVIDIA GeForce RTX 3090, pci bus id: 0000:01:00.0, compute capability: 8.6\n"
     ]
    },
    {
     "data": {
      "text/plain": "\u001B[1mModel: \"functional_1\"\u001B[0m\n",
      "text/html": "<pre style=\"white-space:pre;overflow-x:auto;line-height:normal;font-family:Menlo,'DejaVu Sans Mono',consolas,'Courier New',monospace\"><span style=\"font-weight: bold\">Model: \"functional_1\"</span>\n</pre>\n"
     },
     "metadata": {},
     "output_type": "display_data"
    },
    {
     "data": {
      "text/plain": "┏━━━━━━━━━━━━━━━━━━━━━┳━━━━━━━━━━━━━━━━━━━┳━━━━━━━━━━━━┳━━━━━━━━━━━━━━━━━━━┓\n┃\u001B[1m \u001B[0m\u001B[1mLayer (type)       \u001B[0m\u001B[1m \u001B[0m┃\u001B[1m \u001B[0m\u001B[1mOutput Shape     \u001B[0m\u001B[1m \u001B[0m┃\u001B[1m \u001B[0m\u001B[1m   Param #\u001B[0m\u001B[1m \u001B[0m┃\u001B[1m \u001B[0m\u001B[1mConnected to     \u001B[0m\u001B[1m \u001B[0m┃\n┡━━━━━━━━━━━━━━━━━━━━━╇━━━━━━━━━━━━━━━━━━━╇━━━━━━━━━━━━╇━━━━━━━━━━━━━━━━━━━┩\n│ input_layer         │ (\u001B[38;5;45mNone\u001B[0m, \u001B[38;5;34m28\u001B[0m, \u001B[38;5;34m28\u001B[0m, \u001B[38;5;34m1\u001B[0m) │          \u001B[38;5;34m0\u001B[0m │ -                 │\n│ (\u001B[38;5;33mInputLayer\u001B[0m)        │                   │            │                   │\n├─────────────────────┼───────────────────┼────────────┼───────────────────┤\n│ zero_padding2d      │ (\u001B[38;5;45mNone\u001B[0m, \u001B[38;5;34m32\u001B[0m, \u001B[38;5;34m32\u001B[0m, \u001B[38;5;34m1\u001B[0m) │          \u001B[38;5;34m0\u001B[0m │ input_layer[\u001B[38;5;34m0\u001B[0m][\u001B[38;5;34m0\u001B[0m] │\n│ (\u001B[38;5;33mZeroPadding2D\u001B[0m)     │                   │            │                   │\n├─────────────────────┼───────────────────┼────────────┼───────────────────┤\n│ conv2d (\u001B[38;5;33mConv2D\u001B[0m)     │ (\u001B[38;5;45mNone\u001B[0m, \u001B[38;5;34m32\u001B[0m, \u001B[38;5;34m32\u001B[0m, \u001B[38;5;34m8\u001B[0m) │         \u001B[38;5;34m80\u001B[0m │ zero_padding2d[\u001B[38;5;34m0\u001B[0m… │\n├─────────────────────┼───────────────────┼────────────┼───────────────────┤\n│ conv2d_1 (\u001B[38;5;33mConv2D\u001B[0m)   │ (\u001B[38;5;45mNone\u001B[0m, \u001B[38;5;34m32\u001B[0m, \u001B[38;5;34m32\u001B[0m, \u001B[38;5;34m8\u001B[0m) │        \u001B[38;5;34m584\u001B[0m │ conv2d[\u001B[38;5;34m0\u001B[0m][\u001B[38;5;34m0\u001B[0m]      │\n├─────────────────────┼───────────────────┼────────────┼───────────────────┤\n│ max_pooling2d       │ (\u001B[38;5;45mNone\u001B[0m, \u001B[38;5;34m16\u001B[0m, \u001B[38;5;34m16\u001B[0m, \u001B[38;5;34m8\u001B[0m) │          \u001B[38;5;34m0\u001B[0m │ conv2d_1[\u001B[38;5;34m0\u001B[0m][\u001B[38;5;34m0\u001B[0m]    │\n│ (\u001B[38;5;33mMaxPooling2D\u001B[0m)      │                   │            │                   │\n├─────────────────────┼───────────────────┼────────────┼───────────────────┤\n│ conv2d_2 (\u001B[38;5;33mConv2D\u001B[0m)   │ (\u001B[38;5;45mNone\u001B[0m, \u001B[38;5;34m16\u001B[0m, \u001B[38;5;34m16\u001B[0m,    │      \u001B[38;5;34m1,168\u001B[0m │ max_pooling2d[\u001B[38;5;34m0\u001B[0m]… │\n│                     │ \u001B[38;5;34m16\u001B[0m)               │            │                   │\n├─────────────────────┼───────────────────┼────────────┼───────────────────┤\n│ conv2d_3 (\u001B[38;5;33mConv2D\u001B[0m)   │ (\u001B[38;5;45mNone\u001B[0m, \u001B[38;5;34m16\u001B[0m, \u001B[38;5;34m16\u001B[0m,    │      \u001B[38;5;34m2,320\u001B[0m │ conv2d_2[\u001B[38;5;34m0\u001B[0m][\u001B[38;5;34m0\u001B[0m]    │\n│                     │ \u001B[38;5;34m16\u001B[0m)               │            │                   │\n├─────────────────────┼───────────────────┼────────────┼───────────────────┤\n│ max_pooling2d_1     │ (\u001B[38;5;45mNone\u001B[0m, \u001B[38;5;34m8\u001B[0m, \u001B[38;5;34m8\u001B[0m, \u001B[38;5;34m16\u001B[0m)  │          \u001B[38;5;34m0\u001B[0m │ conv2d_3[\u001B[38;5;34m0\u001B[0m][\u001B[38;5;34m0\u001B[0m]    │\n│ (\u001B[38;5;33mMaxPooling2D\u001B[0m)      │                   │            │                   │\n├─────────────────────┼───────────────────┼────────────┼───────────────────┤\n│ conv2d_4 (\u001B[38;5;33mConv2D\u001B[0m)   │ (\u001B[38;5;45mNone\u001B[0m, \u001B[38;5;34m8\u001B[0m, \u001B[38;5;34m8\u001B[0m, \u001B[38;5;34m32\u001B[0m)  │      \u001B[38;5;34m4,640\u001B[0m │ max_pooling2d_1[\u001B[38;5;34m…\u001B[0m │\n├─────────────────────┼───────────────────┼────────────┼───────────────────┤\n│ conv2d_5 (\u001B[38;5;33mConv2D\u001B[0m)   │ (\u001B[38;5;45mNone\u001B[0m, \u001B[38;5;34m8\u001B[0m, \u001B[38;5;34m8\u001B[0m, \u001B[38;5;34m32\u001B[0m)  │      \u001B[38;5;34m9,248\u001B[0m │ conv2d_4[\u001B[38;5;34m0\u001B[0m][\u001B[38;5;34m0\u001B[0m]    │\n├─────────────────────┼───────────────────┼────────────┼───────────────────┤\n│ max_pooling2d_2     │ (\u001B[38;5;45mNone\u001B[0m, \u001B[38;5;34m4\u001B[0m, \u001B[38;5;34m4\u001B[0m, \u001B[38;5;34m32\u001B[0m)  │          \u001B[38;5;34m0\u001B[0m │ conv2d_5[\u001B[38;5;34m0\u001B[0m][\u001B[38;5;34m0\u001B[0m]    │\n│ (\u001B[38;5;33mMaxPooling2D\u001B[0m)      │                   │            │                   │\n├─────────────────────┼───────────────────┼────────────┼───────────────────┤\n│ conv2d_6 (\u001B[38;5;33mConv2D\u001B[0m)   │ (\u001B[38;5;45mNone\u001B[0m, \u001B[38;5;34m4\u001B[0m, \u001B[38;5;34m4\u001B[0m, \u001B[38;5;34m64\u001B[0m)  │     \u001B[38;5;34m18,496\u001B[0m │ max_pooling2d_2[\u001B[38;5;34m…\u001B[0m │\n├─────────────────────┼───────────────────┼────────────┼───────────────────┤\n│ conv2d_7 (\u001B[38;5;33mConv2D\u001B[0m)   │ (\u001B[38;5;45mNone\u001B[0m, \u001B[38;5;34m4\u001B[0m, \u001B[38;5;34m4\u001B[0m, \u001B[38;5;34m64\u001B[0m)  │     \u001B[38;5;34m36,928\u001B[0m │ conv2d_6[\u001B[38;5;34m0\u001B[0m][\u001B[38;5;34m0\u001B[0m]    │\n├─────────────────────┼───────────────────┼────────────┼───────────────────┤\n│ max_pooling2d_3     │ (\u001B[38;5;45mNone\u001B[0m, \u001B[38;5;34m2\u001B[0m, \u001B[38;5;34m2\u001B[0m, \u001B[38;5;34m64\u001B[0m)  │          \u001B[38;5;34m0\u001B[0m │ conv2d_7[\u001B[38;5;34m0\u001B[0m][\u001B[38;5;34m0\u001B[0m]    │\n│ (\u001B[38;5;33mMaxPooling2D\u001B[0m)      │                   │            │                   │\n├─────────────────────┼───────────────────┼────────────┼───────────────────┤\n│ conv2d_8 (\u001B[38;5;33mConv2D\u001B[0m)   │ (\u001B[38;5;45mNone\u001B[0m, \u001B[38;5;34m2\u001B[0m, \u001B[38;5;34m2\u001B[0m, \u001B[38;5;34m128\u001B[0m) │     \u001B[38;5;34m73,856\u001B[0m │ max_pooling2d_3[\u001B[38;5;34m…\u001B[0m │\n├─────────────────────┼───────────────────┼────────────┼───────────────────┤\n│ conv2d_9 (\u001B[38;5;33mConv2D\u001B[0m)   │ (\u001B[38;5;45mNone\u001B[0m, \u001B[38;5;34m2\u001B[0m, \u001B[38;5;34m2\u001B[0m, \u001B[38;5;34m128\u001B[0m) │    \u001B[38;5;34m147,584\u001B[0m │ conv2d_8[\u001B[38;5;34m0\u001B[0m][\u001B[38;5;34m0\u001B[0m]    │\n├─────────────────────┼───────────────────┼────────────┼───────────────────┤\n│ up_sampling2d       │ (\u001B[38;5;45mNone\u001B[0m, \u001B[38;5;34m4\u001B[0m, \u001B[38;5;34m4\u001B[0m, \u001B[38;5;34m128\u001B[0m) │          \u001B[38;5;34m0\u001B[0m │ conv2d_9[\u001B[38;5;34m0\u001B[0m][\u001B[38;5;34m0\u001B[0m]    │\n│ (\u001B[38;5;33mUpSampling2D\u001B[0m)      │                   │            │                   │\n├─────────────────────┼───────────────────┼────────────┼───────────────────┤\n│ concatenate         │ (\u001B[38;5;45mNone\u001B[0m, \u001B[38;5;34m4\u001B[0m, \u001B[38;5;34m4\u001B[0m, \u001B[38;5;34m192\u001B[0m) │          \u001B[38;5;34m0\u001B[0m │ up_sampling2d[\u001B[38;5;34m0\u001B[0m]… │\n│ (\u001B[38;5;33mConcatenate\u001B[0m)       │                   │            │ conv2d_7[\u001B[38;5;34m0\u001B[0m][\u001B[38;5;34m0\u001B[0m]    │\n├─────────────────────┼───────────────────┼────────────┼───────────────────┤\n│ conv2d_10 (\u001B[38;5;33mConv2D\u001B[0m)  │ (\u001B[38;5;45mNone\u001B[0m, \u001B[38;5;34m4\u001B[0m, \u001B[38;5;34m4\u001B[0m, \u001B[38;5;34m64\u001B[0m)  │    \u001B[38;5;34m110,656\u001B[0m │ concatenate[\u001B[38;5;34m0\u001B[0m][\u001B[38;5;34m0\u001B[0m] │\n├─────────────────────┼───────────────────┼────────────┼───────────────────┤\n│ conv2d_11 (\u001B[38;5;33mConv2D\u001B[0m)  │ (\u001B[38;5;45mNone\u001B[0m, \u001B[38;5;34m4\u001B[0m, \u001B[38;5;34m4\u001B[0m, \u001B[38;5;34m64\u001B[0m)  │     \u001B[38;5;34m36,928\u001B[0m │ conv2d_10[\u001B[38;5;34m0\u001B[0m][\u001B[38;5;34m0\u001B[0m]   │\n├─────────────────────┼───────────────────┼────────────┼───────────────────┤\n│ batch_normalization │ (\u001B[38;5;45mNone\u001B[0m, \u001B[38;5;34m4\u001B[0m, \u001B[38;5;34m4\u001B[0m, \u001B[38;5;34m64\u001B[0m)  │        \u001B[38;5;34m256\u001B[0m │ conv2d_11[\u001B[38;5;34m0\u001B[0m][\u001B[38;5;34m0\u001B[0m]   │\n│ (\u001B[38;5;33mBatchNormalizatio…\u001B[0m │                   │            │                   │\n├─────────────────────┼───────────────────┼────────────┼───────────────────┤\n│ up_sampling2d_1     │ (\u001B[38;5;45mNone\u001B[0m, \u001B[38;5;34m8\u001B[0m, \u001B[38;5;34m8\u001B[0m, \u001B[38;5;34m64\u001B[0m)  │          \u001B[38;5;34m0\u001B[0m │ batch_normalizat… │\n│ (\u001B[38;5;33mUpSampling2D\u001B[0m)      │                   │            │                   │\n├─────────────────────┼───────────────────┼────────────┼───────────────────┤\n│ concatenate_1       │ (\u001B[38;5;45mNone\u001B[0m, \u001B[38;5;34m8\u001B[0m, \u001B[38;5;34m8\u001B[0m, \u001B[38;5;34m96\u001B[0m)  │          \u001B[38;5;34m0\u001B[0m │ up_sampling2d_1[\u001B[38;5;34m…\u001B[0m │\n│ (\u001B[38;5;33mConcatenate\u001B[0m)       │                   │            │ conv2d_5[\u001B[38;5;34m0\u001B[0m][\u001B[38;5;34m0\u001B[0m]    │\n├─────────────────────┼───────────────────┼────────────┼───────────────────┤\n│ conv2d_12 (\u001B[38;5;33mConv2D\u001B[0m)  │ (\u001B[38;5;45mNone\u001B[0m, \u001B[38;5;34m8\u001B[0m, \u001B[38;5;34m8\u001B[0m, \u001B[38;5;34m32\u001B[0m)  │     \u001B[38;5;34m27,680\u001B[0m │ concatenate_1[\u001B[38;5;34m0\u001B[0m]… │\n├─────────────────────┼───────────────────┼────────────┼───────────────────┤\n│ conv2d_13 (\u001B[38;5;33mConv2D\u001B[0m)  │ (\u001B[38;5;45mNone\u001B[0m, \u001B[38;5;34m8\u001B[0m, \u001B[38;5;34m8\u001B[0m, \u001B[38;5;34m32\u001B[0m)  │      \u001B[38;5;34m9,248\u001B[0m │ conv2d_12[\u001B[38;5;34m0\u001B[0m][\u001B[38;5;34m0\u001B[0m]   │\n├─────────────────────┼───────────────────┼────────────┼───────────────────┤\n│ batch_normalizatio… │ (\u001B[38;5;45mNone\u001B[0m, \u001B[38;5;34m8\u001B[0m, \u001B[38;5;34m8\u001B[0m, \u001B[38;5;34m32\u001B[0m)  │        \u001B[38;5;34m128\u001B[0m │ conv2d_13[\u001B[38;5;34m0\u001B[0m][\u001B[38;5;34m0\u001B[0m]   │\n│ (\u001B[38;5;33mBatchNormalizatio…\u001B[0m │                   │            │                   │\n├─────────────────────┼───────────────────┼────────────┼───────────────────┤\n│ up_sampling2d_2     │ (\u001B[38;5;45mNone\u001B[0m, \u001B[38;5;34m16\u001B[0m, \u001B[38;5;34m16\u001B[0m,    │          \u001B[38;5;34m0\u001B[0m │ batch_normalizat… │\n│ (\u001B[38;5;33mUpSampling2D\u001B[0m)      │ \u001B[38;5;34m32\u001B[0m)               │            │                   │\n├─────────────────────┼───────────────────┼────────────┼───────────────────┤\n│ concatenate_2       │ (\u001B[38;5;45mNone\u001B[0m, \u001B[38;5;34m16\u001B[0m, \u001B[38;5;34m16\u001B[0m,    │          \u001B[38;5;34m0\u001B[0m │ up_sampling2d_2[\u001B[38;5;34m…\u001B[0m │\n│ (\u001B[38;5;33mConcatenate\u001B[0m)       │ \u001B[38;5;34m48\u001B[0m)               │            │ conv2d_3[\u001B[38;5;34m0\u001B[0m][\u001B[38;5;34m0\u001B[0m]    │\n├─────────────────────┼───────────────────┼────────────┼───────────────────┤\n│ conv2d_14 (\u001B[38;5;33mConv2D\u001B[0m)  │ (\u001B[38;5;45mNone\u001B[0m, \u001B[38;5;34m16\u001B[0m, \u001B[38;5;34m16\u001B[0m,    │      \u001B[38;5;34m6,928\u001B[0m │ concatenate_2[\u001B[38;5;34m0\u001B[0m]… │\n│                     │ \u001B[38;5;34m16\u001B[0m)               │            │                   │\n├─────────────────────┼───────────────────┼────────────┼───────────────────┤\n│ conv2d_15 (\u001B[38;5;33mConv2D\u001B[0m)  │ (\u001B[38;5;45mNone\u001B[0m, \u001B[38;5;34m16\u001B[0m, \u001B[38;5;34m16\u001B[0m,    │      \u001B[38;5;34m2,320\u001B[0m │ conv2d_14[\u001B[38;5;34m0\u001B[0m][\u001B[38;5;34m0\u001B[0m]   │\n│                     │ \u001B[38;5;34m16\u001B[0m)               │            │                   │\n├─────────────────────┼───────────────────┼────────────┼───────────────────┤\n│ up_sampling2d_3     │ (\u001B[38;5;45mNone\u001B[0m, \u001B[38;5;34m32\u001B[0m, \u001B[38;5;34m32\u001B[0m,    │          \u001B[38;5;34m0\u001B[0m │ conv2d_15[\u001B[38;5;34m0\u001B[0m][\u001B[38;5;34m0\u001B[0m]   │\n│ (\u001B[38;5;33mUpSampling2D\u001B[0m)      │ \u001B[38;5;34m16\u001B[0m)               │            │                   │\n├─────────────────────┼───────────────────┼────────────┼───────────────────┤\n│ concatenate_3       │ (\u001B[38;5;45mNone\u001B[0m, \u001B[38;5;34m32\u001B[0m, \u001B[38;5;34m32\u001B[0m,    │          \u001B[38;5;34m0\u001B[0m │ up_sampling2d_3[\u001B[38;5;34m…\u001B[0m │\n│ (\u001B[38;5;33mConcatenate\u001B[0m)       │ \u001B[38;5;34m24\u001B[0m)               │            │ conv2d_1[\u001B[38;5;34m0\u001B[0m][\u001B[38;5;34m0\u001B[0m]    │\n├─────────────────────┼───────────────────┼────────────┼───────────────────┤\n│ conv2d_16 (\u001B[38;5;33mConv2D\u001B[0m)  │ (\u001B[38;5;45mNone\u001B[0m, \u001B[38;5;34m32\u001B[0m, \u001B[38;5;34m32\u001B[0m, \u001B[38;5;34m8\u001B[0m) │      \u001B[38;5;34m1,736\u001B[0m │ concatenate_3[\u001B[38;5;34m0\u001B[0m]… │\n├─────────────────────┼───────────────────┼────────────┼───────────────────┤\n│ conv2d_17 (\u001B[38;5;33mConv2D\u001B[0m)  │ (\u001B[38;5;45mNone\u001B[0m, \u001B[38;5;34m32\u001B[0m, \u001B[38;5;34m32\u001B[0m, \u001B[38;5;34m8\u001B[0m) │        \u001B[38;5;34m584\u001B[0m │ conv2d_16[\u001B[38;5;34m0\u001B[0m][\u001B[38;5;34m0\u001B[0m]   │\n├─────────────────────┼───────────────────┼────────────┼───────────────────┤\n│ batch_normalizatio… │ (\u001B[38;5;45mNone\u001B[0m, \u001B[38;5;34m32\u001B[0m, \u001B[38;5;34m32\u001B[0m, \u001B[38;5;34m8\u001B[0m) │         \u001B[38;5;34m32\u001B[0m │ conv2d_17[\u001B[38;5;34m0\u001B[0m][\u001B[38;5;34m0\u001B[0m]   │\n│ (\u001B[38;5;33mBatchNormalizatio…\u001B[0m │                   │            │                   │\n├─────────────────────┼───────────────────┼────────────┼───────────────────┤\n│ conv2d_18 (\u001B[38;5;33mConv2D\u001B[0m)  │ (\u001B[38;5;45mNone\u001B[0m, \u001B[38;5;34m32\u001B[0m, \u001B[38;5;34m32\u001B[0m,    │      \u001B[38;5;34m2,336\u001B[0m │ batch_normalizat… │\n│                     │ \u001B[38;5;34m32\u001B[0m)               │            │                   │\n├─────────────────────┼───────────────────┼────────────┼───────────────────┤\n│ flatten (\u001B[38;5;33mFlatten\u001B[0m)   │ (\u001B[38;5;45mNone\u001B[0m, \u001B[38;5;34m32768\u001B[0m)     │          \u001B[38;5;34m0\u001B[0m │ conv2d_18[\u001B[38;5;34m0\u001B[0m][\u001B[38;5;34m0\u001B[0m]   │\n├─────────────────────┼───────────────────┼────────────┼───────────────────┤\n│ dense (\u001B[38;5;33mDense\u001B[0m)       │ (\u001B[38;5;45mNone\u001B[0m, \u001B[38;5;34m10\u001B[0m)        │    \u001B[38;5;34m327,690\u001B[0m │ flatten[\u001B[38;5;34m0\u001B[0m][\u001B[38;5;34m0\u001B[0m]     │\n├─────────────────────┼───────────────────┼────────────┼───────────────────┤\n│ dense_1 (\u001B[38;5;33mDense\u001B[0m)     │ (\u001B[38;5;45mNone\u001B[0m, \u001B[38;5;34m1\u001B[0m)         │         \u001B[38;5;34m11\u001B[0m │ dense[\u001B[38;5;34m0\u001B[0m][\u001B[38;5;34m0\u001B[0m]       │\n└─────────────────────┴───────────────────┴────────────┴───────────────────┘\n",
      "text/html": "<pre style=\"white-space:pre;overflow-x:auto;line-height:normal;font-family:Menlo,'DejaVu Sans Mono',consolas,'Courier New',monospace\">┏━━━━━━━━━━━━━━━━━━━━━┳━━━━━━━━━━━━━━━━━━━┳━━━━━━━━━━━━┳━━━━━━━━━━━━━━━━━━━┓\n┃<span style=\"font-weight: bold\"> Layer (type)        </span>┃<span style=\"font-weight: bold\"> Output Shape      </span>┃<span style=\"font-weight: bold\">    Param # </span>┃<span style=\"font-weight: bold\"> Connected to      </span>┃\n┡━━━━━━━━━━━━━━━━━━━━━╇━━━━━━━━━━━━━━━━━━━╇━━━━━━━━━━━━╇━━━━━━━━━━━━━━━━━━━┩\n│ input_layer         │ (<span style=\"color: #00d7ff; text-decoration-color: #00d7ff\">None</span>, <span style=\"color: #00af00; text-decoration-color: #00af00\">28</span>, <span style=\"color: #00af00; text-decoration-color: #00af00\">28</span>, <span style=\"color: #00af00; text-decoration-color: #00af00\">1</span>) │          <span style=\"color: #00af00; text-decoration-color: #00af00\">0</span> │ -                 │\n│ (<span style=\"color: #0087ff; text-decoration-color: #0087ff\">InputLayer</span>)        │                   │            │                   │\n├─────────────────────┼───────────────────┼────────────┼───────────────────┤\n│ zero_padding2d      │ (<span style=\"color: #00d7ff; text-decoration-color: #00d7ff\">None</span>, <span style=\"color: #00af00; text-decoration-color: #00af00\">32</span>, <span style=\"color: #00af00; text-decoration-color: #00af00\">32</span>, <span style=\"color: #00af00; text-decoration-color: #00af00\">1</span>) │          <span style=\"color: #00af00; text-decoration-color: #00af00\">0</span> │ input_layer[<span style=\"color: #00af00; text-decoration-color: #00af00\">0</span>][<span style=\"color: #00af00; text-decoration-color: #00af00\">0</span>] │\n│ (<span style=\"color: #0087ff; text-decoration-color: #0087ff\">ZeroPadding2D</span>)     │                   │            │                   │\n├─────────────────────┼───────────────────┼────────────┼───────────────────┤\n│ conv2d (<span style=\"color: #0087ff; text-decoration-color: #0087ff\">Conv2D</span>)     │ (<span style=\"color: #00d7ff; text-decoration-color: #00d7ff\">None</span>, <span style=\"color: #00af00; text-decoration-color: #00af00\">32</span>, <span style=\"color: #00af00; text-decoration-color: #00af00\">32</span>, <span style=\"color: #00af00; text-decoration-color: #00af00\">8</span>) │         <span style=\"color: #00af00; text-decoration-color: #00af00\">80</span> │ zero_padding2d[<span style=\"color: #00af00; text-decoration-color: #00af00\">0</span>… │\n├─────────────────────┼───────────────────┼────────────┼───────────────────┤\n│ conv2d_1 (<span style=\"color: #0087ff; text-decoration-color: #0087ff\">Conv2D</span>)   │ (<span style=\"color: #00d7ff; text-decoration-color: #00d7ff\">None</span>, <span style=\"color: #00af00; text-decoration-color: #00af00\">32</span>, <span style=\"color: #00af00; text-decoration-color: #00af00\">32</span>, <span style=\"color: #00af00; text-decoration-color: #00af00\">8</span>) │        <span style=\"color: #00af00; text-decoration-color: #00af00\">584</span> │ conv2d[<span style=\"color: #00af00; text-decoration-color: #00af00\">0</span>][<span style=\"color: #00af00; text-decoration-color: #00af00\">0</span>]      │\n├─────────────────────┼───────────────────┼────────────┼───────────────────┤\n│ max_pooling2d       │ (<span style=\"color: #00d7ff; text-decoration-color: #00d7ff\">None</span>, <span style=\"color: #00af00; text-decoration-color: #00af00\">16</span>, <span style=\"color: #00af00; text-decoration-color: #00af00\">16</span>, <span style=\"color: #00af00; text-decoration-color: #00af00\">8</span>) │          <span style=\"color: #00af00; text-decoration-color: #00af00\">0</span> │ conv2d_1[<span style=\"color: #00af00; text-decoration-color: #00af00\">0</span>][<span style=\"color: #00af00; text-decoration-color: #00af00\">0</span>]    │\n│ (<span style=\"color: #0087ff; text-decoration-color: #0087ff\">MaxPooling2D</span>)      │                   │            │                   │\n├─────────────────────┼───────────────────┼────────────┼───────────────────┤\n│ conv2d_2 (<span style=\"color: #0087ff; text-decoration-color: #0087ff\">Conv2D</span>)   │ (<span style=\"color: #00d7ff; text-decoration-color: #00d7ff\">None</span>, <span style=\"color: #00af00; text-decoration-color: #00af00\">16</span>, <span style=\"color: #00af00; text-decoration-color: #00af00\">16</span>,    │      <span style=\"color: #00af00; text-decoration-color: #00af00\">1,168</span> │ max_pooling2d[<span style=\"color: #00af00; text-decoration-color: #00af00\">0</span>]… │\n│                     │ <span style=\"color: #00af00; text-decoration-color: #00af00\">16</span>)               │            │                   │\n├─────────────────────┼───────────────────┼────────────┼───────────────────┤\n│ conv2d_3 (<span style=\"color: #0087ff; text-decoration-color: #0087ff\">Conv2D</span>)   │ (<span style=\"color: #00d7ff; text-decoration-color: #00d7ff\">None</span>, <span style=\"color: #00af00; text-decoration-color: #00af00\">16</span>, <span style=\"color: #00af00; text-decoration-color: #00af00\">16</span>,    │      <span style=\"color: #00af00; text-decoration-color: #00af00\">2,320</span> │ conv2d_2[<span style=\"color: #00af00; text-decoration-color: #00af00\">0</span>][<span style=\"color: #00af00; text-decoration-color: #00af00\">0</span>]    │\n│                     │ <span style=\"color: #00af00; text-decoration-color: #00af00\">16</span>)               │            │                   │\n├─────────────────────┼───────────────────┼────────────┼───────────────────┤\n│ max_pooling2d_1     │ (<span style=\"color: #00d7ff; text-decoration-color: #00d7ff\">None</span>, <span style=\"color: #00af00; text-decoration-color: #00af00\">8</span>, <span style=\"color: #00af00; text-decoration-color: #00af00\">8</span>, <span style=\"color: #00af00; text-decoration-color: #00af00\">16</span>)  │          <span style=\"color: #00af00; text-decoration-color: #00af00\">0</span> │ conv2d_3[<span style=\"color: #00af00; text-decoration-color: #00af00\">0</span>][<span style=\"color: #00af00; text-decoration-color: #00af00\">0</span>]    │\n│ (<span style=\"color: #0087ff; text-decoration-color: #0087ff\">MaxPooling2D</span>)      │                   │            │                   │\n├─────────────────────┼───────────────────┼────────────┼───────────────────┤\n│ conv2d_4 (<span style=\"color: #0087ff; text-decoration-color: #0087ff\">Conv2D</span>)   │ (<span style=\"color: #00d7ff; text-decoration-color: #00d7ff\">None</span>, <span style=\"color: #00af00; text-decoration-color: #00af00\">8</span>, <span style=\"color: #00af00; text-decoration-color: #00af00\">8</span>, <span style=\"color: #00af00; text-decoration-color: #00af00\">32</span>)  │      <span style=\"color: #00af00; text-decoration-color: #00af00\">4,640</span> │ max_pooling2d_1[<span style=\"color: #00af00; text-decoration-color: #00af00\">…</span> │\n├─────────────────────┼───────────────────┼────────────┼───────────────────┤\n│ conv2d_5 (<span style=\"color: #0087ff; text-decoration-color: #0087ff\">Conv2D</span>)   │ (<span style=\"color: #00d7ff; text-decoration-color: #00d7ff\">None</span>, <span style=\"color: #00af00; text-decoration-color: #00af00\">8</span>, <span style=\"color: #00af00; text-decoration-color: #00af00\">8</span>, <span style=\"color: #00af00; text-decoration-color: #00af00\">32</span>)  │      <span style=\"color: #00af00; text-decoration-color: #00af00\">9,248</span> │ conv2d_4[<span style=\"color: #00af00; text-decoration-color: #00af00\">0</span>][<span style=\"color: #00af00; text-decoration-color: #00af00\">0</span>]    │\n├─────────────────────┼───────────────────┼────────────┼───────────────────┤\n│ max_pooling2d_2     │ (<span style=\"color: #00d7ff; text-decoration-color: #00d7ff\">None</span>, <span style=\"color: #00af00; text-decoration-color: #00af00\">4</span>, <span style=\"color: #00af00; text-decoration-color: #00af00\">4</span>, <span style=\"color: #00af00; text-decoration-color: #00af00\">32</span>)  │          <span style=\"color: #00af00; text-decoration-color: #00af00\">0</span> │ conv2d_5[<span style=\"color: #00af00; text-decoration-color: #00af00\">0</span>][<span style=\"color: #00af00; text-decoration-color: #00af00\">0</span>]    │\n│ (<span style=\"color: #0087ff; text-decoration-color: #0087ff\">MaxPooling2D</span>)      │                   │            │                   │\n├─────────────────────┼───────────────────┼────────────┼───────────────────┤\n│ conv2d_6 (<span style=\"color: #0087ff; text-decoration-color: #0087ff\">Conv2D</span>)   │ (<span style=\"color: #00d7ff; text-decoration-color: #00d7ff\">None</span>, <span style=\"color: #00af00; text-decoration-color: #00af00\">4</span>, <span style=\"color: #00af00; text-decoration-color: #00af00\">4</span>, <span style=\"color: #00af00; text-decoration-color: #00af00\">64</span>)  │     <span style=\"color: #00af00; text-decoration-color: #00af00\">18,496</span> │ max_pooling2d_2[<span style=\"color: #00af00; text-decoration-color: #00af00\">…</span> │\n├─────────────────────┼───────────────────┼────────────┼───────────────────┤\n│ conv2d_7 (<span style=\"color: #0087ff; text-decoration-color: #0087ff\">Conv2D</span>)   │ (<span style=\"color: #00d7ff; text-decoration-color: #00d7ff\">None</span>, <span style=\"color: #00af00; text-decoration-color: #00af00\">4</span>, <span style=\"color: #00af00; text-decoration-color: #00af00\">4</span>, <span style=\"color: #00af00; text-decoration-color: #00af00\">64</span>)  │     <span style=\"color: #00af00; text-decoration-color: #00af00\">36,928</span> │ conv2d_6[<span style=\"color: #00af00; text-decoration-color: #00af00\">0</span>][<span style=\"color: #00af00; text-decoration-color: #00af00\">0</span>]    │\n├─────────────────────┼───────────────────┼────────────┼───────────────────┤\n│ max_pooling2d_3     │ (<span style=\"color: #00d7ff; text-decoration-color: #00d7ff\">None</span>, <span style=\"color: #00af00; text-decoration-color: #00af00\">2</span>, <span style=\"color: #00af00; text-decoration-color: #00af00\">2</span>, <span style=\"color: #00af00; text-decoration-color: #00af00\">64</span>)  │          <span style=\"color: #00af00; text-decoration-color: #00af00\">0</span> │ conv2d_7[<span style=\"color: #00af00; text-decoration-color: #00af00\">0</span>][<span style=\"color: #00af00; text-decoration-color: #00af00\">0</span>]    │\n│ (<span style=\"color: #0087ff; text-decoration-color: #0087ff\">MaxPooling2D</span>)      │                   │            │                   │\n├─────────────────────┼───────────────────┼────────────┼───────────────────┤\n│ conv2d_8 (<span style=\"color: #0087ff; text-decoration-color: #0087ff\">Conv2D</span>)   │ (<span style=\"color: #00d7ff; text-decoration-color: #00d7ff\">None</span>, <span style=\"color: #00af00; text-decoration-color: #00af00\">2</span>, <span style=\"color: #00af00; text-decoration-color: #00af00\">2</span>, <span style=\"color: #00af00; text-decoration-color: #00af00\">128</span>) │     <span style=\"color: #00af00; text-decoration-color: #00af00\">73,856</span> │ max_pooling2d_3[<span style=\"color: #00af00; text-decoration-color: #00af00\">…</span> │\n├─────────────────────┼───────────────────┼────────────┼───────────────────┤\n│ conv2d_9 (<span style=\"color: #0087ff; text-decoration-color: #0087ff\">Conv2D</span>)   │ (<span style=\"color: #00d7ff; text-decoration-color: #00d7ff\">None</span>, <span style=\"color: #00af00; text-decoration-color: #00af00\">2</span>, <span style=\"color: #00af00; text-decoration-color: #00af00\">2</span>, <span style=\"color: #00af00; text-decoration-color: #00af00\">128</span>) │    <span style=\"color: #00af00; text-decoration-color: #00af00\">147,584</span> │ conv2d_8[<span style=\"color: #00af00; text-decoration-color: #00af00\">0</span>][<span style=\"color: #00af00; text-decoration-color: #00af00\">0</span>]    │\n├─────────────────────┼───────────────────┼────────────┼───────────────────┤\n│ up_sampling2d       │ (<span style=\"color: #00d7ff; text-decoration-color: #00d7ff\">None</span>, <span style=\"color: #00af00; text-decoration-color: #00af00\">4</span>, <span style=\"color: #00af00; text-decoration-color: #00af00\">4</span>, <span style=\"color: #00af00; text-decoration-color: #00af00\">128</span>) │          <span style=\"color: #00af00; text-decoration-color: #00af00\">0</span> │ conv2d_9[<span style=\"color: #00af00; text-decoration-color: #00af00\">0</span>][<span style=\"color: #00af00; text-decoration-color: #00af00\">0</span>]    │\n│ (<span style=\"color: #0087ff; text-decoration-color: #0087ff\">UpSampling2D</span>)      │                   │            │                   │\n├─────────────────────┼───────────────────┼────────────┼───────────────────┤\n│ concatenate         │ (<span style=\"color: #00d7ff; text-decoration-color: #00d7ff\">None</span>, <span style=\"color: #00af00; text-decoration-color: #00af00\">4</span>, <span style=\"color: #00af00; text-decoration-color: #00af00\">4</span>, <span style=\"color: #00af00; text-decoration-color: #00af00\">192</span>) │          <span style=\"color: #00af00; text-decoration-color: #00af00\">0</span> │ up_sampling2d[<span style=\"color: #00af00; text-decoration-color: #00af00\">0</span>]… │\n│ (<span style=\"color: #0087ff; text-decoration-color: #0087ff\">Concatenate</span>)       │                   │            │ conv2d_7[<span style=\"color: #00af00; text-decoration-color: #00af00\">0</span>][<span style=\"color: #00af00; text-decoration-color: #00af00\">0</span>]    │\n├─────────────────────┼───────────────────┼────────────┼───────────────────┤\n│ conv2d_10 (<span style=\"color: #0087ff; text-decoration-color: #0087ff\">Conv2D</span>)  │ (<span style=\"color: #00d7ff; text-decoration-color: #00d7ff\">None</span>, <span style=\"color: #00af00; text-decoration-color: #00af00\">4</span>, <span style=\"color: #00af00; text-decoration-color: #00af00\">4</span>, <span style=\"color: #00af00; text-decoration-color: #00af00\">64</span>)  │    <span style=\"color: #00af00; text-decoration-color: #00af00\">110,656</span> │ concatenate[<span style=\"color: #00af00; text-decoration-color: #00af00\">0</span>][<span style=\"color: #00af00; text-decoration-color: #00af00\">0</span>] │\n├─────────────────────┼───────────────────┼────────────┼───────────────────┤\n│ conv2d_11 (<span style=\"color: #0087ff; text-decoration-color: #0087ff\">Conv2D</span>)  │ (<span style=\"color: #00d7ff; text-decoration-color: #00d7ff\">None</span>, <span style=\"color: #00af00; text-decoration-color: #00af00\">4</span>, <span style=\"color: #00af00; text-decoration-color: #00af00\">4</span>, <span style=\"color: #00af00; text-decoration-color: #00af00\">64</span>)  │     <span style=\"color: #00af00; text-decoration-color: #00af00\">36,928</span> │ conv2d_10[<span style=\"color: #00af00; text-decoration-color: #00af00\">0</span>][<span style=\"color: #00af00; text-decoration-color: #00af00\">0</span>]   │\n├─────────────────────┼───────────────────┼────────────┼───────────────────┤\n│ batch_normalization │ (<span style=\"color: #00d7ff; text-decoration-color: #00d7ff\">None</span>, <span style=\"color: #00af00; text-decoration-color: #00af00\">4</span>, <span style=\"color: #00af00; text-decoration-color: #00af00\">4</span>, <span style=\"color: #00af00; text-decoration-color: #00af00\">64</span>)  │        <span style=\"color: #00af00; text-decoration-color: #00af00\">256</span> │ conv2d_11[<span style=\"color: #00af00; text-decoration-color: #00af00\">0</span>][<span style=\"color: #00af00; text-decoration-color: #00af00\">0</span>]   │\n│ (<span style=\"color: #0087ff; text-decoration-color: #0087ff\">BatchNormalizatio…</span> │                   │            │                   │\n├─────────────────────┼───────────────────┼────────────┼───────────────────┤\n│ up_sampling2d_1     │ (<span style=\"color: #00d7ff; text-decoration-color: #00d7ff\">None</span>, <span style=\"color: #00af00; text-decoration-color: #00af00\">8</span>, <span style=\"color: #00af00; text-decoration-color: #00af00\">8</span>, <span style=\"color: #00af00; text-decoration-color: #00af00\">64</span>)  │          <span style=\"color: #00af00; text-decoration-color: #00af00\">0</span> │ batch_normalizat… │\n│ (<span style=\"color: #0087ff; text-decoration-color: #0087ff\">UpSampling2D</span>)      │                   │            │                   │\n├─────────────────────┼───────────────────┼────────────┼───────────────────┤\n│ concatenate_1       │ (<span style=\"color: #00d7ff; text-decoration-color: #00d7ff\">None</span>, <span style=\"color: #00af00; text-decoration-color: #00af00\">8</span>, <span style=\"color: #00af00; text-decoration-color: #00af00\">8</span>, <span style=\"color: #00af00; text-decoration-color: #00af00\">96</span>)  │          <span style=\"color: #00af00; text-decoration-color: #00af00\">0</span> │ up_sampling2d_1[<span style=\"color: #00af00; text-decoration-color: #00af00\">…</span> │\n│ (<span style=\"color: #0087ff; text-decoration-color: #0087ff\">Concatenate</span>)       │                   │            │ conv2d_5[<span style=\"color: #00af00; text-decoration-color: #00af00\">0</span>][<span style=\"color: #00af00; text-decoration-color: #00af00\">0</span>]    │\n├─────────────────────┼───────────────────┼────────────┼───────────────────┤\n│ conv2d_12 (<span style=\"color: #0087ff; text-decoration-color: #0087ff\">Conv2D</span>)  │ (<span style=\"color: #00d7ff; text-decoration-color: #00d7ff\">None</span>, <span style=\"color: #00af00; text-decoration-color: #00af00\">8</span>, <span style=\"color: #00af00; text-decoration-color: #00af00\">8</span>, <span style=\"color: #00af00; text-decoration-color: #00af00\">32</span>)  │     <span style=\"color: #00af00; text-decoration-color: #00af00\">27,680</span> │ concatenate_1[<span style=\"color: #00af00; text-decoration-color: #00af00\">0</span>]… │\n├─────────────────────┼───────────────────┼────────────┼───────────────────┤\n│ conv2d_13 (<span style=\"color: #0087ff; text-decoration-color: #0087ff\">Conv2D</span>)  │ (<span style=\"color: #00d7ff; text-decoration-color: #00d7ff\">None</span>, <span style=\"color: #00af00; text-decoration-color: #00af00\">8</span>, <span style=\"color: #00af00; text-decoration-color: #00af00\">8</span>, <span style=\"color: #00af00; text-decoration-color: #00af00\">32</span>)  │      <span style=\"color: #00af00; text-decoration-color: #00af00\">9,248</span> │ conv2d_12[<span style=\"color: #00af00; text-decoration-color: #00af00\">0</span>][<span style=\"color: #00af00; text-decoration-color: #00af00\">0</span>]   │\n├─────────────────────┼───────────────────┼────────────┼───────────────────┤\n│ batch_normalizatio… │ (<span style=\"color: #00d7ff; text-decoration-color: #00d7ff\">None</span>, <span style=\"color: #00af00; text-decoration-color: #00af00\">8</span>, <span style=\"color: #00af00; text-decoration-color: #00af00\">8</span>, <span style=\"color: #00af00; text-decoration-color: #00af00\">32</span>)  │        <span style=\"color: #00af00; text-decoration-color: #00af00\">128</span> │ conv2d_13[<span style=\"color: #00af00; text-decoration-color: #00af00\">0</span>][<span style=\"color: #00af00; text-decoration-color: #00af00\">0</span>]   │\n│ (<span style=\"color: #0087ff; text-decoration-color: #0087ff\">BatchNormalizatio…</span> │                   │            │                   │\n├─────────────────────┼───────────────────┼────────────┼───────────────────┤\n│ up_sampling2d_2     │ (<span style=\"color: #00d7ff; text-decoration-color: #00d7ff\">None</span>, <span style=\"color: #00af00; text-decoration-color: #00af00\">16</span>, <span style=\"color: #00af00; text-decoration-color: #00af00\">16</span>,    │          <span style=\"color: #00af00; text-decoration-color: #00af00\">0</span> │ batch_normalizat… │\n│ (<span style=\"color: #0087ff; text-decoration-color: #0087ff\">UpSampling2D</span>)      │ <span style=\"color: #00af00; text-decoration-color: #00af00\">32</span>)               │            │                   │\n├─────────────────────┼───────────────────┼────────────┼───────────────────┤\n│ concatenate_2       │ (<span style=\"color: #00d7ff; text-decoration-color: #00d7ff\">None</span>, <span style=\"color: #00af00; text-decoration-color: #00af00\">16</span>, <span style=\"color: #00af00; text-decoration-color: #00af00\">16</span>,    │          <span style=\"color: #00af00; text-decoration-color: #00af00\">0</span> │ up_sampling2d_2[<span style=\"color: #00af00; text-decoration-color: #00af00\">…</span> │\n│ (<span style=\"color: #0087ff; text-decoration-color: #0087ff\">Concatenate</span>)       │ <span style=\"color: #00af00; text-decoration-color: #00af00\">48</span>)               │            │ conv2d_3[<span style=\"color: #00af00; text-decoration-color: #00af00\">0</span>][<span style=\"color: #00af00; text-decoration-color: #00af00\">0</span>]    │\n├─────────────────────┼───────────────────┼────────────┼───────────────────┤\n│ conv2d_14 (<span style=\"color: #0087ff; text-decoration-color: #0087ff\">Conv2D</span>)  │ (<span style=\"color: #00d7ff; text-decoration-color: #00d7ff\">None</span>, <span style=\"color: #00af00; text-decoration-color: #00af00\">16</span>, <span style=\"color: #00af00; text-decoration-color: #00af00\">16</span>,    │      <span style=\"color: #00af00; text-decoration-color: #00af00\">6,928</span> │ concatenate_2[<span style=\"color: #00af00; text-decoration-color: #00af00\">0</span>]… │\n│                     │ <span style=\"color: #00af00; text-decoration-color: #00af00\">16</span>)               │            │                   │\n├─────────────────────┼───────────────────┼────────────┼───────────────────┤\n│ conv2d_15 (<span style=\"color: #0087ff; text-decoration-color: #0087ff\">Conv2D</span>)  │ (<span style=\"color: #00d7ff; text-decoration-color: #00d7ff\">None</span>, <span style=\"color: #00af00; text-decoration-color: #00af00\">16</span>, <span style=\"color: #00af00; text-decoration-color: #00af00\">16</span>,    │      <span style=\"color: #00af00; text-decoration-color: #00af00\">2,320</span> │ conv2d_14[<span style=\"color: #00af00; text-decoration-color: #00af00\">0</span>][<span style=\"color: #00af00; text-decoration-color: #00af00\">0</span>]   │\n│                     │ <span style=\"color: #00af00; text-decoration-color: #00af00\">16</span>)               │            │                   │\n├─────────────────────┼───────────────────┼────────────┼───────────────────┤\n│ up_sampling2d_3     │ (<span style=\"color: #00d7ff; text-decoration-color: #00d7ff\">None</span>, <span style=\"color: #00af00; text-decoration-color: #00af00\">32</span>, <span style=\"color: #00af00; text-decoration-color: #00af00\">32</span>,    │          <span style=\"color: #00af00; text-decoration-color: #00af00\">0</span> │ conv2d_15[<span style=\"color: #00af00; text-decoration-color: #00af00\">0</span>][<span style=\"color: #00af00; text-decoration-color: #00af00\">0</span>]   │\n│ (<span style=\"color: #0087ff; text-decoration-color: #0087ff\">UpSampling2D</span>)      │ <span style=\"color: #00af00; text-decoration-color: #00af00\">16</span>)               │            │                   │\n├─────────────────────┼───────────────────┼────────────┼───────────────────┤\n│ concatenate_3       │ (<span style=\"color: #00d7ff; text-decoration-color: #00d7ff\">None</span>, <span style=\"color: #00af00; text-decoration-color: #00af00\">32</span>, <span style=\"color: #00af00; text-decoration-color: #00af00\">32</span>,    │          <span style=\"color: #00af00; text-decoration-color: #00af00\">0</span> │ up_sampling2d_3[<span style=\"color: #00af00; text-decoration-color: #00af00\">…</span> │\n│ (<span style=\"color: #0087ff; text-decoration-color: #0087ff\">Concatenate</span>)       │ <span style=\"color: #00af00; text-decoration-color: #00af00\">24</span>)               │            │ conv2d_1[<span style=\"color: #00af00; text-decoration-color: #00af00\">0</span>][<span style=\"color: #00af00; text-decoration-color: #00af00\">0</span>]    │\n├─────────────────────┼───────────────────┼────────────┼───────────────────┤\n│ conv2d_16 (<span style=\"color: #0087ff; text-decoration-color: #0087ff\">Conv2D</span>)  │ (<span style=\"color: #00d7ff; text-decoration-color: #00d7ff\">None</span>, <span style=\"color: #00af00; text-decoration-color: #00af00\">32</span>, <span style=\"color: #00af00; text-decoration-color: #00af00\">32</span>, <span style=\"color: #00af00; text-decoration-color: #00af00\">8</span>) │      <span style=\"color: #00af00; text-decoration-color: #00af00\">1,736</span> │ concatenate_3[<span style=\"color: #00af00; text-decoration-color: #00af00\">0</span>]… │\n├─────────────────────┼───────────────────┼────────────┼───────────────────┤\n│ conv2d_17 (<span style=\"color: #0087ff; text-decoration-color: #0087ff\">Conv2D</span>)  │ (<span style=\"color: #00d7ff; text-decoration-color: #00d7ff\">None</span>, <span style=\"color: #00af00; text-decoration-color: #00af00\">32</span>, <span style=\"color: #00af00; text-decoration-color: #00af00\">32</span>, <span style=\"color: #00af00; text-decoration-color: #00af00\">8</span>) │        <span style=\"color: #00af00; text-decoration-color: #00af00\">584</span> │ conv2d_16[<span style=\"color: #00af00; text-decoration-color: #00af00\">0</span>][<span style=\"color: #00af00; text-decoration-color: #00af00\">0</span>]   │\n├─────────────────────┼───────────────────┼────────────┼───────────────────┤\n│ batch_normalizatio… │ (<span style=\"color: #00d7ff; text-decoration-color: #00d7ff\">None</span>, <span style=\"color: #00af00; text-decoration-color: #00af00\">32</span>, <span style=\"color: #00af00; text-decoration-color: #00af00\">32</span>, <span style=\"color: #00af00; text-decoration-color: #00af00\">8</span>) │         <span style=\"color: #00af00; text-decoration-color: #00af00\">32</span> │ conv2d_17[<span style=\"color: #00af00; text-decoration-color: #00af00\">0</span>][<span style=\"color: #00af00; text-decoration-color: #00af00\">0</span>]   │\n│ (<span style=\"color: #0087ff; text-decoration-color: #0087ff\">BatchNormalizatio…</span> │                   │            │                   │\n├─────────────────────┼───────────────────┼────────────┼───────────────────┤\n│ conv2d_18 (<span style=\"color: #0087ff; text-decoration-color: #0087ff\">Conv2D</span>)  │ (<span style=\"color: #00d7ff; text-decoration-color: #00d7ff\">None</span>, <span style=\"color: #00af00; text-decoration-color: #00af00\">32</span>, <span style=\"color: #00af00; text-decoration-color: #00af00\">32</span>,    │      <span style=\"color: #00af00; text-decoration-color: #00af00\">2,336</span> │ batch_normalizat… │\n│                     │ <span style=\"color: #00af00; text-decoration-color: #00af00\">32</span>)               │            │                   │\n├─────────────────────┼───────────────────┼────────────┼───────────────────┤\n│ flatten (<span style=\"color: #0087ff; text-decoration-color: #0087ff\">Flatten</span>)   │ (<span style=\"color: #00d7ff; text-decoration-color: #00d7ff\">None</span>, <span style=\"color: #00af00; text-decoration-color: #00af00\">32768</span>)     │          <span style=\"color: #00af00; text-decoration-color: #00af00\">0</span> │ conv2d_18[<span style=\"color: #00af00; text-decoration-color: #00af00\">0</span>][<span style=\"color: #00af00; text-decoration-color: #00af00\">0</span>]   │\n├─────────────────────┼───────────────────┼────────────┼───────────────────┤\n│ dense (<span style=\"color: #0087ff; text-decoration-color: #0087ff\">Dense</span>)       │ (<span style=\"color: #00d7ff; text-decoration-color: #00d7ff\">None</span>, <span style=\"color: #00af00; text-decoration-color: #00af00\">10</span>)        │    <span style=\"color: #00af00; text-decoration-color: #00af00\">327,690</span> │ flatten[<span style=\"color: #00af00; text-decoration-color: #00af00\">0</span>][<span style=\"color: #00af00; text-decoration-color: #00af00\">0</span>]     │\n├─────────────────────┼───────────────────┼────────────┼───────────────────┤\n│ dense_1 (<span style=\"color: #0087ff; text-decoration-color: #0087ff\">Dense</span>)     │ (<span style=\"color: #00d7ff; text-decoration-color: #00d7ff\">None</span>, <span style=\"color: #00af00; text-decoration-color: #00af00\">1</span>)         │         <span style=\"color: #00af00; text-decoration-color: #00af00\">11</span> │ dense[<span style=\"color: #00af00; text-decoration-color: #00af00\">0</span>][<span style=\"color: #00af00; text-decoration-color: #00af00\">0</span>]       │\n└─────────────────────┴───────────────────┴────────────┴───────────────────┘\n</pre>\n"
     },
     "metadata": {},
     "output_type": "display_data"
    },
    {
     "data": {
      "text/plain": "\u001B[1m Total params: \u001B[0m\u001B[38;5;34m821,437\u001B[0m (3.13 MB)\n",
      "text/html": "<pre style=\"white-space:pre;overflow-x:auto;line-height:normal;font-family:Menlo,'DejaVu Sans Mono',consolas,'Courier New',monospace\"><span style=\"font-weight: bold\"> Total params: </span><span style=\"color: #00af00; text-decoration-color: #00af00\">821,437</span> (3.13 MB)\n</pre>\n"
     },
     "metadata": {},
     "output_type": "display_data"
    },
    {
     "data": {
      "text/plain": "\u001B[1m Trainable params: \u001B[0m\u001B[38;5;34m821,229\u001B[0m (3.13 MB)\n",
      "text/html": "<pre style=\"white-space:pre;overflow-x:auto;line-height:normal;font-family:Menlo,'DejaVu Sans Mono',consolas,'Courier New',monospace\"><span style=\"font-weight: bold\"> Trainable params: </span><span style=\"color: #00af00; text-decoration-color: #00af00\">821,229</span> (3.13 MB)\n</pre>\n"
     },
     "metadata": {},
     "output_type": "display_data"
    },
    {
     "data": {
      "text/plain": "\u001B[1m Non-trainable params: \u001B[0m\u001B[38;5;34m208\u001B[0m (832.00 B)\n",
      "text/html": "<pre style=\"white-space:pre;overflow-x:auto;line-height:normal;font-family:Menlo,'DejaVu Sans Mono',consolas,'Courier New',monospace\"><span style=\"font-weight: bold\"> Non-trainable params: </span><span style=\"color: #00af00; text-decoration-color: #00af00\">208</span> (832.00 B)\n</pre>\n"
     },
     "metadata": {},
     "output_type": "display_data"
    }
   ]
  },
  {
   "cell_type": "code",
   "source": [
    "kfold = sklearn.model_selection.StratifiedKFold(n_splits=3)\n",
    "\n",
    "batch_size = 1000\n",
    "\n",
    "def run(images, target):\n",
    "    fold_scores = []\n",
    "\n",
    "    for fold, (trn_idx, val_idx) in enumerate(kfold.split(images, target)):\n",
    "        tf.keras.backend.clear_session()\n",
    "        \n",
    "        \n",
    "        # set random seed for fold\n",
    "        tf.random.set_seed(7453)\n",
    "        \n",
    "        \n",
    "        X_train, y_train = images[trn_idx], target[trn_idx]\n",
    "        X_val, y_val = images[val_idx], target[val_idx]\n",
    "        print(f\"#### fold: {fold +1} ####\")\n",
    "\n",
    "        initial_learning_rate = 0.01\n",
    "        epochs = 75\n",
    "        #epochs = 5\n",
    "        lr = ReduceLROnPlateau(monitor=\"val_loss\", \n",
    "                               factor=0.7, \n",
    "                               patience=3, \n",
    "                               verbose=0)\n",
    "\n",
    "        model = build_UNET()\n",
    "        \n",
    "        model.compile(\n",
    "            loss=tf.keras.losses.BinaryCrossentropy(),\n",
    "            optimizer=tf.keras.optimizers.Nadam(\n",
    "                learning_rate=initial_learning_rate, \n",
    "                clipvalue=0.5, \n",
    "                clipnorm=1.0\n",
    "            ),\n",
    "            metrics=[\"accuracy\"],\n",
    "        )\n",
    "\n",
    "        mcp_save = tf.keras.callbacks.ModelCheckpoint(\n",
    "            f\"./models/best_model_{fold}.keras\",\n",
    "            save_best_only=True,\n",
    "            monitor=\"val_loss\",\n",
    "            mode=\"auto\",\n",
    "        )\n",
    "\n",
    "        ES = EarlyStopping(\n",
    "            monitor=\"val_loss\",\n",
    "            min_delta=0,\n",
    "            patience=10,\n",
    "            verbose=0,\n",
    "            mode=\"auto\",\n",
    "            baseline=None,\n",
    "            restore_best_weights=True,\n",
    "        )\n",
    "\n",
    "        history = model.fit(\n",
    "            X_train,\n",
    "            y_train,\n",
    "            epochs=epochs,\n",
    "            verbose=1,\n",
    "            batch_size=batch_size,\n",
    "            validation_data=(\n",
    "                    X_val, \n",
    "                    y_val, \n",
    "                    ),\n",
    "            callbacks=[lr, mcp_save, ES],\n",
    "        )\n",
    "\n",
    "        y_pred = model.predict(X_val, \n",
    "                               batch_size=batch_size, \n",
    "                               verbose=0).ravel()\n",
    "\n",
    "        score = amex_metric_mod(y_val, y_pred)\n",
    "        print(f\"Fold {fold + 1}: {score}\")\n",
    "\n",
    "        fold_scores.append(score)\n",
    "        del (\n",
    "            model,\n",
    "            history,\n",
    "            mcp_save,\n",
    "        )\n",
    "\n",
    "        del y_pred, score, X_train, y_train, X_val, y_val\n",
    "        gc.collect()\n",
    "\n",
    "    gc.collect()\n",
    "    print(f\"Overall score: {np.mean(fold_scores, axis=0)}\")\n",
    "    del fold_scores"
   ],
   "metadata": {
    "execution": {
     "iopub.status.busy": "2024-04-05T15:22:27.414759Z",
     "iopub.execute_input": "2024-04-05T15:22:27.415194Z",
     "iopub.status.idle": "2024-04-05T15:22:27.431435Z",
     "shell.execute_reply.started": "2024-04-05T15:22:27.415157Z",
     "shell.execute_reply": "2024-04-05T15:22:27.430482Z"
    },
    "trusted": true,
    "ExecuteTime": {
     "end_time": "2024-04-06T18:07:43.591110Z",
     "start_time": "2024-04-06T18:07:43.578629Z"
    }
   },
   "execution_count": 49,
   "outputs": []
  },
  {
   "cell_type": "code",
   "source": [
    "# TRAINING\n",
    "warnings.filterwarnings(\"ignore\")\n",
    "models = run(images, target)"
   ],
   "metadata": {
    "execution": {
     "iopub.status.busy": "2024-04-05T15:22:27.432618Z",
     "iopub.execute_input": "2024-04-05T15:22:27.433316Z",
     "iopub.status.idle": "2024-04-05T15:29:04.549531Z",
     "shell.execute_reply.started": "2024-04-05T15:22:27.433286Z",
     "shell.execute_reply": "2024-04-05T15:29:04.548508Z"
    },
    "trusted": true,
    "ExecuteTime": {
     "end_time": "2024-04-06T18:20:07.530536Z",
     "start_time": "2024-04-06T18:08:05.459375Z"
    }
   },
   "execution_count": 51,
   "outputs": [
    {
     "name": "stdout",
     "output_type": "stream",
     "text": [
      "#### fold: 1 ####\n",
      "Epoch 1/75\n"
     ]
    },
    {
     "name": "stderr",
     "output_type": "stream",
     "text": [
      "WARNING: All log messages before absl::InitializeLog() is called are written to STDERR\n",
      "I0000 00:00:1712426895.374587    2165 service.cc:145] XLA service 0x7f3c9c009fa0 initialized for platform CUDA (this does not guarantee that XLA will be used). Devices:\n",
      "I0000 00:00:1712426895.375191    2165 service.cc:153]   StreamExecutor device (0): NVIDIA GeForce RTX 3090, Compute Capability 8.6\n",
      "2024-04-06 18:08:15.654175: I tensorflow/compiler/mlir/tensorflow/utils/dump_mlir_util.cc:268] disabling MLIR crash reproducer, set env var `MLIR_CRASH_REPRODUCER_DIRECTORY` to enable.\n",
      "2024-04-06 18:08:16.733907: I external/local_xla/xla/stream_executor/cuda/cuda_dnn.cc:465] Loaded cuDNN version 8906\n"
     ]
    },
    {
     "name": "stdout",
     "output_type": "stream",
     "text": [
      "\u001B[1m  7/306\u001B[0m \u001B[37m━━━━━━━━━━━━━━━━━━━━\u001B[0m \u001B[1m6s\u001B[0m 23ms/step - accuracy: 0.5014 - loss: 28.6043"
     ]
    },
    {
     "name": "stderr",
     "output_type": "stream",
     "text": [
      "I0000 00:00:1712426906.860576    2165 device_compiler.h:188] Compiled cluster using XLA!  This line is logged at most once for the lifetime of the process.\n"
     ]
    },
    {
     "name": "stdout",
     "output_type": "stream",
     "text": [
      "\u001B[1m306/306\u001B[0m \u001B[32m━━━━━━━━━━━━━━━━━━━━\u001B[0m\u001B[37m\u001B[0m \u001B[1m40s\u001B[0m 69ms/step - accuracy: 0.7382 - loss: 14.0524 - val_accuracy: 0.7884 - val_loss: 0.3998 - learning_rate: 0.0100\n",
      "Epoch 2/75\n",
      "\u001B[1m306/306\u001B[0m \u001B[32m━━━━━━━━━━━━━━━━━━━━\u001B[0m\u001B[37m\u001B[0m \u001B[1m8s\u001B[0m 25ms/step - accuracy: 0.8847 - loss: 0.2579 - val_accuracy: 0.8880 - val_loss: 0.2604 - learning_rate: 0.0100\n",
      "Epoch 3/75\n",
      "\u001B[1m306/306\u001B[0m \u001B[32m━━━━━━━━━━━━━━━━━━━━\u001B[0m\u001B[37m\u001B[0m \u001B[1m8s\u001B[0m 25ms/step - accuracy: 0.8889 - loss: 0.2483 - val_accuracy: 0.8893 - val_loss: 0.2466 - learning_rate: 0.0100\n",
      "Epoch 4/75\n",
      "\u001B[1m306/306\u001B[0m \u001B[32m━━━━━━━━━━━━━━━━━━━━\u001B[0m\u001B[37m\u001B[0m \u001B[1m8s\u001B[0m 25ms/step - accuracy: 0.8913 - loss: 0.2427 - val_accuracy: 0.8914 - val_loss: 0.2437 - learning_rate: 0.0100\n",
      "Epoch 5/75\n",
      "\u001B[1m306/306\u001B[0m \u001B[32m━━━━━━━━━━━━━━━━━━━━\u001B[0m\u001B[37m\u001B[0m \u001B[1m8s\u001B[0m 25ms/step - accuracy: 0.8926 - loss: 0.2403 - val_accuracy: 0.8925 - val_loss: 0.2414 - learning_rate: 0.0100\n",
      "Epoch 6/75\n",
      "\u001B[1m306/306\u001B[0m \u001B[32m━━━━━━━━━━━━━━━━━━━━\u001B[0m\u001B[37m\u001B[0m \u001B[1m8s\u001B[0m 25ms/step - accuracy: 0.8934 - loss: 0.2385 - val_accuracy: 0.8935 - val_loss: 0.2397 - learning_rate: 0.0100\n",
      "Epoch 7/75\n",
      "\u001B[1m306/306\u001B[0m \u001B[32m━━━━━━━━━━━━━━━━━━━━\u001B[0m\u001B[37m\u001B[0m \u001B[1m8s\u001B[0m 25ms/step - accuracy: 0.8933 - loss: 0.2385 - val_accuracy: 0.8926 - val_loss: 0.2425 - learning_rate: 0.0100\n",
      "Epoch 8/75\n",
      "\u001B[1m306/306\u001B[0m \u001B[32m━━━━━━━━━━━━━━━━━━━━\u001B[0m\u001B[37m\u001B[0m \u001B[1m8s\u001B[0m 25ms/step - accuracy: 0.8943 - loss: 0.2357 - val_accuracy: 0.8938 - val_loss: 0.2398 - learning_rate: 0.0100\n",
      "Epoch 9/75\n",
      "\u001B[1m306/306\u001B[0m \u001B[32m━━━━━━━━━━━━━━━━━━━━\u001B[0m\u001B[37m\u001B[0m \u001B[1m8s\u001B[0m 25ms/step - accuracy: 0.8946 - loss: 0.2360 - val_accuracy: 0.8899 - val_loss: 0.2474 - learning_rate: 0.0100\n",
      "Epoch 10/75\n",
      "\u001B[1m306/306\u001B[0m \u001B[32m━━━━━━━━━━━━━━━━━━━━\u001B[0m\u001B[37m\u001B[0m \u001B[1m8s\u001B[0m 26ms/step - accuracy: 0.8961 - loss: 0.2319 - val_accuracy: 0.8940 - val_loss: 0.2390 - learning_rate: 0.0070\n",
      "Epoch 11/75\n",
      "\u001B[1m306/306\u001B[0m \u001B[32m━━━━━━━━━━━━━━━━━━━━\u001B[0m\u001B[37m\u001B[0m \u001B[1m8s\u001B[0m 25ms/step - accuracy: 0.8967 - loss: 0.2310 - val_accuracy: 0.8934 - val_loss: 0.2399 - learning_rate: 0.0070\n",
      "Epoch 12/75\n",
      "\u001B[1m306/306\u001B[0m \u001B[32m━━━━━━━━━━━━━━━━━━━━\u001B[0m\u001B[37m\u001B[0m \u001B[1m8s\u001B[0m 26ms/step - accuracy: 0.8972 - loss: 0.2304 - val_accuracy: 0.8945 - val_loss: 0.2380 - learning_rate: 0.0070\n",
      "Epoch 13/75\n",
      "\u001B[1m306/306\u001B[0m \u001B[32m━━━━━━━━━━━━━━━━━━━━\u001B[0m\u001B[37m\u001B[0m \u001B[1m8s\u001B[0m 25ms/step - accuracy: 0.8976 - loss: 0.2299 - val_accuracy: 0.8940 - val_loss: 0.2389 - learning_rate: 0.0070\n",
      "Epoch 14/75\n",
      "\u001B[1m306/306\u001B[0m \u001B[32m━━━━━━━━━━━━━━━━━━━━\u001B[0m\u001B[37m\u001B[0m \u001B[1m8s\u001B[0m 25ms/step - accuracy: 0.8978 - loss: 0.2294 - val_accuracy: 0.8924 - val_loss: 0.2422 - learning_rate: 0.0070\n",
      "Epoch 15/75\n",
      "\u001B[1m306/306\u001B[0m \u001B[32m━━━━━━━━━━━━━━━━━━━━\u001B[0m\u001B[37m\u001B[0m \u001B[1m8s\u001B[0m 25ms/step - accuracy: 0.8981 - loss: 0.2290 - val_accuracy: 0.8917 - val_loss: 0.2435 - learning_rate: 0.0070\n",
      "Epoch 16/75\n",
      "\u001B[1m306/306\u001B[0m \u001B[32m━━━━━━━━━━━━━━━━━━━━\u001B[0m\u001B[37m\u001B[0m \u001B[1m8s\u001B[0m 25ms/step - accuracy: 0.8984 - loss: 0.2277 - val_accuracy: 0.8964 - val_loss: 0.2346 - learning_rate: 0.0049\n",
      "Epoch 17/75\n",
      "\u001B[1m306/306\u001B[0m \u001B[32m━━━━━━━━━━━━━━━━━━━━\u001B[0m\u001B[37m\u001B[0m \u001B[1m8s\u001B[0m 25ms/step - accuracy: 0.8990 - loss: 0.2271 - val_accuracy: 0.8962 - val_loss: 0.2349 - learning_rate: 0.0049\n",
      "Epoch 18/75\n",
      "\u001B[1m306/306\u001B[0m \u001B[32m━━━━━━━━━━━━━━━━━━━━\u001B[0m\u001B[37m\u001B[0m \u001B[1m8s\u001B[0m 26ms/step - accuracy: 0.8991 - loss: 0.2267 - val_accuracy: 0.8965 - val_loss: 0.2340 - learning_rate: 0.0049\n",
      "Epoch 19/75\n",
      "\u001B[1m306/306\u001B[0m \u001B[32m━━━━━━━━━━━━━━━━━━━━\u001B[0m\u001B[37m\u001B[0m \u001B[1m8s\u001B[0m 25ms/step - accuracy: 0.8996 - loss: 0.2263 - val_accuracy: 0.8966 - val_loss: 0.2344 - learning_rate: 0.0049\n",
      "Epoch 20/75\n",
      "\u001B[1m306/306\u001B[0m \u001B[32m━━━━━━━━━━━━━━━━━━━━\u001B[0m\u001B[37m\u001B[0m \u001B[1m8s\u001B[0m 25ms/step - accuracy: 0.8997 - loss: 0.2258 - val_accuracy: 0.8967 - val_loss: 0.2340 - learning_rate: 0.0049\n",
      "Epoch 21/75\n",
      "\u001B[1m306/306\u001B[0m \u001B[32m━━━━━━━━━━━━━━━━━━━━\u001B[0m\u001B[37m\u001B[0m \u001B[1m8s\u001B[0m 25ms/step - accuracy: 0.9001 - loss: 0.2253 - val_accuracy: 0.8963 - val_loss: 0.2334 - learning_rate: 0.0049\n",
      "Epoch 22/75\n",
      "\u001B[1m306/306\u001B[0m \u001B[32m━━━━━━━━━━━━━━━━━━━━\u001B[0m\u001B[37m\u001B[0m \u001B[1m8s\u001B[0m 25ms/step - accuracy: 0.8999 - loss: 0.2249 - val_accuracy: 0.8962 - val_loss: 0.2337 - learning_rate: 0.0049\n",
      "Epoch 23/75\n",
      "\u001B[1m306/306\u001B[0m \u001B[32m━━━━━━━━━━━━━━━━━━━━\u001B[0m\u001B[37m\u001B[0m \u001B[1m8s\u001B[0m 25ms/step - accuracy: 0.9004 - loss: 0.2244 - val_accuracy: 0.8964 - val_loss: 0.2338 - learning_rate: 0.0049\n",
      "Epoch 24/75\n",
      "\u001B[1m306/306\u001B[0m \u001B[32m━━━━━━━━━━━━━━━━━━━━\u001B[0m\u001B[37m\u001B[0m \u001B[1m8s\u001B[0m 26ms/step - accuracy: 0.9006 - loss: 0.2242 - val_accuracy: 0.8961 - val_loss: 0.2337 - learning_rate: 0.0049\n",
      "Epoch 25/75\n",
      "\u001B[1m306/306\u001B[0m \u001B[32m━━━━━━━━━━━━━━━━━━━━\u001B[0m\u001B[37m\u001B[0m \u001B[1m8s\u001B[0m 25ms/step - accuracy: 0.9009 - loss: 0.2229 - val_accuracy: 0.8967 - val_loss: 0.2337 - learning_rate: 0.0034\n",
      "Epoch 26/75\n",
      "\u001B[1m306/306\u001B[0m \u001B[32m━━━━━━━━━━━━━━━━━━━━\u001B[0m\u001B[37m\u001B[0m \u001B[1m8s\u001B[0m 25ms/step - accuracy: 0.9014 - loss: 0.2222 - val_accuracy: 0.8966 - val_loss: 0.2336 - learning_rate: 0.0034\n",
      "Epoch 27/75\n",
      "\u001B[1m306/306\u001B[0m \u001B[32m━━━━━━━━━━━━━━━━━━━━\u001B[0m\u001B[37m\u001B[0m \u001B[1m8s\u001B[0m 25ms/step - accuracy: 0.9014 - loss: 0.2217 - val_accuracy: 0.8968 - val_loss: 0.2341 - learning_rate: 0.0034\n",
      "Epoch 28/75\n",
      "\u001B[1m306/306\u001B[0m \u001B[32m━━━━━━━━━━━━━━━━━━━━\u001B[0m\u001B[37m\u001B[0m \u001B[1m8s\u001B[0m 26ms/step - accuracy: 0.9018 - loss: 0.2209 - val_accuracy: 0.8965 - val_loss: 0.2339 - learning_rate: 0.0024\n",
      "Epoch 29/75\n",
      "\u001B[1m306/306\u001B[0m \u001B[32m━━━━━━━━━━━━━━━━━━━━\u001B[0m\u001B[37m\u001B[0m \u001B[1m8s\u001B[0m 25ms/step - accuracy: 0.9024 - loss: 0.2202 - val_accuracy: 0.8964 - val_loss: 0.2340 - learning_rate: 0.0024\n",
      "Epoch 30/75\n",
      "\u001B[1m306/306\u001B[0m \u001B[32m━━━━━━━━━━━━━━━━━━━━\u001B[0m\u001B[37m\u001B[0m \u001B[1m8s\u001B[0m 25ms/step - accuracy: 0.9025 - loss: 0.2199 - val_accuracy: 0.8945 - val_loss: 0.2381 - learning_rate: 0.0024\n",
      "Epoch 31/75\n",
      "\u001B[1m306/306\u001B[0m \u001B[32m━━━━━━━━━━━━━━━━━━━━\u001B[0m\u001B[37m\u001B[0m \u001B[1m8s\u001B[0m 26ms/step - accuracy: 0.9016 - loss: 0.2212 - val_accuracy: 0.8948 - val_loss: 0.2372 - learning_rate: 0.0017\n",
      "Fold 1: 0.7691773970571396\n",
      "#### fold: 2 ####\n",
      "Epoch 1/75\n",
      "\u001B[1m306/306\u001B[0m \u001B[32m━━━━━━━━━━━━━━━━━━━━\u001B[0m\u001B[37m\u001B[0m \u001B[1m25s\u001B[0m 46ms/step - accuracy: 0.7292 - loss: 4.9196 - val_accuracy: 0.8826 - val_loss: 0.2650 - learning_rate: 0.0100\n",
      "Epoch 2/75\n",
      "\u001B[1m306/306\u001B[0m \u001B[32m━━━━━━━━━━━━━━━━━━━━\u001B[0m\u001B[37m\u001B[0m \u001B[1m8s\u001B[0m 26ms/step - accuracy: 0.8847 - loss: 0.2581 - val_accuracy: 0.8885 - val_loss: 0.2486 - learning_rate: 0.0100\n",
      "Epoch 3/75\n",
      "\u001B[1m306/306\u001B[0m \u001B[32m━━━━━━━━━━━━━━━━━━━━\u001B[0m\u001B[37m\u001B[0m \u001B[1m8s\u001B[0m 26ms/step - accuracy: 0.8893 - loss: 0.2489 - val_accuracy: 0.8909 - val_loss: 0.2437 - learning_rate: 0.0100\n",
      "Epoch 4/75\n",
      "\u001B[1m306/306\u001B[0m \u001B[32m━━━━━━━━━━━━━━━━━━━━\u001B[0m\u001B[37m\u001B[0m \u001B[1m8s\u001B[0m 26ms/step - accuracy: 0.8909 - loss: 0.2438 - val_accuracy: 0.8923 - val_loss: 0.2411 - learning_rate: 0.0100\n",
      "Epoch 5/75\n",
      "\u001B[1m306/306\u001B[0m \u001B[32m━━━━━━━━━━━━━━━━━━━━\u001B[0m\u001B[37m\u001B[0m \u001B[1m8s\u001B[0m 25ms/step - accuracy: 0.8929 - loss: 0.2407 - val_accuracy: 0.8934 - val_loss: 0.2392 - learning_rate: 0.0100\n",
      "Epoch 6/75\n",
      "\u001B[1m306/306\u001B[0m \u001B[32m━━━━━━━━━━━━━━━━━━━━\u001B[0m\u001B[37m\u001B[0m \u001B[1m8s\u001B[0m 26ms/step - accuracy: 0.8938 - loss: 0.2383 - val_accuracy: 0.8942 - val_loss: 0.2384 - learning_rate: 0.0100\n",
      "Epoch 7/75\n",
      "\u001B[1m306/306\u001B[0m \u001B[32m━━━━━━━━━━━━━━━━━━━━\u001B[0m\u001B[37m\u001B[0m \u001B[1m8s\u001B[0m 25ms/step - accuracy: 0.8949 - loss: 0.2368 - val_accuracy: 0.8925 - val_loss: 0.2499 - learning_rate: 0.0100\n",
      "Epoch 8/75\n",
      "\u001B[1m306/306\u001B[0m \u001B[32m━━━━━━━━━━━━━━━━━━━━\u001B[0m\u001B[37m\u001B[0m \u001B[1m8s\u001B[0m 25ms/step - accuracy: 0.8954 - loss: 0.2354 - val_accuracy: 0.8932 - val_loss: 0.2480 - learning_rate: 0.0100\n",
      "Epoch 9/75\n",
      "\u001B[1m306/306\u001B[0m \u001B[32m━━━━━━━━━━━━━━━━━━━━\u001B[0m\u001B[37m\u001B[0m \u001B[1m8s\u001B[0m 25ms/step - accuracy: 0.8960 - loss: 0.2341 - val_accuracy: 0.8924 - val_loss: 0.2599 - learning_rate: 0.0100\n",
      "Epoch 10/75\n",
      "\u001B[1m306/306\u001B[0m \u001B[32m━━━━━━━━━━━━━━━━━━━━\u001B[0m\u001B[37m\u001B[0m \u001B[1m8s\u001B[0m 25ms/step - accuracy: 0.8968 - loss: 0.2321 - val_accuracy: 0.8925 - val_loss: 0.2430 - learning_rate: 0.0070\n",
      "Epoch 11/75\n",
      "\u001B[1m306/306\u001B[0m \u001B[32m━━━━━━━━━━━━━━━━━━━━\u001B[0m\u001B[37m\u001B[0m \u001B[1m8s\u001B[0m 26ms/step - accuracy: 0.8977 - loss: 0.2313 - val_accuracy: 0.8922 - val_loss: 0.2462 - learning_rate: 0.0070\n",
      "Epoch 12/75\n",
      "\u001B[1m306/306\u001B[0m \u001B[32m━━━━━━━━━━━━━━━━━━━━\u001B[0m\u001B[37m\u001B[0m \u001B[1m8s\u001B[0m 25ms/step - accuracy: 0.8984 - loss: 0.2305 - val_accuracy: 0.8952 - val_loss: 0.2386 - learning_rate: 0.0070\n",
      "Epoch 13/75\n",
      "\u001B[1m306/306\u001B[0m \u001B[32m━━━━━━━━━━━━━━━━━━━━\u001B[0m\u001B[37m\u001B[0m \u001B[1m8s\u001B[0m 26ms/step - accuracy: 0.8987 - loss: 0.2288 - val_accuracy: 0.8953 - val_loss: 0.2384 - learning_rate: 0.0049\n",
      "Epoch 14/75\n",
      "\u001B[1m306/306\u001B[0m \u001B[32m━━━━━━━━━━━━━━━━━━━━\u001B[0m\u001B[37m\u001B[0m \u001B[1m8s\u001B[0m 26ms/step - accuracy: 0.8995 - loss: 0.2276 - val_accuracy: 0.8953 - val_loss: 0.2376 - learning_rate: 0.0049\n",
      "Epoch 15/75\n",
      "\u001B[1m306/306\u001B[0m \u001B[32m━━━━━━━━━━━━━━━━━━━━\u001B[0m\u001B[37m\u001B[0m \u001B[1m8s\u001B[0m 26ms/step - accuracy: 0.8999 - loss: 0.2268 - val_accuracy: 0.8957 - val_loss: 0.2357 - learning_rate: 0.0049\n",
      "Epoch 16/75\n",
      "\u001B[1m306/306\u001B[0m \u001B[32m━━━━━━━━━━━━━━━━━━━━\u001B[0m\u001B[37m\u001B[0m \u001B[1m8s\u001B[0m 26ms/step - accuracy: 0.9004 - loss: 0.2261 - val_accuracy: 0.8943 - val_loss: 0.2400 - learning_rate: 0.0049\n",
      "Epoch 17/75\n",
      "\u001B[1m306/306\u001B[0m \u001B[32m━━━━━━━━━━━━━━━━━━━━\u001B[0m\u001B[37m\u001B[0m \u001B[1m8s\u001B[0m 25ms/step - accuracy: 0.9008 - loss: 0.2254 - val_accuracy: 0.8936 - val_loss: 0.2406 - learning_rate: 0.0049\n",
      "Epoch 18/75\n",
      "\u001B[1m306/306\u001B[0m \u001B[32m━━━━━━━━━━━━━━━━━━━━\u001B[0m\u001B[37m\u001B[0m \u001B[1m8s\u001B[0m 26ms/step - accuracy: 0.9011 - loss: 0.2244 - val_accuracy: 0.8945 - val_loss: 0.2354 - learning_rate: 0.0049\n",
      "Epoch 19/75\n",
      "\u001B[1m306/306\u001B[0m \u001B[32m━━━━━━━━━━━━━━━━━━━━\u001B[0m\u001B[37m\u001B[0m \u001B[1m8s\u001B[0m 25ms/step - accuracy: 0.9007 - loss: 0.2237 - val_accuracy: 0.8940 - val_loss: 0.2367 - learning_rate: 0.0049\n",
      "Epoch 20/75\n",
      "\u001B[1m306/306\u001B[0m \u001B[32m━━━━━━━━━━━━━━━━━━━━\u001B[0m\u001B[37m\u001B[0m \u001B[1m8s\u001B[0m 25ms/step - accuracy: 0.9008 - loss: 0.2233 - val_accuracy: 0.8927 - val_loss: 0.2417 - learning_rate: 0.0049\n",
      "Epoch 21/75\n",
      "\u001B[1m306/306\u001B[0m \u001B[32m━━━━━━━━━━━━━━━━━━━━\u001B[0m\u001B[37m\u001B[0m \u001B[1m8s\u001B[0m 26ms/step - accuracy: 0.9014 - loss: 0.2223 - val_accuracy: 0.8930 - val_loss: 0.2416 - learning_rate: 0.0049\n",
      "Epoch 22/75\n",
      "\u001B[1m306/306\u001B[0m \u001B[32m━━━━━━━━━━━━━━━━━━━━\u001B[0m\u001B[37m\u001B[0m \u001B[1m8s\u001B[0m 26ms/step - accuracy: 0.9026 - loss: 0.2205 - val_accuracy: 0.8948 - val_loss: 0.2341 - learning_rate: 0.0034\n",
      "Epoch 23/75\n",
      "\u001B[1m306/306\u001B[0m \u001B[32m━━━━━━━━━━━━━━━━━━━━\u001B[0m\u001B[37m\u001B[0m \u001B[1m8s\u001B[0m 26ms/step - accuracy: 0.9035 - loss: 0.2188 - val_accuracy: 0.8951 - val_loss: 0.2344 - learning_rate: 0.0034\n",
      "Epoch 24/75\n",
      "\u001B[1m306/306\u001B[0m \u001B[32m━━━━━━━━━━━━━━━━━━━━\u001B[0m\u001B[37m\u001B[0m \u001B[1m8s\u001B[0m 25ms/step - accuracy: 0.9040 - loss: 0.2176 - val_accuracy: 0.8940 - val_loss: 0.2365 - learning_rate: 0.0034\n",
      "Epoch 25/75\n",
      "\u001B[1m306/306\u001B[0m \u001B[32m━━━━━━━━━━━━━━━━━━━━\u001B[0m\u001B[37m\u001B[0m \u001B[1m8s\u001B[0m 25ms/step - accuracy: 0.9043 - loss: 0.2164 - val_accuracy: 0.8955 - val_loss: 0.2344 - learning_rate: 0.0034\n",
      "Epoch 26/75\n",
      "\u001B[1m306/306\u001B[0m \u001B[32m━━━━━━━━━━━━━━━━━━━━\u001B[0m\u001B[37m\u001B[0m \u001B[1m8s\u001B[0m 26ms/step - accuracy: 0.9048 - loss: 0.2154 - val_accuracy: 0.8951 - val_loss: 0.2344 - learning_rate: 0.0024\n",
      "Epoch 27/75\n",
      "\u001B[1m306/306\u001B[0m \u001B[32m━━━━━━━━━━━━━━━━━━━━\u001B[0m\u001B[37m\u001B[0m \u001B[1m8s\u001B[0m 25ms/step - accuracy: 0.9056 - loss: 0.2134 - val_accuracy: 0.8944 - val_loss: 0.2363 - learning_rate: 0.0024\n",
      "Epoch 28/75\n",
      "\u001B[1m306/306\u001B[0m \u001B[32m━━━━━━━━━━━━━━━━━━━━\u001B[0m\u001B[37m\u001B[0m \u001B[1m8s\u001B[0m 25ms/step - accuracy: 0.9069 - loss: 0.2116 - val_accuracy: 0.8939 - val_loss: 0.2365 - learning_rate: 0.0024\n",
      "Epoch 29/75\n",
      "\u001B[1m306/306\u001B[0m \u001B[32m━━━━━━━━━━━━━━━━━━━━\u001B[0m\u001B[37m\u001B[0m \u001B[1m8s\u001B[0m 26ms/step - accuracy: 0.9073 - loss: 0.2101 - val_accuracy: 0.8949 - val_loss: 0.2359 - learning_rate: 0.0017\n",
      "Epoch 30/75\n",
      "\u001B[1m306/306\u001B[0m \u001B[32m━━━━━━━━━━━━━━━━━━━━\u001B[0m\u001B[37m\u001B[0m \u001B[1m8s\u001B[0m 26ms/step - accuracy: 0.9084 - loss: 0.2087 - val_accuracy: 0.8948 - val_loss: 0.2369 - learning_rate: 0.0017\n",
      "Epoch 31/75\n",
      "\u001B[1m306/306\u001B[0m \u001B[32m━━━━━━━━━━━━━━━━━━━━\u001B[0m\u001B[37m\u001B[0m \u001B[1m8s\u001B[0m 26ms/step - accuracy: 0.9094 - loss: 0.2069 - val_accuracy: 0.8937 - val_loss: 0.2378 - learning_rate: 0.0017\n",
      "Epoch 32/75\n",
      "\u001B[1m306/306\u001B[0m \u001B[32m━━━━━━━━━━━━━━━━━━━━\u001B[0m\u001B[37m\u001B[0m \u001B[1m8s\u001B[0m 26ms/step - accuracy: 0.9091 - loss: 0.2079 - val_accuracy: 0.8940 - val_loss: 0.2377 - learning_rate: 0.0012\n",
      "Fold 2: 0.7707918391751791\n",
      "#### fold: 3 ####\n",
      "Epoch 1/75\n",
      "\u001B[1m306/306\u001B[0m \u001B[32m━━━━━━━━━━━━━━━━━━━━\u001B[0m\u001B[37m\u001B[0m \u001B[1m26s\u001B[0m 46ms/step - accuracy: 0.7737 - loss: 6.9921 - val_accuracy: 0.8897 - val_loss: 0.2540 - learning_rate: 0.0100\n",
      "Epoch 2/75\n",
      "\u001B[1m306/306\u001B[0m \u001B[32m━━━━━━━━━━━━━━━━━━━━\u001B[0m\u001B[37m\u001B[0m \u001B[1m8s\u001B[0m 26ms/step - accuracy: 0.8939 - loss: 0.2368 - val_accuracy: 0.8956 - val_loss: 0.2335 - learning_rate: 0.0100\n",
      "Epoch 3/75\n",
      "\u001B[1m306/306\u001B[0m \u001B[32m━━━━━━━━━━━━━━━━━━━━\u001B[0m\u001B[37m\u001B[0m \u001B[1m8s\u001B[0m 26ms/step - accuracy: 0.8957 - loss: 0.2340 - val_accuracy: 0.8964 - val_loss: 0.2317 - learning_rate: 0.0100\n",
      "Epoch 4/75\n",
      "\u001B[1m306/306\u001B[0m \u001B[32m━━━━━━━━━━━━━━━━━━━━\u001B[0m\u001B[37m\u001B[0m \u001B[1m8s\u001B[0m 25ms/step - accuracy: 0.8957 - loss: 0.2330 - val_accuracy: 0.8954 - val_loss: 0.2343 - learning_rate: 0.0100\n",
      "Epoch 5/75\n",
      "\u001B[1m306/306\u001B[0m \u001B[32m━━━━━━━━━━━━━━━━━━━━\u001B[0m\u001B[37m\u001B[0m \u001B[1m8s\u001B[0m 25ms/step - accuracy: 0.8963 - loss: 0.2322 - val_accuracy: 0.8966 - val_loss: 0.2343 - learning_rate: 0.0100\n",
      "Epoch 6/75\n",
      "\u001B[1m306/306\u001B[0m \u001B[32m━━━━━━━━━━━━━━━━━━━━\u001B[0m\u001B[37m\u001B[0m \u001B[1m8s\u001B[0m 26ms/step - accuracy: 0.8967 - loss: 0.2318 - val_accuracy: 0.8969 - val_loss: 0.2363 - learning_rate: 0.0100\n",
      "Epoch 7/75\n",
      "\u001B[1m306/306\u001B[0m \u001B[32m━━━━━━━━━━━━━━━━━━━━\u001B[0m\u001B[37m\u001B[0m \u001B[1m8s\u001B[0m 26ms/step - accuracy: 0.8970 - loss: 0.2305 - val_accuracy: 0.8970 - val_loss: 0.2314 - learning_rate: 0.0070\n",
      "Epoch 8/75\n",
      "\u001B[1m306/306\u001B[0m \u001B[32m━━━━━━━━━━━━━━━━━━━━\u001B[0m\u001B[37m\u001B[0m \u001B[1m8s\u001B[0m 26ms/step - accuracy: 0.8980 - loss: 0.2298 - val_accuracy: 0.8968 - val_loss: 0.2306 - learning_rate: 0.0070\n",
      "Epoch 9/75\n",
      "\u001B[1m306/306\u001B[0m \u001B[32m━━━━━━━━━━━━━━━━━━━━\u001B[0m\u001B[37m\u001B[0m \u001B[1m8s\u001B[0m 25ms/step - accuracy: 0.8630 - loss: 0.3904 - val_accuracy: 0.8756 - val_loss: 0.2784 - learning_rate: 0.0070\n",
      "Epoch 10/75\n",
      "\u001B[1m306/306\u001B[0m \u001B[32m━━━━━━━━━━━━━━━━━━━━\u001B[0m\u001B[37m\u001B[0m \u001B[1m8s\u001B[0m 25ms/step - accuracy: 0.8764 - loss: 0.2768 - val_accuracy: 0.8814 - val_loss: 0.2727 - learning_rate: 0.0070\n",
      "Epoch 11/75\n",
      "\u001B[1m306/306\u001B[0m \u001B[32m━━━━━━━━━━━━━━━━━━━━\u001B[0m\u001B[37m\u001B[0m \u001B[1m8s\u001B[0m 25ms/step - accuracy: 0.8809 - loss: 0.2648 - val_accuracy: 0.8863 - val_loss: 0.2648 - learning_rate: 0.0070\n",
      "Epoch 12/75\n",
      "\u001B[1m306/306\u001B[0m \u001B[32m━━━━━━━━━━━━━━━━━━━━\u001B[0m\u001B[37m\u001B[0m \u001B[1m8s\u001B[0m 26ms/step - accuracy: 0.8847 - loss: 0.2571 - val_accuracy: 0.8887 - val_loss: 0.2535 - learning_rate: 0.0049\n",
      "Epoch 13/75\n",
      "\u001B[1m306/306\u001B[0m \u001B[32m━━━━━━━━━━━━━━━━━━━━\u001B[0m\u001B[37m\u001B[0m \u001B[1m8s\u001B[0m 25ms/step - accuracy: 0.8871 - loss: 0.2524 - val_accuracy: 0.8904 - val_loss: 0.2477 - learning_rate: 0.0049\n",
      "Epoch 14/75\n",
      "\u001B[1m306/306\u001B[0m \u001B[32m━━━━━━━━━━━━━━━━━━━━\u001B[0m\u001B[37m\u001B[0m \u001B[1m8s\u001B[0m 25ms/step - accuracy: 0.8884 - loss: 0.2490 - val_accuracy: 0.8917 - val_loss: 0.2469 - learning_rate: 0.0049\n",
      "Epoch 15/75\n",
      "\u001B[1m306/306\u001B[0m \u001B[32m━━━━━━━━━━━━━━━━━━━━\u001B[0m\u001B[37m\u001B[0m \u001B[1m8s\u001B[0m 26ms/step - accuracy: 0.8894 - loss: 0.2460 - val_accuracy: 0.8928 - val_loss: 0.2436 - learning_rate: 0.0034\n",
      "Epoch 16/75\n",
      "\u001B[1m306/306\u001B[0m \u001B[32m━━━━━━━━━━━━━━━━━━━━\u001B[0m\u001B[37m\u001B[0m \u001B[1m8s\u001B[0m 26ms/step - accuracy: 0.8906 - loss: 0.2437 - val_accuracy: 0.8929 - val_loss: 0.2432 - learning_rate: 0.0034\n",
      "Epoch 17/75\n",
      "\u001B[1m306/306\u001B[0m \u001B[32m━━━━━━━━━━━━━━━━━━━━\u001B[0m\u001B[37m\u001B[0m \u001B[1m8s\u001B[0m 25ms/step - accuracy: 0.8914 - loss: 0.2414 - val_accuracy: 0.8937 - val_loss: 0.2427 - learning_rate: 0.0034\n",
      "Epoch 18/75\n",
      "\u001B[1m306/306\u001B[0m \u001B[32m━━━━━━━━━━━━━━━━━━━━\u001B[0m\u001B[37m\u001B[0m \u001B[1m8s\u001B[0m 26ms/step - accuracy: 0.8922 - loss: 0.2390 - val_accuracy: 0.8945 - val_loss: 0.2409 - learning_rate: 0.0024\n",
      "Fold 3: 0.7748669824327941\n",
      "Overall score: 0.771612072888371\n"
     ]
    }
   ]
  },
  {
   "cell_type": "markdown",
   "source": [
    "# Inference"
   ],
   "metadata": {}
  },
  {
   "cell_type": "code",
   "outputs": [
    {
     "data": {
      "text/plain": "1456"
     },
     "execution_count": 20,
     "metadata": {},
     "output_type": "execute_result"
    }
   ],
   "source": [
    "del images\n",
    "gc.collect()"
   ],
   "metadata": {
    "collapsed": false,
    "ExecuteTime": {
     "end_time": "2024-04-06T22:52:51.496755Z",
     "start_time": "2024-04-06T22:52:51.077765Z"
    }
   },
   "execution_count": 20
  },
  {
   "cell_type": "code",
   "outputs": [
    {
     "name": "stdout",
     "output_type": "stream",
     "text": [
      "shape of data: (11363762, 190)\n",
      "Number of num_features:  177\n",
      "shape after engineering (924621, 741)\n"
     ]
    }
   ],
   "source": [
    "def read_file(path = '', usecols = None):\n",
    "    if usecols is not None: df = pd.read_parquet(path, columns=usecols)\n",
    "    else: df = pd.read_parquet(path)\n",
    "    df.S_2 = pd.to_datetime( df.S_2 )\n",
    "    df = df.fillna(-0.5) \n",
    "    print('shape of data:', df.shape)\n",
    "    \n",
    "    return df\n",
    "\n",
    "TEST_PATH = 'test.parquet'\n",
    "test = read_file(path = TEST_PATH)\n",
    "test = process_and_feature_engineer(test)"
   ],
   "metadata": {
    "collapsed": false,
    "ExecuteTime": {
     "end_time": "2024-04-06T22:52:25.254985Z",
     "start_time": "2024-04-06T22:51:08.465465Z"
    }
   },
   "execution_count": 17
  },
  {
   "cell_type": "code",
   "outputs": [
    {
     "data": {
      "text/plain": "0"
     },
     "execution_count": 18,
     "metadata": {},
     "output_type": "execute_result"
    }
   ],
   "source": [
    "test.isna().sum().sum()"
   ],
   "metadata": {
    "collapsed": false,
    "ExecuteTime": {
     "end_time": "2024-04-06T22:52:25.700035Z",
     "start_time": "2024-04-06T22:52:25.256986Z"
    }
   },
   "execution_count": 18
  },
  {
   "cell_type": "code",
   "outputs": [],
   "source": [
    "test = ss.transform(test)\n",
    "test = converter.transform(test)"
   ],
   "metadata": {
    "collapsed": false,
    "ExecuteTime": {
     "end_time": "2024-04-06T22:53:09.920880Z",
     "start_time": "2024-04-06T22:52:58.853623Z"
    }
   },
   "execution_count": 21
  },
  {
   "cell_type": "code",
   "source": [
    "fig, ax = plt.subplots(3, 4, figsize=(15, 10))\n",
    "ax = ax.flatten()\n",
    "for i in range(12):\n",
    "    ax[i].title.set_text(f\"test image {i}\")\n",
    "    ax[i].imshow(test[i], cmap = \"gray\")\n",
    "\n",
    "plt.show()"
   ],
   "metadata": {
    "execution": {
     "iopub.status.busy": "2024-04-05T15:29:25.055110Z",
     "iopub.execute_input": "2024-04-05T15:29:25.055426Z",
     "iopub.status.idle": "2024-04-05T15:29:26.207739Z",
     "shell.execute_reply.started": "2024-04-05T15:29:25.055398Z",
     "shell.execute_reply": "2024-04-05T15:29:26.206761Z"
    },
    "trusted": true,
    "ExecuteTime": {
     "end_time": "2024-04-06T22:53:10.772763Z",
     "start_time": "2024-04-06T22:53:09.922610Z"
    }
   },
   "execution_count": 22,
   "outputs": [
    {
     "data": {
      "text/plain": "<Figure size 1500x1000 with 12 Axes>",
      "image/png": "[encoded data removed]"
     },
     "metadata": {},
     "output_type": "display_data"
    }
   ]
  },
  {
   "cell_type": "code",
   "outputs": [],
   "source": [
    "model_path = \"./models_d\"\n",
    "pred_path = \"./predictions_d\"\n",
    "for num, model in enumerate(os.listdir(model_path+\"/\")):\n",
    "    # loop to make predictions in chunks\n",
    "    preds = []\n",
    "    model = keras.models.load_model(model_path+\"/\" + model)\n",
    "    chunk_size = int(test.shape[0] / 10)\n",
    "    for start in range(0, test.shape[0], chunk_size):\n",
    "        test_subset = test[start : start + chunk_size]\n",
    "        preds.extend(model.predict(test_subset, batch_size=batch_size, verbose=0).flatten())\n",
    "\n",
    "    # loop to save predictions\n",
    "    sub = pd.read_csv(\"sample_submission.csv\")\n",
    "    del sub[\"prediction\"]\n",
    "    sub[\"prediction\"] = preds\n",
    "    sub.to_csv(pred_path+f\"/{num}_preds.csv\")\n",
    "    del sub, model\n",
    "    gc.collect()\n",
    "    \n",
    "sub = pd.read_csv(\"sample_submission.csv\")\n",
    "del sub[\"prediction\"]\n",
    "gc.collect()\n",
    "\n",
    "# average predictions for final score\n",
    "for num, data in enumerate(os.listdir(pred_path+\"/\")):\n",
    "\n",
    "    p1 = pd.read_csv(pred_path+f\"/{data}\")\n",
    "    del p1[\"Unnamed: 0\"]\n",
    "    sub[f\"{num}_prediction\"] = p1[\"prediction\"]\n",
    "\n",
    "    del p1\n",
    "    gc.collect()\n",
    "\n",
    "sub.to_csv(\"test_output.csv\")\n",
    "sub[\"prediction\"] = sub.iloc[:, 1:].mean(axis=1)\n",
    "sub = sub[[\"customer_ID\", \"prediction\"]]\n",
    "sub.to_csv(\"submission.csv\", index=False)"
   ],
   "metadata": {
    "collapsed": false,
    "ExecuteTime": {
     "end_time": "2024-04-06T22:55:07.413333Z",
     "start_time": "2024-04-06T22:54:11.950538Z"
    }
   },
   "execution_count": 23
  },
  {
   "cell_type": "code",
   "outputs": [
    {
     "data": {
      "text/plain": "                                         customer_ID  prediction\n0  00000469ba478561f23a92a868bd366de6f6527a684c9a...    0.064805\n1  00001bf2e77ff879fab36aa4fac689b9ba411dae63ae39...    0.002361\n2  0000210045da4f81e5f122c6bde5c2a617d03eef67f82c...    0.055087\n3  00003b41e58ede33b8daf61ab56d9952f17c9ad1c3976c...    0.294898\n4  00004b22eaeeeb0ec976890c1d9bfc14fd9427e98c4ee9...    0.811430",
      "text/html": "<div>\n<style scoped>\n    .dataframe tbody tr th:only-of-type {\n        vertical-align: middle;\n    }\n\n    .dataframe tbody tr th {\n        vertical-align: top;\n    }\n\n    .dataframe thead th {\n        text-align: right;\n    }\n</style>\n<table border=\"1\" class=\"dataframe\">\n  <thead>\n    <tr style=\"text-align: right;\">\n      <th></th>\n      <th>customer_ID</th>\n      <th>prediction</th>\n    </tr>\n  </thead>\n  <tbody>\n    <tr>\n      <th>0</th>\n      <td>00000469ba478561f23a92a868bd366de6f6527a684c9a...</td>\n      <td>0.064805</td>\n    </tr>\n    <tr>\n      <th>1</th>\n      <td>00001bf2e77ff879fab36aa4fac689b9ba411dae63ae39...</td>\n      <td>0.002361</td>\n    </tr>\n    <tr>\n      <th>2</th>\n      <td>0000210045da4f81e5f122c6bde5c2a617d03eef67f82c...</td>\n      <td>0.055087</td>\n    </tr>\n    <tr>\n      <th>3</th>\n      <td>00003b41e58ede33b8daf61ab56d9952f17c9ad1c3976c...</td>\n      <td>0.294898</td>\n    </tr>\n    <tr>\n      <th>4</th>\n      <td>00004b22eaeeeb0ec976890c1d9bfc14fd9427e98c4ee9...</td>\n      <td>0.811430</td>\n    </tr>\n  </tbody>\n</table>\n</div>"
     },
     "execution_count": 24,
     "metadata": {},
     "output_type": "execute_result"
    }
   ],
   "source": [
    "sub.head()"
   ],
   "metadata": {
    "collapsed": false,
    "ExecuteTime": {
     "end_time": "2024-04-06T22:55:07.424284Z",
     "start_time": "2024-04-06T22:55:07.415604Z"
    }
   },
   "execution_count": 24
  },
  {
   "cell_type": "code",
   "outputs": [],
   "source": [
    "model_path = \"./models_aug\"\n",
    "pred_path = \"./predictions_aug\"\n",
    "# Make predictions\n",
    "for num, model in enumerate(os.listdir(model_path+\"/\")):\n",
    "    # loop to make predictions in chunks\n",
    "    preds = []\n",
    "    model = keras.models.load_model(model_path+\"/\" + model)\n",
    "    chunk_size = int(test.shape[0] / 10)\n",
    "    for start in range(0, test.shape[0], chunk_size):\n",
    "        test_subset = test[start : start + chunk_size]\n",
    "        preds.extend(model.predict(test_subset, batch_size=batch_size, verbose=0).flatten())\n",
    "\n",
    "    # loop to save predictions\n",
    "    sub = pd.read_csv(\"sample_submission.csv\")\n",
    "    del sub[\"prediction\"]\n",
    "    sub[\"prediction\"] = preds\n",
    "    sub.to_csv(pred_path+f\"/{num}_preds.csv\")\n",
    "    del sub, model\n",
    "    gc.collect()\n",
    "    \n",
    "sub = pd.read_csv(\"sample_submission.csv\")\n",
    "del sub[\"prediction\"]\n",
    "gc.collect()\n",
    "\n",
    "# average predictions for final score\n",
    "for num, data in enumerate(os.listdir(pred_path+\"/\")):\n",
    "\n",
    "    p1 = pd.read_csv(pred_path+f\"/{data}\")\n",
    "    del p1[\"Unnamed: 0\"]\n",
    "    sub[f\"{num}_prediction\"] = p1[\"prediction\"]\n",
    "\n",
    "    del p1\n",
    "    gc.collect()\n",
    "\n",
    "sub.to_csv(\"test_output.csv\")\n",
    "sub[\"prediction\"] = sub.iloc[:, 1:].mean(axis=1)\n",
    "sub = sub[[\"customer_ID\", \"prediction\"]]\n",
    "sub.to_csv(\"submission.csv\", index=False)"
   ],
   "metadata": {
    "collapsed": false,
    "ExecuteTime": {
     "end_time": "2024-04-06T22:14:12.354140Z",
     "start_time": "2024-04-06T22:13:04.329209Z"
    }
   },
   "execution_count": 33
  },
  {
   "cell_type": "code",
   "outputs": [
    {
     "data": {
      "text/plain": "                                         customer_ID  prediction\n0  00000469ba478561f23a92a868bd366de6f6527a684c9a...    0.187481\n1  00001bf2e77ff879fab36aa4fac689b9ba411dae63ae39...    0.114655\n2  0000210045da4f81e5f122c6bde5c2a617d03eef67f82c...    0.133678\n3  00003b41e58ede33b8daf61ab56d9952f17c9ad1c3976c...    0.401972\n4  00004b22eaeeeb0ec976890c1d9bfc14fd9427e98c4ee9...    0.570983",
      "text/html": "<div>\n<style scoped>\n    .dataframe tbody tr th:only-of-type {\n        vertical-align: middle;\n    }\n\n    .dataframe tbody tr th {\n        vertical-align: top;\n    }\n\n    .dataframe thead th {\n        text-align: right;\n    }\n</style>\n<table border=\"1\" class=\"dataframe\">\n  <thead>\n    <tr style=\"text-align: right;\">\n      <th></th>\n      <th>customer_ID</th>\n      <th>prediction</th>\n    </tr>\n  </thead>\n  <tbody>\n    <tr>\n      <th>0</th>\n      <td>00000469ba478561f23a92a868bd366de6f6527a684c9a...</td>\n      <td>0.187481</td>\n    </tr>\n    <tr>\n      <th>1</th>\n      <td>00001bf2e77ff879fab36aa4fac689b9ba411dae63ae39...</td>\n      <td>0.114655</td>\n    </tr>\n    <tr>\n      <th>2</th>\n      <td>0000210045da4f81e5f122c6bde5c2a617d03eef67f82c...</td>\n      <td>0.133678</td>\n    </tr>\n    <tr>\n      <th>3</th>\n      <td>00003b41e58ede33b8daf61ab56d9952f17c9ad1c3976c...</td>\n      <td>0.401972</td>\n    </tr>\n    <tr>\n      <th>4</th>\n      <td>00004b22eaeeeb0ec976890c1d9bfc14fd9427e98c4ee9...</td>\n      <td>0.570983</td>\n    </tr>\n  </tbody>\n</table>\n</div>"
     },
     "execution_count": 34,
     "metadata": {},
     "output_type": "execute_result"
    }
   ],
   "source": [
    "sub.head()"
   ],
   "metadata": {
    "collapsed": false,
    "ExecuteTime": {
     "end_time": "2024-04-06T22:14:12.365681Z",
     "start_time": "2024-04-06T22:14:12.356617Z"
    }
   },
   "execution_count": 34
  },
  {
   "cell_type": "code",
   "source": [
    "# Make predictions\n",
    "for num, model in enumerate(os.listdir(\"./models/\")):\n",
    "    # loop to make predictions in chunks\n",
    "    preds = []\n",
    "    model = keras.models.load_model(\"./models/\" + model)\n",
    "    chunk_size = int(test.shape[0] / 10)\n",
    "    for start in range(0, test.shape[0], chunk_size):\n",
    "        test_subset = test[start : start + chunk_size]\n",
    "        preds.extend(model.predict(test_subset, batch_size=batch_size, verbose=0).flatten())\n",
    "\n",
    "    # loop to save predictions\n",
    "    sub = pd.read_csv(\"sample_submission.csv\")\n",
    "    del sub[\"prediction\"]\n",
    "    sub[\"prediction\"] = preds\n",
    "    sub.to_csv(f\"./predictions/{num}_preds.csv\")\n",
    "    del sub, model\n",
    "    gc.collect()"
   ],
   "metadata": {
    "execution": {
     "iopub.status.busy": "2024-04-05T15:29:26.208960Z",
     "iopub.execute_input": "2024-04-05T15:29:26.209246Z",
     "iopub.status.idle": "2024-04-05T15:30:49.115194Z",
     "shell.execute_reply.started": "2024-04-05T15:29:26.209220Z",
     "shell.execute_reply": "2024-04-05T15:30:49.114323Z"
    },
    "trusted": true,
    "ExecuteTime": {
     "end_time": "2024-04-06T18:26:12.497478Z",
     "start_time": "2024-04-06T18:25:19.869707Z"
    }
   },
   "execution_count": 58,
   "outputs": []
  },
  {
   "cell_type": "code",
   "outputs": [
    {
     "data": {
      "text/plain": "0"
     },
     "execution_count": 59,
     "metadata": {},
     "output_type": "execute_result"
    }
   ],
   "source": [
    "sub = pd.read_csv(\"sample_submission.csv\")\n",
    "del sub[\"prediction\"]\n",
    "gc.collect()"
   ],
   "metadata": {
    "collapsed": false,
    "ExecuteTime": {
     "end_time": "2024-04-06T18:26:13.577147Z",
     "start_time": "2024-04-06T18:26:12.499518Z"
    }
   },
   "execution_count": 59
  },
  {
   "cell_type": "code",
   "source": [
    "# average predictions for final score\n",
    "for num, data in enumerate(os.listdir(\"./predictions/\")):\n",
    "\n",
    "    p1 = pd.read_csv(f\"./predictions/{data}\")\n",
    "    del p1[\"Unnamed: 0\"]\n",
    "    sub[f\"{num}_prediction\"] = p1[\"prediction\"]\n",
    "\n",
    "    del p1\n",
    "    gc.collect()\n",
    "\n",
    "sub.to_csv(\"test_output.csv\")\n",
    "sub[\"prediction\"] = sub.iloc[:, 1:].mean(axis=1)\n",
    "sub = sub[[\"customer_ID\", \"prediction\"]]\n",
    "sub.to_csv(\"submission.csv\", index=False)"
   ],
   "metadata": {
    "execution": {
     "iopub.status.busy": "2024-04-05T15:30:50.299447Z",
     "iopub.execute_input": "2024-04-05T15:30:50.299842Z",
     "iopub.status.idle": "2024-04-05T15:31:06.802788Z",
     "shell.execute_reply.started": "2024-04-05T15:30:50.299796Z",
     "shell.execute_reply": "2024-04-05T15:31:06.801935Z"
    },
    "trusted": true,
    "ExecuteTime": {
     "end_time": "2024-04-06T18:26:22.669374Z",
     "start_time": "2024-04-06T18:26:13.578371Z"
    }
   },
   "execution_count": 60,
   "outputs": []
  },
  {
   "cell_type": "code",
   "source": [
    "sub.head()"
   ],
   "metadata": {
    "execution": {
     "iopub.status.busy": "2024-04-05T15:31:06.803968Z",
     "iopub.execute_input": "2024-04-05T15:31:06.804293Z",
     "iopub.status.idle": "2024-04-05T15:31:06.817350Z",
     "shell.execute_reply.started": "2024-04-05T15:31:06.804265Z",
     "shell.execute_reply": "2024-04-05T15:31:06.816368Z"
    },
    "trusted": true,
    "ExecuteTime": {
     "end_time": "2024-04-06T18:26:22.691307Z",
     "start_time": "2024-04-06T18:26:22.678515Z"
    }
   },
   "execution_count": 62,
   "outputs": [
    {
     "data": {
      "text/plain": "                                         customer_ID  prediction\n0  00000469ba478561f23a92a868bd366de6f6527a684c9a...    0.096609\n1  00001bf2e77ff879fab36aa4fac689b9ba411dae63ae39...    0.003035\n2  0000210045da4f81e5f122c6bde5c2a617d03eef67f82c...    0.068820\n3  00003b41e58ede33b8daf61ab56d9952f17c9ad1c3976c...    0.324311\n4  00004b22eaeeeb0ec976890c1d9bfc14fd9427e98c4ee9...    0.865393",
      "text/html": "<div>\n<style scoped>\n    .dataframe tbody tr th:only-of-type {\n        vertical-align: middle;\n    }\n\n    .dataframe tbody tr th {\n        vertical-align: top;\n    }\n\n    .dataframe thead th {\n        text-align: right;\n    }\n</style>\n<table border=\"1\" class=\"dataframe\">\n  <thead>\n    <tr style=\"text-align: right;\">\n      <th></th>\n      <th>customer_ID</th>\n      <th>prediction</th>\n    </tr>\n  </thead>\n  <tbody>\n    <tr>\n      <th>0</th>\n      <td>00000469ba478561f23a92a868bd366de6f6527a684c9a...</td>\n      <td>0.096609</td>\n    </tr>\n    <tr>\n      <th>1</th>\n      <td>00001bf2e77ff879fab36aa4fac689b9ba411dae63ae39...</td>\n      <td>0.003035</td>\n    </tr>\n    <tr>\n      <th>2</th>\n      <td>0000210045da4f81e5f122c6bde5c2a617d03eef67f82c...</td>\n      <td>0.068820</td>\n    </tr>\n    <tr>\n      <th>3</th>\n      <td>00003b41e58ede33b8daf61ab56d9952f17c9ad1c3976c...</td>\n      <td>0.324311</td>\n    </tr>\n    <tr>\n      <th>4</th>\n      <td>00004b22eaeeeb0ec976890c1d9bfc14fd9427e98c4ee9...</td>\n      <td>0.865393</td>\n    </tr>\n  </tbody>\n</table>\n</div>"
     },
     "execution_count": 62,
     "metadata": {},
     "output_type": "execute_result"
    }
   ]
  },
  {
   "cell_type": "code",
   "outputs": [],
   "source": [],
   "metadata": {
    "collapsed": false
   },
   "execution_count": null
  }
 ]
}
